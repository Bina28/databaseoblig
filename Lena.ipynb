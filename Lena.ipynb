{
 "cells": [
  {
   "cell_type": "code",
   "execution_count": 1,
   "id": "8e60b3aa-12ae-4984-b5b2-e364dd1f6d00",
   "metadata": {},
   "outputs": [],
   "source": [
    "import polars as pl"
   ]
  },
  {
   "cell_type": "code",
   "execution_count": 2,
   "id": "8289bdff-d999-45ec-acc0-ee3acc7d42f1",
   "metadata": {},
   "outputs": [],
   "source": [
    "df_preppet = pl.read_parquet('kjoretoyinfo_preppet.parquet')"
   ]
  },
  {
   "cell_type": "code",
   "execution_count": 3,
   "id": "3c75268e-4f9a-4f30-bee0-ded0b9e26220",
   "metadata": {},
   "outputs": [
    {
     "data": {
      "text/html": [
       "<div><style>\n",
       ".dataframe > thead > tr,\n",
       ".dataframe > tbody > tr {\n",
       "  text-align: right;\n",
       "  white-space: pre-wrap;\n",
       "}\n",
       "</style>\n",
       "<small>shape: (554_219, 8)</small><table border=\"1\" class=\"dataframe\"><thead><tr><th>tekn_reg_f_g_n</th><th>tekn_reg_eier_dato</th><th>tekn_aksler_drift</th><th>tekn_merke</th><th>tekn_modell</th><th>tekn_drivstoff</th><th>tekn_neste_pkk</th><th>er_elektrisk</th></tr><tr><td>date</td><td>date</td><td>i64</td><td>i64</td><td>str</td><td>str</td><td>date</td><td>bool</td></tr></thead><tbody><tr><td>2021-10-13</td><td>2021-10-13</td><td>2</td><td>3900</td><td>&quot;VITO&quot;</td><td>&quot;2&quot;</td><td>2025-10-13</td><td>false</td></tr><tr><td>2020-01-29</td><td>2020-01-29</td><td>2</td><td>5750</td><td>&quot;CADDY&quot;</td><td>&quot;2&quot;</td><td>2026-01-29</td><td>false</td></tr><tr><td>2023-11-29</td><td>2023-11-29</td><td>1</td><td>2600</td><td>&quot;Mustang Mach-E…</td><td>&quot;5&quot;</td><td>2027-11-29</td><td>true</td></tr><tr><td>2020-01-27</td><td>2020-01-27</td><td>2</td><td>5750</td><td>&quot;CADDY&quot;</td><td>&quot;2&quot;</td><td>2024-01-27</td><td>false</td></tr><tr><td>2020-05-19</td><td>2020-05-19</td><td>1</td><td>5750</td><td>&quot;CRAFTER&quot;</td><td>&quot;2&quot;</td><td>2024-05-19</td><td>false</td></tr><tr><td>&hellip;</td><td>&hellip;</td><td>&hellip;</td><td>&hellip;</td><td>&hellip;</td><td>&hellip;</td><td>&hellip;</td><td>&hellip;</td></tr><tr><td>2021-10-21</td><td>2021-10-21</td><td>2</td><td>3900</td><td>&quot;GLE 350 de 4MA…</td><td>&quot;2,5&quot;</td><td>2025-10-21</td><td>false</td></tr><tr><td>2023-09-01</td><td>2023-09-01</td><td>0</td><td>320</td><td>&quot;Adora 573 PT&quot;</td><td>null</td><td>null</td><td>null</td></tr><tr><td>2020-12-29</td><td>2020-12-29</td><td>1</td><td>4000</td><td>&quot;MG ZS EV&quot;</td><td>&quot;5&quot;</td><td>2024-12-29</td><td>true</td></tr><tr><td>2022-12-07</td><td>2022-12-07</td><td>2</td><td>4360</td><td>&quot;Model Y&quot;</td><td>&quot;5,5&quot;</td><td>2026-12-07</td><td>false</td></tr><tr><td>2021-08-19</td><td>2021-08-19</td><td>1</td><td>3900</td><td>&quot;Sprinter&quot;</td><td>&quot;2&quot;</td><td>2024-08-19</td><td>false</td></tr></tbody></table></div>"
      ],
      "text/plain": [
       "shape: (554_219, 8)\n",
       "┌────────────────┬────────────────────┬───────────────────┬────────────┬───────────────────┬────────────────┬────────────────┬──────────────┐\n",
       "│ tekn_reg_f_g_n ┆ tekn_reg_eier_dato ┆ tekn_aksler_drift ┆ tekn_merke ┆ tekn_modell       ┆ tekn_drivstoff ┆ tekn_neste_pkk ┆ er_elektrisk │\n",
       "│ ---            ┆ ---                ┆ ---               ┆ ---        ┆ ---               ┆ ---            ┆ ---            ┆ ---          │\n",
       "│ date           ┆ date               ┆ i64               ┆ i64        ┆ str               ┆ str            ┆ date           ┆ bool         │\n",
       "╞════════════════╪════════════════════╪═══════════════════╪════════════╪═══════════════════╪════════════════╪════════════════╪══════════════╡\n",
       "│ 2021-10-13     ┆ 2021-10-13         ┆ 2                 ┆ 3900       ┆ VITO              ┆ 2              ┆ 2025-10-13     ┆ false        │\n",
       "│ 2020-01-29     ┆ 2020-01-29         ┆ 2                 ┆ 5750       ┆ CADDY             ┆ 2              ┆ 2026-01-29     ┆ false        │\n",
       "│ 2023-11-29     ┆ 2023-11-29         ┆ 1                 ┆ 2600       ┆ Mustang Mach-E    ┆ 5              ┆ 2027-11-29     ┆ true         │\n",
       "│ 2020-01-27     ┆ 2020-01-27         ┆ 2                 ┆ 5750       ┆ CADDY             ┆ 2              ┆ 2024-01-27     ┆ false        │\n",
       "│ 2020-05-19     ┆ 2020-05-19         ┆ 1                 ┆ 5750       ┆ CRAFTER           ┆ 2              ┆ 2024-05-19     ┆ false        │\n",
       "│ …              ┆ …                  ┆ …                 ┆ …          ┆ …                 ┆ …              ┆ …              ┆ …            │\n",
       "│ 2021-10-21     ┆ 2021-10-21         ┆ 2                 ┆ 3900       ┆ GLE 350 de 4MATIC ┆ 2,5            ┆ 2025-10-21     ┆ false        │\n",
       "│ 2023-09-01     ┆ 2023-09-01         ┆ 0                 ┆ 320        ┆ Adora 573 PT      ┆ null           ┆ null           ┆ null         │\n",
       "│ 2020-12-29     ┆ 2020-12-29         ┆ 1                 ┆ 4000       ┆ MG ZS EV          ┆ 5              ┆ 2024-12-29     ┆ true         │\n",
       "│ 2022-12-07     ┆ 2022-12-07         ┆ 2                 ┆ 4360       ┆ Model Y           ┆ 5,5            ┆ 2026-12-07     ┆ false        │\n",
       "│ 2021-08-19     ┆ 2021-08-19         ┆ 1                 ┆ 3900       ┆ Sprinter          ┆ 2              ┆ 2024-08-19     ┆ false        │\n",
       "└────────────────┴────────────────────┴───────────────────┴────────────┴───────────────────┴────────────────┴────────────────┴──────────────┘"
      ]
     },
     "execution_count": 3,
     "metadata": {},
     "output_type": "execute_result"
    }
   ],
   "source": [
    "df_preppet"
   ]
  },
  {
   "cell_type": "code",
   "execution_count": 7,
   "id": "f2870829-1601-4c24-a08a-27f1088ed400",
   "metadata": {},
   "outputs": [],
   "source": [
    "import pandas as pd\n",
    "\n",
    "# Les inn datasettet\n",
    "dataset = pd.read_parquet('kjoretoyinfo_preppet.parquet')\n"
   ]
  },
  {
   "cell_type": "code",
   "execution_count": 8,
   "id": "96de77b6-f51d-40cc-9924-a5f31bd144ad",
   "metadata": {},
   "outputs": [
    {
     "ename": "AttributeError",
     "evalue": "Can only use .dt accessor with datetimelike values",
     "output_type": "error",
     "traceback": [
      "\u001b[1;31m---------------------------------------------------------------------------\u001b[0m",
      "\u001b[1;31mAttributeError\u001b[0m                            Traceback (most recent call last)",
      "Cell \u001b[1;32mIn[8], line 2\u001b[0m\n\u001b[0;32m      1\u001b[0m \u001b[38;5;66;03m# Filtrer ut bare radene med førstegangsregistrering i Mai 2022 og farge gul\u001b[39;00m\n\u001b[1;32m----> 2\u001b[0m mai_2022_gule_kjoretoy \u001b[38;5;241m=\u001b[39m dataset[(\u001b[43mdataset\u001b[49m\u001b[43m[\u001b[49m\u001b[38;5;124;43m'\u001b[39;49m\u001b[38;5;124;43mtekn_reg_f_g_n\u001b[39;49m\u001b[38;5;124;43m'\u001b[39;49m\u001b[43m]\u001b[49m\u001b[38;5;241;43m.\u001b[39;49m\u001b[43mdt\u001b[49m\u001b[38;5;241m.\u001b[39mmonth \u001b[38;5;241m==\u001b[39m \u001b[38;5;241m5\u001b[39m) \u001b[38;5;241m&\u001b[39m (dataset[\u001b[38;5;124m'\u001b[39m\u001b[38;5;124mtekn_reg_f_g_n\u001b[39m\u001b[38;5;124m'\u001b[39m]\u001b[38;5;241m.\u001b[39mdt\u001b[38;5;241m.\u001b[39myear \u001b[38;5;241m==\u001b[39m \u001b[38;5;241m2022\u001b[39m) \u001b[38;5;241m&\u001b[39m (dataset[\u001b[38;5;124m'\u001b[39m\u001b[38;5;124mtekn_farge\u001b[39m\u001b[38;5;124m'\u001b[39m] \u001b[38;5;241m==\u001b[39m \u001b[38;5;124m'\u001b[39m\u001b[38;5;124mGul\u001b[39m\u001b[38;5;124m'\u001b[39m)]\n",
      "File \u001b[1;32m~\\miniconda3\\envs\\databaseoblig\\lib\\site-packages\\pandas\\core\\generic.py:6296\u001b[0m, in \u001b[0;36mNDFrame.__getattr__\u001b[1;34m(self, name)\u001b[0m\n\u001b[0;32m   6289\u001b[0m \u001b[38;5;28;01mif\u001b[39;00m (\n\u001b[0;32m   6290\u001b[0m     name \u001b[38;5;129;01mnot\u001b[39;00m \u001b[38;5;129;01min\u001b[39;00m \u001b[38;5;28mself\u001b[39m\u001b[38;5;241m.\u001b[39m_internal_names_set\n\u001b[0;32m   6291\u001b[0m     \u001b[38;5;129;01mand\u001b[39;00m name \u001b[38;5;129;01mnot\u001b[39;00m \u001b[38;5;129;01min\u001b[39;00m \u001b[38;5;28mself\u001b[39m\u001b[38;5;241m.\u001b[39m_metadata\n\u001b[0;32m   6292\u001b[0m     \u001b[38;5;129;01mand\u001b[39;00m name \u001b[38;5;129;01mnot\u001b[39;00m \u001b[38;5;129;01min\u001b[39;00m \u001b[38;5;28mself\u001b[39m\u001b[38;5;241m.\u001b[39m_accessors\n\u001b[0;32m   6293\u001b[0m     \u001b[38;5;129;01mand\u001b[39;00m \u001b[38;5;28mself\u001b[39m\u001b[38;5;241m.\u001b[39m_info_axis\u001b[38;5;241m.\u001b[39m_can_hold_identifiers_and_holds_name(name)\n\u001b[0;32m   6294\u001b[0m ):\n\u001b[0;32m   6295\u001b[0m     \u001b[38;5;28;01mreturn\u001b[39;00m \u001b[38;5;28mself\u001b[39m[name]\n\u001b[1;32m-> 6296\u001b[0m \u001b[38;5;28;01mreturn\u001b[39;00m \u001b[38;5;28;43mobject\u001b[39;49m\u001b[38;5;241;43m.\u001b[39;49m\u001b[38;5;21;43m__getattribute__\u001b[39;49m\u001b[43m(\u001b[49m\u001b[38;5;28;43mself\u001b[39;49m\u001b[43m,\u001b[49m\u001b[43m \u001b[49m\u001b[43mname\u001b[49m\u001b[43m)\u001b[49m\n",
      "File \u001b[1;32m~\\miniconda3\\envs\\databaseoblig\\lib\\site-packages\\pandas\\core\\accessor.py:224\u001b[0m, in \u001b[0;36mCachedAccessor.__get__\u001b[1;34m(self, obj, cls)\u001b[0m\n\u001b[0;32m    221\u001b[0m \u001b[38;5;28;01mif\u001b[39;00m obj \u001b[38;5;129;01mis\u001b[39;00m \u001b[38;5;28;01mNone\u001b[39;00m:\n\u001b[0;32m    222\u001b[0m     \u001b[38;5;66;03m# we're accessing the attribute of the class, i.e., Dataset.geo\u001b[39;00m\n\u001b[0;32m    223\u001b[0m     \u001b[38;5;28;01mreturn\u001b[39;00m \u001b[38;5;28mself\u001b[39m\u001b[38;5;241m.\u001b[39m_accessor\n\u001b[1;32m--> 224\u001b[0m accessor_obj \u001b[38;5;241m=\u001b[39m \u001b[38;5;28;43mself\u001b[39;49m\u001b[38;5;241;43m.\u001b[39;49m\u001b[43m_accessor\u001b[49m\u001b[43m(\u001b[49m\u001b[43mobj\u001b[49m\u001b[43m)\u001b[49m\n\u001b[0;32m    225\u001b[0m \u001b[38;5;66;03m# Replace the property with the accessor object. Inspired by:\u001b[39;00m\n\u001b[0;32m    226\u001b[0m \u001b[38;5;66;03m# https://www.pydanny.com/cached-property.html\u001b[39;00m\n\u001b[0;32m    227\u001b[0m \u001b[38;5;66;03m# We need to use object.__setattr__ because we overwrite __setattr__ on\u001b[39;00m\n\u001b[0;32m    228\u001b[0m \u001b[38;5;66;03m# NDFrame\u001b[39;00m\n\u001b[0;32m    229\u001b[0m \u001b[38;5;28mobject\u001b[39m\u001b[38;5;241m.\u001b[39m\u001b[38;5;21m__setattr__\u001b[39m(obj, \u001b[38;5;28mself\u001b[39m\u001b[38;5;241m.\u001b[39m_name, accessor_obj)\n",
      "File \u001b[1;32m~\\miniconda3\\envs\\databaseoblig\\lib\\site-packages\\pandas\\core\\indexes\\accessors.py:643\u001b[0m, in \u001b[0;36mCombinedDatetimelikeProperties.__new__\u001b[1;34m(cls, data)\u001b[0m\n\u001b[0;32m    640\u001b[0m \u001b[38;5;28;01melif\u001b[39;00m \u001b[38;5;28misinstance\u001b[39m(data\u001b[38;5;241m.\u001b[39mdtype, PeriodDtype):\n\u001b[0;32m    641\u001b[0m     \u001b[38;5;28;01mreturn\u001b[39;00m PeriodProperties(data, orig)\n\u001b[1;32m--> 643\u001b[0m \u001b[38;5;28;01mraise\u001b[39;00m \u001b[38;5;167;01mAttributeError\u001b[39;00m(\u001b[38;5;124m\"\u001b[39m\u001b[38;5;124mCan only use .dt accessor with datetimelike values\u001b[39m\u001b[38;5;124m\"\u001b[39m)\n",
      "\u001b[1;31mAttributeError\u001b[0m: Can only use .dt accessor with datetimelike values"
     ]
    }
   ],
   "source": [
    "# Filtrer ut bare radene med førstegangsregistrering i Mai 2022 og farge gul\n",
    "mai_2022_gule_kjoretoy = dataset[(dataset['tekn_reg_f_g_n'].dt.month == 5) & (dataset['tekn_reg_f_g_n'].dt.year == 2022) & (dataset['tekn_farge'] == 'Gul')]\n"
   ]
  },
  {
   "cell_type": "code",
   "execution_count": 9,
   "id": "791d1eca-9acd-45c3-ab6b-25fd9ddbb6ec",
   "metadata": {},
   "outputs": [],
   "source": [
    "dataset['tekn_reg_f_g_n'] = pd.to_datetime(dataset['tekn_reg_f_g_n'])\n"
   ]
  },
  {
   "cell_type": "code",
   "execution_count": 11,
   "id": "4a321626-04ac-4e9a-a0a0-4fc8a86144a5",
   "metadata": {},
   "outputs": [],
   "source": [
    "mai_2022_gule_kjoretoy = dataset[(dataset['tekn_reg_f_g_n'].dt.month == 5) & (dataset['tekn_reg_f_g_n'].dt.year == 2022) & (dataset['tekn_farge'] == 'Gul')]\n"
   ]
  },
  {
   "cell_type": "code",
   "execution_count": 13,
   "id": "aac18494-fc18-4325-811e-4ed354dec4fc",
   "metadata": {},
   "outputs": [],
   "source": [
    "# Tell antallet rader i det filtrerte datasettet\n",
    "antall_gule_kjoretoy = len(mai_2022_gule_kjoretoy)\n"
   ]
  },
  {
   "cell_type": "code",
   "execution_count": 14,
   "id": "87e39507-ca8f-470c-8037-a8757dcd3c4a",
   "metadata": {},
   "outputs": [
    {
     "name": "stdout",
     "output_type": "stream",
     "text": [
      "Antall gule kjøretøy solgt i Mai 2022: 0\n"
     ]
    }
   ],
   "source": [
    "# Skriv ut resultatet\n",
    "print(\"Antall gule kjøretøy solgt i Mai 2022:\", antall_gule_kjoretoy)\n"
   ]
  },
  {
   "cell_type": "code",
   "execution_count": 20,
   "id": "ee1d97bf-9e6a-4885-b303-7752af39f686",
   "metadata": {},
   "outputs": [
    {
     "name": "stdout",
     "output_type": "stream",
     "text": [
      "Det er ingen data om traktorer som ble førstegangsregistrert i 2022, eller ingen fargeinformasjon tilgjengelig.\n"
     ]
    }
   ],
   "source": [
    "if not farge_count.empty:\n",
    "    mest_populær_farge = farge_count.idxmax()\n",
    "    print(\"Den mest populære fargen for traktorer i 2022 er:\", mest_populær_farge)\n",
    "else:\n",
    "    print(\"Det er ingen data om traktorer som ble førstegangsregistrert i 2022, eller ingen fargeinformasjon tilgjengelig.\")\n"
   ]
  },
  {
   "cell_type": "code",
   "execution_count": 22,
   "id": "2b508c94-5d7d-4e70-9503-9ca2cd686e90",
   "metadata": {},
   "outputs": [],
   "source": [
    "# Grupper dataene etter farge og tell antall forekomster av hver farge\n",
    "farge_count = dataset['tekn_farge'].value_counts()"
   ]
  },
  {
   "cell_type": "code",
   "execution_count": 23,
   "id": "66f00130-71d9-4a67-a9d5-f3c262e1e7d4",
   "metadata": {},
   "outputs": [
    {
     "name": "stdout",
     "output_type": "stream",
     "text": [
      "Den mest populære fargen for traktorer i 2022 er: 05\n"
     ]
    }
   ],
   "source": [
    "\n",
    "# Sjekk om det er data tilgjengelig\n",
    "if not farge_count.empty:\n",
    "    # Finn den mest populære fargen (den med flest forekomster)\n",
    "    mest_populær_farge = farge_count.idxmax()\n",
    "    print(\"Den mest populære fargen for traktorer i 2022 er:\", mest_populær_farge)\n",
    "else:\n",
    "    print(\"Det er ingen data tilgjengelig for å beregne den mest populære fargen.\")"
   ]
  }
 ],
 "metadata": {
  "kernelspec": {
   "display_name": "Python 3 (ipykernel)",
   "language": "python",
   "name": "python3"
  },
  "language_info": {
   "codemirror_mode": {
    "name": "ipython",
    "version": 3
   },
   "file_extension": ".py",
   "mimetype": "text/x-python",
   "name": "python",
   "nbconvert_exporter": "python",
   "pygments_lexer": "ipython3",
   "version": "3.10.13"
  }
 },
 "nbformat": 4,
 "nbformat_minor": 5
}
