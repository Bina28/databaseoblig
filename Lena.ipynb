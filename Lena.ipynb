{
 "cells": [
  {
   "cell_type": "code",
   "execution_count": 1,
   "id": "8e60b3aa-12ae-4984-b5b2-e364dd1f6d00",
   "metadata": {},
   "outputs": [],
   "source": [
    "import polars as pl"
   ]
  },
  {
   "cell_type": "code",
   "execution_count": 2,
   "id": "8289bdff-d999-45ec-acc0-ee3acc7d42f1",
   "metadata": {},
   "outputs": [],
   "source": [
    "df_preppet = pl.read_parquet('kjoretoyinfo_preppet.parquet')"
   ]
  },
  {
   "cell_type": "code",
   "execution_count": 3,
   "id": "3c75268e-4f9a-4f30-bee0-ded0b9e26220",
   "metadata": {},
   "outputs": [
    {
     "data": {
      "text/html": [
       "<div><style>\n",
       ".dataframe > thead > tr,\n",
       ".dataframe > tbody > tr {\n",
       "  text-align: right;\n",
       "  white-space: pre-wrap;\n",
       "}\n",
       "</style>\n",
       "<small>shape: (554_219, 8)</small><table border=\"1\" class=\"dataframe\"><thead><tr><th>tekn_reg_f_g_n</th><th>tekn_reg_eier_dato</th><th>tekn_aksler_drift</th><th>tekn_merke</th><th>tekn_modell</th><th>tekn_drivstoff</th><th>tekn_neste_pkk</th><th>er_elektrisk</th></tr><tr><td>date</td><td>date</td><td>i64</td><td>i64</td><td>str</td><td>str</td><td>date</td><td>bool</td></tr></thead><tbody><tr><td>2021-10-13</td><td>2021-10-13</td><td>2</td><td>3900</td><td>&quot;VITO&quot;</td><td>&quot;2&quot;</td><td>2025-10-13</td><td>false</td></tr><tr><td>2020-01-29</td><td>2020-01-29</td><td>2</td><td>5750</td><td>&quot;CADDY&quot;</td><td>&quot;2&quot;</td><td>2026-01-29</td><td>false</td></tr><tr><td>2023-11-29</td><td>2023-11-29</td><td>1</td><td>2600</td><td>&quot;Mustang Mach-E…</td><td>&quot;5&quot;</td><td>2027-11-29</td><td>true</td></tr><tr><td>2020-01-27</td><td>2020-01-27</td><td>2</td><td>5750</td><td>&quot;CADDY&quot;</td><td>&quot;2&quot;</td><td>2024-01-27</td><td>false</td></tr><tr><td>2020-05-19</td><td>2020-05-19</td><td>1</td><td>5750</td><td>&quot;CRAFTER&quot;</td><td>&quot;2&quot;</td><td>2024-05-19</td><td>false</td></tr><tr><td>&hellip;</td><td>&hellip;</td><td>&hellip;</td><td>&hellip;</td><td>&hellip;</td><td>&hellip;</td><td>&hellip;</td><td>&hellip;</td></tr><tr><td>2021-10-21</td><td>2021-10-21</td><td>2</td><td>3900</td><td>&quot;GLE 350 de 4MA…</td><td>&quot;2,5&quot;</td><td>2025-10-21</td><td>false</td></tr><tr><td>2023-09-01</td><td>2023-09-01</td><td>0</td><td>320</td><td>&quot;Adora 573 PT&quot;</td><td>null</td><td>null</td><td>null</td></tr><tr><td>2020-12-29</td><td>2020-12-29</td><td>1</td><td>4000</td><td>&quot;MG ZS EV&quot;</td><td>&quot;5&quot;</td><td>2024-12-29</td><td>true</td></tr><tr><td>2022-12-07</td><td>2022-12-07</td><td>2</td><td>4360</td><td>&quot;Model Y&quot;</td><td>&quot;5,5&quot;</td><td>2026-12-07</td><td>false</td></tr><tr><td>2021-08-19</td><td>2021-08-19</td><td>1</td><td>3900</td><td>&quot;Sprinter&quot;</td><td>&quot;2&quot;</td><td>2024-08-19</td><td>false</td></tr></tbody></table></div>"
      ],
      "text/plain": [
       "shape: (554_219, 8)\n",
       "┌────────────────┬────────────────────┬───────────────────┬────────────┬───────────────────┬────────────────┬────────────────┬──────────────┐\n",
       "│ tekn_reg_f_g_n ┆ tekn_reg_eier_dato ┆ tekn_aksler_drift ┆ tekn_merke ┆ tekn_modell       ┆ tekn_drivstoff ┆ tekn_neste_pkk ┆ er_elektrisk │\n",
       "│ ---            ┆ ---                ┆ ---               ┆ ---        ┆ ---               ┆ ---            ┆ ---            ┆ ---          │\n",
       "│ date           ┆ date               ┆ i64               ┆ i64        ┆ str               ┆ str            ┆ date           ┆ bool         │\n",
       "╞════════════════╪════════════════════╪═══════════════════╪════════════╪═══════════════════╪════════════════╪════════════════╪══════════════╡\n",
       "│ 2021-10-13     ┆ 2021-10-13         ┆ 2                 ┆ 3900       ┆ VITO              ┆ 2              ┆ 2025-10-13     ┆ false        │\n",
       "│ 2020-01-29     ┆ 2020-01-29         ┆ 2                 ┆ 5750       ┆ CADDY             ┆ 2              ┆ 2026-01-29     ┆ false        │\n",
       "│ 2023-11-29     ┆ 2023-11-29         ┆ 1                 ┆ 2600       ┆ Mustang Mach-E    ┆ 5              ┆ 2027-11-29     ┆ true         │\n",
       "│ 2020-01-27     ┆ 2020-01-27         ┆ 2                 ┆ 5750       ┆ CADDY             ┆ 2              ┆ 2024-01-27     ┆ false        │\n",
       "│ 2020-05-19     ┆ 2020-05-19         ┆ 1                 ┆ 5750       ┆ CRAFTER           ┆ 2              ┆ 2024-05-19     ┆ false        │\n",
       "│ …              ┆ …                  ┆ …                 ┆ …          ┆ …                 ┆ …              ┆ …              ┆ …            │\n",
       "│ 2021-10-21     ┆ 2021-10-21         ┆ 2                 ┆ 3900       ┆ GLE 350 de 4MATIC ┆ 2,5            ┆ 2025-10-21     ┆ false        │\n",
       "│ 2023-09-01     ┆ 2023-09-01         ┆ 0                 ┆ 320        ┆ Adora 573 PT      ┆ null           ┆ null           ┆ null         │\n",
       "│ 2020-12-29     ┆ 2020-12-29         ┆ 1                 ┆ 4000       ┆ MG ZS EV          ┆ 5              ┆ 2024-12-29     ┆ true         │\n",
       "│ 2022-12-07     ┆ 2022-12-07         ┆ 2                 ┆ 4360       ┆ Model Y           ┆ 5,5            ┆ 2026-12-07     ┆ false        │\n",
       "│ 2021-08-19     ┆ 2021-08-19         ┆ 1                 ┆ 3900       ┆ Sprinter          ┆ 2              ┆ 2024-08-19     ┆ false        │\n",
       "└────────────────┴────────────────────┴───────────────────┴────────────┴───────────────────┴────────────────┴────────────────┴──────────────┘"
      ]
     },
     "execution_count": 3,
     "metadata": {},
     "output_type": "execute_result"
    }
   ],
   "source": [
    "df_preppet"
   ]
  },
  {
   "cell_type": "code",
   "execution_count": null,
   "id": "09f85ffb-c7f2-421b-89f2-f7f344808381",
   "metadata": {},
   "outputs": [],
   "source": []
  }
 ],
 "metadata": {
  "kernelspec": {
   "display_name": "Python 3 (ipykernel)",
   "language": "python",
   "name": "python3"
  },
  "language_info": {
   "codemirror_mode": {
    "name": "ipython",
    "version": 3
   },
   "file_extension": ".py",
   "mimetype": "text/x-python",
   "name": "python",
   "nbconvert_exporter": "python",
   "pygments_lexer": "ipython3",
   "version": "3.10.13"
  }
 },
 "nbformat": 4,
 "nbformat_minor": 5
}
