{
 "cells": [
  {
   "cell_type": "code",
   "execution_count": 9,
   "id": "3036c3c1-f077-4bc5-98b0-c442fd38a24d",
   "metadata": {},
   "outputs": [],
   "source": [
    "import polars as pl"
   ]
  },
  {
   "cell_type": "code",
   "execution_count": 10,
   "id": "db3b6981-7342-4cb3-a86c-661d5fb807ff",
   "metadata": {},
   "outputs": [],
   "source": [
    "from datetime import date"
   ]
  },
  {
   "cell_type": "code",
   "execution_count": 11,
   "id": "c5f1af4d-b439-48cf-969a-4e2c5dc5b7f0",
   "metadata": {},
   "outputs": [],
   "source": [
    "df_preppet = pl.read_parquet('tests/testdata/kjoretoyinfo_2022_jan.parquet')"
   ]
  },
  {
   "cell_type": "code",
   "execution_count": 13,
   "id": "279658f0-45ec-46f0-acaf-0119bc86e86b",
   "metadata": {},
   "outputs": [
    {
     "ename": "ColumnNotFoundError",
     "evalue": "tekn_kjtgrp",
     "output_type": "error",
     "traceback": [
      "\u001b[1;31m---------------------------------------------------------------------------\u001b[0m",
      "\u001b[1;31mColumnNotFoundError\u001b[0m                       Traceback (most recent call last)",
      "Cell \u001b[1;32mIn[13], line 1\u001b[0m\n\u001b[1;32m----> 1\u001b[0m df_traktorer \u001b[38;5;241m=\u001b[39m df_preppet\u001b[38;5;241m.\u001b[39mfilter(\u001b[43mdf_preppet\u001b[49m\u001b[43m[\u001b[49m\u001b[38;5;124;43m'\u001b[39;49m\u001b[38;5;124;43mtekn_kjtgrp\u001b[39;49m\u001b[38;5;124;43m'\u001b[39;49m\u001b[43m]\u001b[49m \u001b[38;5;241m==\u001b[39m \u001b[38;5;241m401\u001b[39m)\n",
      "File \u001b[1;32m~\\anaconda3\\envs\\databaseoblig\\lib\\site-packages\\polars\\dataframe\\frame.py:1677\u001b[0m, in \u001b[0;36mDataFrame.__getitem__\u001b[1;34m(self, item)\u001b[0m\n\u001b[0;32m   1674\u001b[0m \u001b[38;5;66;03m# select single column\u001b[39;00m\n\u001b[0;32m   1675\u001b[0m \u001b[38;5;66;03m# df[\"foo\"]\u001b[39;00m\n\u001b[0;32m   1676\u001b[0m \u001b[38;5;28;01mif\u001b[39;00m \u001b[38;5;28misinstance\u001b[39m(item, \u001b[38;5;28mstr\u001b[39m):\n\u001b[1;32m-> 1677\u001b[0m     \u001b[38;5;28;01mreturn\u001b[39;00m \u001b[38;5;28;43mself\u001b[39;49m\u001b[38;5;241;43m.\u001b[39;49m\u001b[43mget_column\u001b[49m\u001b[43m(\u001b[49m\u001b[43mitem\u001b[49m\u001b[43m)\u001b[49m\n\u001b[0;32m   1679\u001b[0m \u001b[38;5;66;03m# df[idx]\u001b[39;00m\n\u001b[0;32m   1680\u001b[0m \u001b[38;5;28;01mif\u001b[39;00m \u001b[38;5;28misinstance\u001b[39m(item, \u001b[38;5;28mint\u001b[39m):\n",
      "File \u001b[1;32m~\\anaconda3\\envs\\databaseoblig\\lib\\site-packages\\polars\\dataframe\\frame.py:7038\u001b[0m, in \u001b[0;36mDataFrame.get_column\u001b[1;34m(self, name)\u001b[0m\n\u001b[0;32m   7009\u001b[0m \u001b[38;5;28;01mdef\u001b[39;00m \u001b[38;5;21mget_column\u001b[39m(\u001b[38;5;28mself\u001b[39m, name: \u001b[38;5;28mstr\u001b[39m) \u001b[38;5;241m-\u001b[39m\u001b[38;5;241m>\u001b[39m Series:\n\u001b[0;32m   7010\u001b[0m \u001b[38;5;250m    \u001b[39m\u001b[38;5;124;03m\"\"\"\u001b[39;00m\n\u001b[0;32m   7011\u001b[0m \u001b[38;5;124;03m    Get a single column by name.\u001b[39;00m\n\u001b[0;32m   7012\u001b[0m \n\u001b[1;32m   (...)\u001b[0m\n\u001b[0;32m   7036\u001b[0m \u001b[38;5;124;03m    ]\u001b[39;00m\n\u001b[0;32m   7037\u001b[0m \u001b[38;5;124;03m    \"\"\"\u001b[39;00m\n\u001b[1;32m-> 7038\u001b[0m     \u001b[38;5;28;01mreturn\u001b[39;00m wrap_s(\u001b[38;5;28;43mself\u001b[39;49m\u001b[38;5;241;43m.\u001b[39;49m\u001b[43m_df\u001b[49m\u001b[38;5;241;43m.\u001b[39;49m\u001b[43mget_column\u001b[49m\u001b[43m(\u001b[49m\u001b[43mname\u001b[49m\u001b[43m)\u001b[49m)\n",
      "\u001b[1;31mColumnNotFoundError\u001b[0m: tekn_kjtgrp"
     ]
    }
   ],
   "source": [
    "df_traktorer = df_preppet.filter(df_preppet['tekn_kjtgrp'] == 401)"
   ]
  },
  {
   "cell_type": "code",
   "execution_count": 8,
   "id": "7ce11ca3-7fa4-423a-80b9-78a6f333ec3e",
   "metadata": {},
   "outputs": [
    {
     "ename": "NameError",
     "evalue": "name 'df_traktorer' is not defined",
     "output_type": "error",
     "traceback": [
      "\u001b[1;31m---------------------------------------------------------------------------\u001b[0m",
      "\u001b[1;31mNameError\u001b[0m                                 Traceback (most recent call last)",
      "Cell \u001b[1;32mIn[8], line 1\u001b[0m\n\u001b[1;32m----> 1\u001b[0m traktorer_2022 \u001b[38;5;241m=\u001b[39m \u001b[43mdf_traktorer\u001b[49m\u001b[38;5;241m.\u001b[39mfilter(\n\u001b[0;32m      2\u001b[0m   (pl\u001b[38;5;241m.\u001b[39mcol(\u001b[38;5;124m\"\u001b[39m\u001b[38;5;124mtekn_reg_eier_dato\u001b[39m\u001b[38;5;124m\"\u001b[39m)\u001b[38;5;241m.\u001b[39mdt\u001b[38;5;241m.\u001b[39myear() \u001b[38;5;241m==\u001b[39m \u001b[38;5;241m2022\u001b[39m)\n\u001b[0;32m      3\u001b[0m )\n",
      "\u001b[1;31mNameError\u001b[0m: name 'df_traktorer' is not defined"
     ]
    }
   ],
   "source": [
    "traktorer_2022 = df_traktorer.filter(\n",
    "  (pl.col(\"tekn_reg_eier_dato\").dt.year() == 2022)\n",
    ")"
   ]
  },
  {
   "cell_type": "code",
   "execution_count": null,
   "id": "d0d4cfee-9a22-4f59-a011-91d5beb9917f",
   "metadata": {},
   "outputs": [],
   "source": [
    "df_preppet = df_preppet.with_columns([\n",
    "        pl.col(\"tekn_reg_f_g_n\").cast(pl.Utf8).str.to_date(format=\"%Y%m%d\").alias(\"tekn_reg_f_g_n\"),\n",
    "        pl.col(\"tekn_reg_eier_dato\").cast(pl.Utf8).str.to_date(format=\"%Y%m%d\").alias(\"tekn_reg_eier_dato\"),\n",
    "        pl.col(\"tekn_neste_pkk\").cast(pl.Utf8).str.to_date(format=\"%Y%m%d\", strict=False).alias(\"tekn_neste_pkk\"),\n",
    "  \n",
    "    ])\n"
   ]
  },
  {
   "cell_type": "code",
   "execution_count": 33,
   "id": "034e5ceb-e76e-4d2a-85a8-72e476da2a43",
   "metadata": {},
   "outputs": [
    {
     "data": {
      "text/html": [
       "<div><style>\n",
       ".dataframe > thead > tr,\n",
       ".dataframe > tbody > tr {\n",
       "  text-align: right;\n",
       "  white-space: pre-wrap;\n",
       "}\n",
       "</style>\n",
       "<small>shape: (6_596, 11)</small><table border=\"1\" class=\"dataframe\"><thead><tr><th>tekn_reg_f_g</th><th>tekn_reg_f_g_n</th><th>tekn_reg_eier_dato</th><th>tekn_merke</th><th>tekn_modell</th><th>tekn_farge</th><th>tekn_drivstoff</th><th>tekn_siste_pkk</th><th>tekn_neste_pkk</th><th>tekn_aksler_drift</th><th>tekn_sitteplasser_totalt</th></tr><tr><td>i64</td><td>date</td><td>date</td><td>i64</td><td>str</td><td>str</td><td>str</td><td>str</td><td>date</td><td>i64</td><td>i64</td></tr></thead><tbody><tr><td>20220113</td><td>2022-01-13</td><td>2022-01-13</td><td>1230</td><td>&quot;E TRON 55&quot;</td><td>&quot;11&quot;</td><td>&quot;5,5&quot;</td><td>null</td><td>2026-01-13</td><td>2</td><td>5</td></tr><tr><td>20220113</td><td>2022-01-13</td><td>2023-02-14</td><td>9380</td><td>&quot;XUV855M&quot;</td><td>&quot;04&quot;</td><td>&quot;2&quot;</td><td>null</td><td>null</td><td>2</td><td>2</td></tr><tr><td>20220126</td><td>2022-01-26</td><td>2024-01-16</td><td>1471</td><td>&quot;BACKCOUNTRY 85…</td><td>&quot;06&quot;</td><td>&quot;1&quot;</td><td>null</td><td>null</td><td>0</td><td>1</td></tr><tr><td>20220110</td><td>2022-01-10</td><td>2023-04-25</td><td>7740</td><td>&quot;HONDA MSX125AM…</td><td>&quot;06&quot;</td><td>&quot;1&quot;</td><td>null</td><td>null</td><td>1</td><td>2</td></tr><tr><td>20220124</td><td>2022-01-24</td><td>2022-01-24</td><td>3900</td><td>&quot;EQC 400 4MATIC…</td><td>&quot;03&quot;</td><td>&quot;5&quot;</td><td>null</td><td>2026-01-24</td><td>2</td><td>5</td></tr><tr><td>&hellip;</td><td>&hellip;</td><td>&hellip;</td><td>&hellip;</td><td>&hellip;</td><td>&hellip;</td><td>&hellip;</td><td>&hellip;</td><td>&hellip;</td><td>&hellip;</td><td>&hellip;</td></tr><tr><td>20220125</td><td>2022-01-25</td><td>2022-01-25</td><td>8250</td><td>&quot;650 Matryx SB …</td><td>&quot;06&quot;</td><td>&quot;1&quot;</td><td>null</td><td>null</td><td>0</td><td>1</td></tr><tr><td>20220131</td><td>2022-01-31</td><td>2023-12-15</td><td>5480</td><td>&quot;YARIS CROSS&quot;</td><td>&quot;01&quot;</td><td>&quot;1,5,5&quot;</td><td>null</td><td>2026-01-31</td><td>2</td><td>5</td></tr><tr><td>20220112</td><td>2022-01-12</td><td>2023-03-09</td><td>5150</td><td>&quot;ENYAQ 80X&quot;</td><td>&quot;03&quot;</td><td>&quot;5,5&quot;</td><td>null</td><td>2026-01-12</td><td>2</td><td>5</td></tr><tr><td>20220118</td><td>2022-01-18</td><td>2022-01-18</td><td>3900</td><td>&quot;VITO&quot;</td><td>&quot;11&quot;</td><td>&quot;2&quot;</td><td>null</td><td>2026-01-18</td><td>2</td><td>3</td></tr><tr><td>20220112</td><td>2022-01-12</td><td>2022-01-12</td><td>4350</td><td>&quot;ZAFIRA LIFE&quot;</td><td>&quot;05&quot;</td><td>&quot;5&quot;</td><td>null</td><td>2026-01-12</td><td>1</td><td>8</td></tr></tbody></table></div>"
      ],
      "text/plain": [
       "shape: (6_596, 11)\n",
       "┌──────────────┬────────────────┬────────────────────┬────────────┬───┬────────────────┬────────────────┬───────────────────┬──────────────────────────┐\n",
       "│ tekn_reg_f_g ┆ tekn_reg_f_g_n ┆ tekn_reg_eier_dato ┆ tekn_merke ┆ … ┆ tekn_siste_pkk ┆ tekn_neste_pkk ┆ tekn_aksler_drift ┆ tekn_sitteplasser_totalt │\n",
       "│ ---          ┆ ---            ┆ ---                ┆ ---        ┆   ┆ ---            ┆ ---            ┆ ---               ┆ ---                      │\n",
       "│ i64          ┆ date           ┆ date               ┆ i64        ┆   ┆ str            ┆ date           ┆ i64               ┆ i64                      │\n",
       "╞══════════════╪════════════════╪════════════════════╪════════════╪═══╪════════════════╪════════════════╪═══════════════════╪══════════════════════════╡\n",
       "│ 20220113     ┆ 2022-01-13     ┆ 2022-01-13         ┆ 1230       ┆ … ┆ null           ┆ 2026-01-13     ┆ 2                 ┆ 5                        │\n",
       "│ 20220113     ┆ 2022-01-13     ┆ 2023-02-14         ┆ 9380       ┆ … ┆ null           ┆ null           ┆ 2                 ┆ 2                        │\n",
       "│ 20220126     ┆ 2022-01-26     ┆ 2024-01-16         ┆ 1471       ┆ … ┆ null           ┆ null           ┆ 0                 ┆ 1                        │\n",
       "│ 20220110     ┆ 2022-01-10     ┆ 2023-04-25         ┆ 7740       ┆ … ┆ null           ┆ null           ┆ 1                 ┆ 2                        │\n",
       "│ 20220124     ┆ 2022-01-24     ┆ 2022-01-24         ┆ 3900       ┆ … ┆ null           ┆ 2026-01-24     ┆ 2                 ┆ 5                        │\n",
       "│ …            ┆ …              ┆ …                  ┆ …          ┆ … ┆ …              ┆ …              ┆ …                 ┆ …                        │\n",
       "│ 20220125     ┆ 2022-01-25     ┆ 2022-01-25         ┆ 8250       ┆ … ┆ null           ┆ null           ┆ 0                 ┆ 1                        │\n",
       "│ 20220131     ┆ 2022-01-31     ┆ 2023-12-15         ┆ 5480       ┆ … ┆ null           ┆ 2026-01-31     ┆ 2                 ┆ 5                        │\n",
       "│ 20220112     ┆ 2022-01-12     ┆ 2023-03-09         ┆ 5150       ┆ … ┆ null           ┆ 2026-01-12     ┆ 2                 ┆ 5                        │\n",
       "│ 20220118     ┆ 2022-01-18     ┆ 2022-01-18         ┆ 3900       ┆ … ┆ null           ┆ 2026-01-18     ┆ 2                 ┆ 3                        │\n",
       "│ 20220112     ┆ 2022-01-12     ┆ 2022-01-12         ┆ 4350       ┆ … ┆ null           ┆ 2026-01-12     ┆ 1                 ┆ 8                        │\n",
       "└──────────────┴────────────────┴────────────────────┴────────────┴───┴────────────────┴────────────────┴───────────────────┴──────────────────────────┘"
      ]
     },
     "execution_count": 33,
     "metadata": {},
     "output_type": "execute_result"
    }
   ],
   "source": [
    "df_preppet"
   ]
  },
  {
   "cell_type": "code",
   "execution_count": 37,
   "id": "6bf59486-6313-4e88-ad73-9c3447af107c",
   "metadata": {},
   "outputs": [],
   "source": [
    "date_2022_01_01 = date(2022, 1, 1)\n"
   ]
  },
  {
   "cell_type": "code",
   "execution_count": 40,
   "id": "c6f90538-7fd4-4d22-a65e-a2891f4590a0",
   "metadata": {},
   "outputs": [],
   "source": [
    "df_2022_01_01 = df_preppet.filter(pl.col('tekn_reg_f_g_n') == date_2022_01_01)"
   ]
  },
  {
   "cell_type": "code",
   "execution_count": 41,
   "id": "f8bd250e-9cdc-477a-af5a-b44cee9eb93b",
   "metadata": {},
   "outputs": [
    {
     "data": {
      "text/html": [
       "<div><style>\n",
       ".dataframe > thead > tr,\n",
       ".dataframe > tbody > tr {\n",
       "  text-align: right;\n",
       "  white-space: pre-wrap;\n",
       "}\n",
       "</style>\n",
       "<small>shape: (2, 11)</small><table border=\"1\" class=\"dataframe\"><thead><tr><th>tekn_reg_f_g</th><th>tekn_reg_f_g_n</th><th>tekn_reg_eier_dato</th><th>tekn_merke</th><th>tekn_modell</th><th>tekn_farge</th><th>tekn_drivstoff</th><th>tekn_siste_pkk</th><th>tekn_neste_pkk</th><th>tekn_aksler_drift</th><th>tekn_sitteplasser_totalt</th></tr><tr><td>i64</td><td>date</td><td>date</td><td>i64</td><td>str</td><td>str</td><td>str</td><td>str</td><td>date</td><td>i64</td><td>i64</td></tr></thead><tbody><tr><td>20220101</td><td>2022-01-01</td><td>2024-01-22</td><td>6361</td><td>&quot;ADVENTURE STD …</td><td>&quot;02&quot;</td><td>&quot;1&quot;</td><td>null</td><td>null</td><td>0</td><td>1</td></tr><tr><td>20220101</td><td>2022-01-01</td><td>2022-01-01</td><td>4500</td><td>&quot;2008&quot;</td><td>&quot;06&quot;</td><td>&quot;5&quot;</td><td>null</td><td>2026-01-01</td><td>1</td><td>5</td></tr></tbody></table></div>"
      ],
      "text/plain": [
       "shape: (2, 11)\n",
       "┌──────────────┬────────────────┬────────────────────┬────────────┬───┬────────────────┬────────────────┬───────────────────┬──────────────────────────┐\n",
       "│ tekn_reg_f_g ┆ tekn_reg_f_g_n ┆ tekn_reg_eier_dato ┆ tekn_merke ┆ … ┆ tekn_siste_pkk ┆ tekn_neste_pkk ┆ tekn_aksler_drift ┆ tekn_sitteplasser_totalt │\n",
       "│ ---          ┆ ---            ┆ ---                ┆ ---        ┆   ┆ ---            ┆ ---            ┆ ---               ┆ ---                      │\n",
       "│ i64          ┆ date           ┆ date               ┆ i64        ┆   ┆ str            ┆ date           ┆ i64               ┆ i64                      │\n",
       "╞══════════════╪════════════════╪════════════════════╪════════════╪═══╪════════════════╪════════════════╪═══════════════════╪══════════════════════════╡\n",
       "│ 20220101     ┆ 2022-01-01     ┆ 2024-01-22         ┆ 6361       ┆ … ┆ null           ┆ null           ┆ 0                 ┆ 1                        │\n",
       "│ 20220101     ┆ 2022-01-01     ┆ 2022-01-01         ┆ 4500       ┆ … ┆ null           ┆ 2026-01-01     ┆ 1                 ┆ 5                        │\n",
       "└──────────────┴────────────────┴────────────────────┴────────────┴───┴────────────────┴────────────────┴───────────────────┴──────────────────────────┘"
      ]
     },
     "execution_count": 41,
     "metadata": {},
     "output_type": "execute_result"
    }
   ],
   "source": [
    "df_2022_01_01"
   ]
  },
  {
   "cell_type": "code",
   "execution_count": null,
   "id": "732ba677-5e47-4264-86dc-317913f5e37a",
   "metadata": {},
   "outputs": [],
   "source": []
  }
 ],
 "metadata": {
  "kernelspec": {
   "display_name": "Python 3 (ipykernel)",
   "language": "python",
   "name": "python3"
  },
  "language_info": {
   "codemirror_mode": {
    "name": "ipython",
    "version": 3
   },
   "file_extension": ".py",
   "mimetype": "text/x-python",
   "name": "python",
   "nbconvert_exporter": "python",
   "pygments_lexer": "ipython3",
   "version": "3.10.13"
  }
 },
 "nbformat": 4,
 "nbformat_minor": 5
}
