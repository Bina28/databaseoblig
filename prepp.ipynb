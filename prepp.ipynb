{
 "cells": [
  {
   "cell_type": "code",
   "execution_count": 225,
   "id": "b46fa319-2676-4fdc-98b2-bcce3b503597",
   "metadata": {},
   "outputs": [],
   "source": [
    "import polars as pl"
   ]
  },
  {
   "cell_type": "code",
   "execution_count": 226,
   "id": "91f1f8d1-2094-45f7-8b52-61f7003bd398",
   "metadata": {},
   "outputs": [],
   "source": [
    "df=pl.scan_parquet(\"kjoretoyinfo_fra_2020.parquet\")"
   ]
  },
  {
   "cell_type": "code",
   "execution_count": 227,
   "id": "2542a047-00fa-4117-9158-64749efd8101",
   "metadata": {},
   "outputs": [],
   "source": [
    "df = df.with_columns([\n",
    "    pl.col(\"tekn_reg_f_g_n\").cast(pl.Utf8).str.to_date(format=\"%Y%m%d\").alias(\"tekn_reg_f_g_n\")\n",
    "])"
   ]
  },
  {
   "cell_type": "code",
   "execution_count": 228,
   "id": "890008ac-95ab-4617-bf0e-3699986ef5f6",
   "metadata": {},
   "outputs": [],
   "source": [
    "df_t = df.collect()"
   ]
  },
  {
   "cell_type": "code",
   "execution_count": 229,
   "id": "59cf7210-7f8f-42a1-b806-29628ce88c70",
   "metadata": {},
   "outputs": [],
   "source": [
    "df = df.with_columns([\n",
    "    pl.col(\"tekn_neste_pkk\").str.to_date(format=\"%Y%m%d\", strict=False).alias(\"tekn_neste_pkk\")\n",
    "])\n"
   ]
  },
  {
   "cell_type": "code",
   "execution_count": 230,
   "id": "5b2b7448-da49-4460-9708-abaa8ef64245",
   "metadata": {},
   "outputs": [],
   "source": [
    "df_t = df.collect()"
   ]
  },
  {
   "cell_type": "code",
   "execution_count": 231,
   "id": "aacaced4-8c03-418c-a3fd-fa3546f63028",
   "metadata": {},
   "outputs": [],
   "source": [
    "df = df.with_columns([\n",
    "    pl.col(\"tekn_reg_eier_dato\").cast(pl.Utf8).str.to_date(format=\"%Y%m%d\").alias(\"tekn_reg_eier_dato\")\n",
    "])"
   ]
  },
  {
   "cell_type": "code",
   "execution_count": 232,
   "id": "297458e6-90b6-4b1a-bc60-abb2c45163b6",
   "metadata": {},
   "outputs": [],
   "source": [
    "df_t = df.collect()"
   ]
  },
  {
   "cell_type": "code",
   "execution_count": 233,
   "id": "4c41084a-01cd-4cec-bf74-8b89ce4c24fb",
   "metadata": {},
   "outputs": [
    {
     "name": "stdout",
     "output_type": "stream",
     "text": [
      "shape: (3, 11)\n",
      "┌──────────────┬────────────────┬────────────────────┬────────────┬───┬────────────────┬────────────────┬───────────────────┬──────────────────────────┐\n",
      "│ tekn_reg_f_g ┆ tekn_reg_f_g_n ┆ tekn_reg_eier_dato ┆ tekn_merke ┆ … ┆ tekn_siste_pkk ┆ tekn_neste_pkk ┆ tekn_aksler_drift ┆ tekn_sitteplasser_totalt │\n",
      "│ ---          ┆ ---            ┆ ---                ┆ ---        ┆   ┆ ---            ┆ ---            ┆ ---               ┆ ---                      │\n",
      "│ i64          ┆ date           ┆ date               ┆ i64        ┆   ┆ str            ┆ date           ┆ i64               ┆ i64                      │\n",
      "╞══════════════╪════════════════╪════════════════════╪════════════╪═══╪════════════════╪════════════════╪═══════════════════╪══════════════════════════╡\n",
      "│ 20211013     ┆ 2021-10-13     ┆ 2021-10-13         ┆ 3900       ┆ … ┆ null           ┆ 2025-10-13     ┆ 2                 ┆ 3                        │\n",
      "│ 20200129     ┆ 2020-01-29     ┆ 2020-01-29         ┆ 5750       ┆ … ┆ 20231205       ┆ 2026-01-29     ┆ 2                 ┆ 2                        │\n",
      "│ 20231129     ┆ 2023-11-29     ┆ 2023-11-29         ┆ 2600       ┆ … ┆ null           ┆ 2027-11-29     ┆ 1                 ┆ 5                        │\n",
      "└──────────────┴────────────────┴────────────────────┴────────────┴───┴────────────────┴────────────────┴───────────────────┴──────────────────────────┘\n"
     ]
    }
   ],
   "source": [
    "print(df_t.head(3))"
   ]
  },
  {
   "cell_type": "code",
   "execution_count": 258,
   "id": "0a4c021f-f6d2-4a52-943f-4300ab49de3f",
   "metadata": {},
   "outputs": [],
   "source": [
    "df_fargekode = pl.read_csv(\"fargekode.csv\", separator=\";\").rename({\"kode\": \"tekn_farge\"})"
   ]
  },
  {
   "cell_type": "code",
   "execution_count": 268,
   "id": "7b079954-270a-486a-a700-434911e9113a",
   "metadata": {},
   "outputs": [
    {
     "data": {
      "text/html": [
       "<div><style>\n",
       ".dataframe > thead > tr,\n",
       ".dataframe > tbody > tr {\n",
       "  text-align: right;\n",
       "  white-space: pre-wrap;\n",
       "}\n",
       "</style>\n",
       "<small>shape: (16, 2)</small><table border=\"1\" class=\"dataframe\"><thead><tr><th>tekn_farge</th><th>beskrivelse</th></tr><tr><td>str</td><td>str</td></tr></thead><tbody><tr><td>&quot;1&quot;</td><td>&quot;Hvit (også ant…</td></tr><tr><td>&quot;2&quot;</td><td>&quot;Rød (også burg…</td></tr><tr><td>&quot;3&quot;</td><td>&quot;Blå&quot;</td></tr><tr><td>&quot;4&quot;</td><td>&quot;Grønn (også gr…</td></tr><tr><td>&quot;5&quot;</td><td>&quot;Grå&quot;</td></tr><tr><td>&hellip;</td><td>&hellip;</td></tr><tr><td>&quot;12&quot;</td><td>&quot;Gull (også bro…</td></tr><tr><td>&quot;13&quot;</td><td>&quot;Rosa&quot;</td></tr><tr><td>&quot;14&quot;</td><td>&quot;Fiolett (også …</td></tr><tr><td>&quot;29&quot;</td><td>&quot;Turkis (også b…</td></tr><tr><td>&quot;99&quot;</td><td>&quot;Annen (flerfar…</td></tr></tbody></table></div>"
      ],
      "text/plain": [
       "shape: (16, 2)\n",
       "┌────────────┬───────────────────────────────────┐\n",
       "│ tekn_farge ┆ beskrivelse                       │\n",
       "│ ---        ┆ ---                               │\n",
       "│ str        ┆ str                               │\n",
       "╞════════════╪═══════════════════════════════════╡\n",
       "│ 1          ┆ Hvit (også antikkhvit, offwhite)  │\n",
       "│ 2          ┆ Rød (også burgunder)              │\n",
       "│ 3          ┆ Blå                               │\n",
       "│ 4          ┆ Grønn (også grønngrå, blågrå)     │\n",
       "│ 5          ┆ Grå                               │\n",
       "│ …          ┆ …                                 │\n",
       "│ 12         ┆ Gull (også bronse, gull metallic… │\n",
       "│ 13         ┆ Rosa                              │\n",
       "│ 14         ┆ Fiolett (også blåfiolett, fiolet… │\n",
       "│ 29         ┆ Turkis (også blågrønn, grønnblå)  │\n",
       "│ 99         ┆ Annen (flerfargede kjøretøy migr… │\n",
       "└────────────┴───────────────────────────────────┘"
      ]
     },
     "execution_count": 268,
     "metadata": {},
     "output_type": "execute_result"
    }
   ],
   "source": [
    "df_fargekode = df_fargekode.with_columns(\n",
    "    pl.col(\"tekn_farge\").cast(pl.String)\n",
    ")\n",
    "df_fargekode"
   ]
  },
  {
   "cell_type": "code",
   "execution_count": 270,
   "id": "643d4cb2-1f34-4d77-8808-72e861de60f8",
   "metadata": {},
   "outputs": [
    {
     "data": {
      "text/html": [
       "<div><style>\n",
       ".dataframe > thead > tr,\n",
       ".dataframe > tbody > tr {\n",
       "  text-align: right;\n",
       "  white-space: pre-wrap;\n",
       "}\n",
       "</style>\n",
       "<small>shape: (554_219, 2)</small><table border=\"1\" class=\"dataframe\"><thead><tr><th>tekn_farge</th><th>beskrivelse</th></tr><tr><td>str</td><td>str</td></tr></thead><tbody><tr><td>&quot;05&quot;</td><td>null</td></tr><tr><td>&quot;06&quot;</td><td>null</td></tr><tr><td>&quot;06&quot;</td><td>null</td></tr><tr><td>&quot;01&quot;</td><td>null</td></tr><tr><td>&quot;01&quot;</td><td>null</td></tr><tr><td>&hellip;</td><td>&hellip;</td></tr><tr><td>&quot;03&quot;</td><td>null</td></tr><tr><td>&quot;01&quot;</td><td>null</td></tr><tr><td>&quot;02&quot;</td><td>null</td></tr><tr><td>&quot;03&quot;</td><td>null</td></tr><tr><td>&quot;09&quot;</td><td>null</td></tr></tbody></table></div>"
      ],
      "text/plain": [
       "shape: (554_219, 2)\n",
       "┌────────────┬─────────────┐\n",
       "│ tekn_farge ┆ beskrivelse │\n",
       "│ ---        ┆ ---         │\n",
       "│ str        ┆ str         │\n",
       "╞════════════╪═════════════╡\n",
       "│ 05         ┆ null        │\n",
       "│ 06         ┆ null        │\n",
       "│ 06         ┆ null        │\n",
       "│ 01         ┆ null        │\n",
       "│ 01         ┆ null        │\n",
       "│ …          ┆ …           │\n",
       "│ 03         ┆ null        │\n",
       "│ 01         ┆ null        │\n",
       "│ 02         ┆ null        │\n",
       "│ 03         ┆ null        │\n",
       "│ 09         ┆ null        │\n",
       "└────────────┴─────────────┘"
      ]
     },
     "execution_count": 270,
     "metadata": {},
     "output_type": "execute_result"
    }
   ],
   "source": [
    "df_joined = df_t.select(pl.col(\"tekn_farge\")).join(\n",
    "    df_fargekode.select(pl.col(\"tekn_farge\"), pl.col(\"beskrivelse\")),\n",
    "    on=\"tekn_farge\",\n",
    "    how=\"left\"\n",
    ")\n",
    "df_joined"
   ]
  },
  {
   "cell_type": "code",
   "execution_count": 244,
   "id": "60b45a32-6eb4-4664-960f-8855790762a5",
   "metadata": {},
   "outputs": [
    {
     "name": "stdout",
     "output_type": "stream",
     "text": [
      "shape: (3, 11)\n",
      "┌──────────────┬────────────────┬────────────────────┬────────────┬───┬────────────────┬────────────────┬───────────────────┬──────────────────────────┐\n",
      "│ tekn_reg_f_g ┆ tekn_reg_f_g_n ┆ tekn_reg_eier_dato ┆ tekn_merke ┆ … ┆ tekn_siste_pkk ┆ tekn_neste_pkk ┆ tekn_aksler_drift ┆ tekn_sitteplasser_totalt │\n",
      "│ ---          ┆ ---            ┆ ---                ┆ ---        ┆   ┆ ---            ┆ ---            ┆ ---               ┆ ---                      │\n",
      "│ i64          ┆ date           ┆ date               ┆ i64        ┆   ┆ str            ┆ date           ┆ i64               ┆ i64                      │\n",
      "╞══════════════╪════════════════╪════════════════════╪════════════╪═══╪════════════════╪════════════════╪═══════════════════╪══════════════════════════╡\n",
      "│ 20211013     ┆ 2021-10-13     ┆ 2021-10-13         ┆ 3900       ┆ … ┆ null           ┆ 2025-10-13     ┆ 2                 ┆ 3                        │\n",
      "│ 20200129     ┆ 2020-01-29     ┆ 2020-01-29         ┆ 5750       ┆ … ┆ 20231205       ┆ 2026-01-29     ┆ 2                 ┆ 2                        │\n",
      "│ 20231129     ┆ 2023-11-29     ┆ 2023-11-29         ┆ 2600       ┆ … ┆ null           ┆ 2027-11-29     ┆ 1                 ┆ 5                        │\n",
      "└──────────────┴────────────────┴────────────────────┴────────────┴───┴────────────────┴────────────────┴───────────────────┴──────────────────────────┘\n"
     ]
    }
   ],
   "source": [
    "print(df_t.head(3))"
   ]
  },
  {
   "cell_type": "code",
   "execution_count": 91,
   "id": "a030f06d-9e7d-45ee-a9ef-5495ba3f6860",
   "metadata": {},
   "outputs": [
    {
     "name": "stdout",
     "output_type": "stream",
     "text": [
      "['tekn_farge', 'beskrivelse']\n"
     ]
    }
   ],
   "source": [
    "print(df_fargekode.columns)"
   ]
  }
 ],
 "metadata": {
  "kernelspec": {
   "display_name": "Python 3 (ipykernel)",
   "language": "python",
   "name": "python3"
  },
  "language_info": {
   "codemirror_mode": {
    "name": "ipython",
    "version": 3
   },
   "file_extension": ".py",
   "mimetype": "text/x-python",
   "name": "python",
   "nbconvert_exporter": "python",
   "pygments_lexer": "ipython3",
   "version": "3.10.13"
  }
 },
 "nbformat": 4,
 "nbformat_minor": 5
}
