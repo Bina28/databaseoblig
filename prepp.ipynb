{
 "cells": [
  {
   "cell_type": "code",
   "execution_count": 1,
   "id": "b46fa319-2676-4fdc-98b2-bcce3b503597",
   "metadata": {},
   "outputs": [],
   "source": [
    "import polars as pl"
   ]
  },
  {
   "cell_type": "code",
   "execution_count": 2,
   "id": "91f1f8d1-2094-45f7-8b52-61f7003bd398",
   "metadata": {},
   "outputs": [],
   "source": [
    "#1. Les inn kjoretoyinfo_fra_[putt_inn_år].parquet. Bruk pl.scan_parquet.\n",
    "df=pl.scan_parquet(\"kjoretoyinfo_fra_2000.parquet\")"
   ]
  },
  {
   "cell_type": "code",
   "execution_count": 3,
   "id": "2542a047-00fa-4117-9158-64749efd8101",
   "metadata": {},
   "outputs": [],
   "source": [
    "#2. “tekn_reg_f_g_n” er dato for førstegangsregistrering i Norge. Konverter denne kolonnen til en datetime. Gjør tilsvarende for “neste_pkk” og “tekn_reg_eier_dato”.\n",
    "df = df.with_columns([\n",
    "    pl.col(\"tekn_reg_f_g_n\").cast(pl.Utf8).str.to_date(format=\"%Y%m%d\").alias(\"tekn_reg_f_g_n\")\n",
    "])"
   ]
  },
  {
   "cell_type": "code",
   "execution_count": 4,
   "id": "890008ac-95ab-4617-bf0e-3699986ef5f6",
   "metadata": {},
   "outputs": [],
   "source": [
    "df_t = df.collect()"
   ]
  },
  {
   "cell_type": "code",
   "execution_count": 5,
   "id": "59cf7210-7f8f-42a1-b806-29628ce88c70",
   "metadata": {},
   "outputs": [],
   "source": [
    "df = df.with_columns([\n",
    "    pl.col(\"tekn_neste_pkk\").str.to_date(format=\"%Y%m%d\", strict=False).alias(\"tekn_neste_pkk\")\n",
    "])\n"
   ]
  },
  {
   "cell_type": "code",
   "execution_count": 6,
   "id": "5b2b7448-da49-4460-9708-abaa8ef64245",
   "metadata": {},
   "outputs": [],
   "source": [
    "df_t = df.collect()"
   ]
  },
  {
   "cell_type": "code",
   "execution_count": 7,
   "id": "aacaced4-8c03-418c-a3fd-fa3546f63028",
   "metadata": {},
   "outputs": [],
   "source": [
    "df = df.with_columns([\n",
    "    pl.col(\"tekn_reg_eier_dato\").cast(pl.Utf8).str.to_date(format=\"%Y%m%d\").alias(\"tekn_reg_eier_dato\"),\n",
    "])"
   ]
  },
  {
   "cell_type": "code",
   "execution_count": 8,
   "id": "297458e6-90b6-4b1a-bc60-abb2c45163b6",
   "metadata": {},
   "outputs": [
    {
     "data": {
      "text/html": [
       "<div><style>\n",
       ".dataframe > thead > tr,\n",
       ".dataframe > tbody > tr {\n",
       "  text-align: right;\n",
       "  white-space: pre-wrap;\n",
       "}\n",
       "</style>\n",
       "<small>shape: (2_692_915, 12)</small><table border=\"1\" class=\"dataframe\"><thead><tr><th>tekn_reg_f_g</th><th>tekn_reg_f_g_n</th><th>tekn_reg_eier_dato</th><th>tekn_merke</th><th>tekn_kjtgrp</th><th>tekn_modell</th><th>tekn_farge</th><th>tekn_drivstoff</th><th>tekn_siste_pkk</th><th>tekn_neste_pkk</th><th>tekn_aksler_drift</th><th>tekn_sitteplasser_totalt</th></tr><tr><td>i64</td><td>date</td><td>date</td><td>i64</td><td>i64</td><td>str</td><td>str</td><td>str</td><td>str</td><td>date</td><td>i64</td><td>i64</td></tr></thead><tbody><tr><td>20211013</td><td>2021-10-13</td><td>2021-10-13</td><td>3900</td><td>315</td><td>&quot;VITO&quot;</td><td>&quot;05&quot;</td><td>&quot;2&quot;</td><td>null</td><td>2025-10-13</td><td>2</td><td>3</td></tr><tr><td>20200129</td><td>2020-01-29</td><td>2020-01-29</td><td>5750</td><td>315</td><td>&quot;CADDY&quot;</td><td>&quot;06&quot;</td><td>&quot;2&quot;</td><td>&quot;20231205&quot;</td><td>2026-01-29</td><td>2</td><td>2</td></tr><tr><td>20231129</td><td>2023-11-29</td><td>2023-11-29</td><td>2600</td><td>101</td><td>&quot;Mustang Mach-E…</td><td>&quot;06&quot;</td><td>&quot;5&quot;</td><td>null</td><td>2027-11-29</td><td>1</td><td>5</td></tr><tr><td>20200127</td><td>2020-01-27</td><td>2020-01-27</td><td>5750</td><td>315</td><td>&quot;CADDY&quot;</td><td>&quot;01&quot;</td><td>&quot;2&quot;</td><td>null</td><td>2024-01-27</td><td>2</td><td>2</td></tr><tr><td>20180731</td><td>2019-01-30</td><td>2019-01-30</td><td>2600</td><td>315</td><td>&quot;F-150 Platinum…</td><td>&quot;06&quot;</td><td>&quot;2&quot;</td><td>&quot;20220503&quot;</td><td>2024-05-03</td><td>2</td><td>2</td></tr><tr><td>&hellip;</td><td>&hellip;</td><td>&hellip;</td><td>&hellip;</td><td>&hellip;</td><td>&hellip;</td><td>&hellip;</td><td>&hellip;</td><td>&hellip;</td><td>&hellip;</td><td>&hellip;</td><td>&hellip;</td></tr><tr><td>20031127</td><td>2003-11-27</td><td>2017-06-10</td><td>4350</td><td>101</td><td>&quot;ZAFIRA-A&quot;</td><td>&quot;11&quot;</td><td>&quot;1&quot;</td><td>&quot;20190514&quot;</td><td>2021-04-30</td><td>0</td><td>7</td></tr><tr><td>20140117</td><td>2014-01-17</td><td>2018-07-31</td><td>2600</td><td>315</td><td>&quot;RANGER&quot;</td><td>&quot;05&quot;</td><td>&quot;2&quot;</td><td>&quot;20220511&quot;</td><td>2024-06-30</td><td>2</td><td>2</td></tr><tr><td>20080331</td><td>2008-03-31</td><td>2023-07-28</td><td>3930</td><td>101</td><td>&quot;MX-5&quot;</td><td>&quot;05&quot;</td><td>&quot;1&quot;</td><td>&quot;20230816&quot;</td><td>2025-08-16</td><td>0</td><td>2</td></tr><tr><td>20150731</td><td>2015-07-31</td><td>2023-06-30</td><td>4500</td><td>101</td><td>&quot;iOn&quot;</td><td>&quot;01&quot;</td><td>&quot;5&quot;</td><td>&quot;20230320&quot;</td><td>2025-03-31</td><td>1</td><td>4</td></tr><tr><td>20040921</td><td>2004-09-21</td><td>2014-01-20</td><td>5750</td><td>101</td><td>&quot;POLO&quot;</td><td>&quot;11&quot;</td><td>&quot;1&quot;</td><td>&quot;20141017&quot;</td><td>null</td><td>0</td><td>5</td></tr></tbody></table></div>"
      ],
      "text/plain": [
       "shape: (2_692_915, 12)\n",
       "┌──────────────┬────────────────┬────────────────────┬────────────┬───┬────────────────┬────────────────┬───────────────────┬──────────────────────────┐\n",
       "│ tekn_reg_f_g ┆ tekn_reg_f_g_n ┆ tekn_reg_eier_dato ┆ tekn_merke ┆ … ┆ tekn_siste_pkk ┆ tekn_neste_pkk ┆ tekn_aksler_drift ┆ tekn_sitteplasser_totalt │\n",
       "│ ---          ┆ ---            ┆ ---                ┆ ---        ┆   ┆ ---            ┆ ---            ┆ ---               ┆ ---                      │\n",
       "│ i64          ┆ date           ┆ date               ┆ i64        ┆   ┆ str            ┆ date           ┆ i64               ┆ i64                      │\n",
       "╞══════════════╪════════════════╪════════════════════╪════════════╪═══╪════════════════╪════════════════╪═══════════════════╪══════════════════════════╡\n",
       "│ 20211013     ┆ 2021-10-13     ┆ 2021-10-13         ┆ 3900       ┆ … ┆ null           ┆ 2025-10-13     ┆ 2                 ┆ 3                        │\n",
       "│ 20200129     ┆ 2020-01-29     ┆ 2020-01-29         ┆ 5750       ┆ … ┆ 20231205       ┆ 2026-01-29     ┆ 2                 ┆ 2                        │\n",
       "│ 20231129     ┆ 2023-11-29     ┆ 2023-11-29         ┆ 2600       ┆ … ┆ null           ┆ 2027-11-29     ┆ 1                 ┆ 5                        │\n",
       "│ 20200127     ┆ 2020-01-27     ┆ 2020-01-27         ┆ 5750       ┆ … ┆ null           ┆ 2024-01-27     ┆ 2                 ┆ 2                        │\n",
       "│ 20180731     ┆ 2019-01-30     ┆ 2019-01-30         ┆ 2600       ┆ … ┆ 20220503       ┆ 2024-05-03     ┆ 2                 ┆ 2                        │\n",
       "│ …            ┆ …              ┆ …                  ┆ …          ┆ … ┆ …              ┆ …              ┆ …                 ┆ …                        │\n",
       "│ 20031127     ┆ 2003-11-27     ┆ 2017-06-10         ┆ 4350       ┆ … ┆ 20190514       ┆ 2021-04-30     ┆ 0                 ┆ 7                        │\n",
       "│ 20140117     ┆ 2014-01-17     ┆ 2018-07-31         ┆ 2600       ┆ … ┆ 20220511       ┆ 2024-06-30     ┆ 2                 ┆ 2                        │\n",
       "│ 20080331     ┆ 2008-03-31     ┆ 2023-07-28         ┆ 3930       ┆ … ┆ 20230816       ┆ 2025-08-16     ┆ 0                 ┆ 2                        │\n",
       "│ 20150731     ┆ 2015-07-31     ┆ 2023-06-30         ┆ 4500       ┆ … ┆ 20230320       ┆ 2025-03-31     ┆ 1                 ┆ 4                        │\n",
       "│ 20040921     ┆ 2004-09-21     ┆ 2014-01-20         ┆ 5750       ┆ … ┆ 20141017       ┆ null           ┆ 0                 ┆ 5                        │\n",
       "└──────────────┴────────────────┴────────────────────┴────────────┴───┴────────────────┴────────────────┴───────────────────┴──────────────────────────┘"
      ]
     },
     "execution_count": 8,
     "metadata": {},
     "output_type": "execute_result"
    }
   ],
   "source": [
    "df_t = df.collect()\n",
    "df_t"
   ]
  },
  {
   "cell_type": "code",
   "execution_count": 9,
   "id": "4c41084a-01cd-4cec-bf74-8b89ce4c24fb",
   "metadata": {},
   "outputs": [
    {
     "name": "stdout",
     "output_type": "stream",
     "text": [
      "shape: (3,)\n",
      "Series: 'tekn_farge' [str]\n",
      "[\n",
      "\t\"05\"\n",
      "\t\"06\"\n",
      "\t\"06\"\n",
      "]\n"
     ]
    }
   ],
   "source": [
    "print(df_t[\"tekn_farge\"].head(3))"
   ]
  },
  {
   "cell_type": "code",
   "execution_count": 10,
   "id": "0a4c021f-f6d2-4a52-943f-4300ab49de3f",
   "metadata": {},
   "outputs": [],
   "source": [
    "#3. Join inn navnet på fargen, det vil si, join “tekn_farge” med “kode” i fargekode.csv. Pass på at du ikke mister noen biler som vi ikke vet fargen på.\n",
    "df_fargekode = pl.read_csv(\"fargekode.csv\", separator=\";\", dtypes={\"kode\":str}).rename({\"kode\": \"tekn_farge\"})"
   ]
  },
  {
   "cell_type": "code",
   "execution_count": 11,
   "id": "7b079954-270a-486a-a700-434911e9113a",
   "metadata": {},
   "outputs": [
    {
     "data": {
      "text/html": [
       "<div><style>\n",
       ".dataframe > thead > tr,\n",
       ".dataframe > tbody > tr {\n",
       "  text-align: right;\n",
       "  white-space: pre-wrap;\n",
       "}\n",
       "</style>\n",
       "<small>shape: (16, 2)</small><table border=\"1\" class=\"dataframe\"><thead><tr><th>tekn_farge</th><th>beskrivelse</th></tr><tr><td>str</td><td>str</td></tr></thead><tbody><tr><td>&quot;1&quot;</td><td>&quot;Hvit (også ant…</td></tr><tr><td>&quot;2&quot;</td><td>&quot;Rød (også burg…</td></tr><tr><td>&quot;3&quot;</td><td>&quot;Blå&quot;</td></tr><tr><td>&quot;4&quot;</td><td>&quot;Grønn (også gr…</td></tr><tr><td>&quot;5&quot;</td><td>&quot;Grå&quot;</td></tr><tr><td>&hellip;</td><td>&hellip;</td></tr><tr><td>&quot;12&quot;</td><td>&quot;Gull (også bro…</td></tr><tr><td>&quot;13&quot;</td><td>&quot;Rosa&quot;</td></tr><tr><td>&quot;14&quot;</td><td>&quot;Fiolett (også …</td></tr><tr><td>&quot;29&quot;</td><td>&quot;Turkis (også b…</td></tr><tr><td>&quot;99&quot;</td><td>&quot;Annen (flerfar…</td></tr></tbody></table></div>"
      ],
      "text/plain": [
       "shape: (16, 2)\n",
       "┌────────────┬───────────────────────────────────┐\n",
       "│ tekn_farge ┆ beskrivelse                       │\n",
       "│ ---        ┆ ---                               │\n",
       "│ str        ┆ str                               │\n",
       "╞════════════╪═══════════════════════════════════╡\n",
       "│ 1          ┆ Hvit (også antikkhvit, offwhite)  │\n",
       "│ 2          ┆ Rød (også burgunder)              │\n",
       "│ 3          ┆ Blå                               │\n",
       "│ 4          ┆ Grønn (også grønngrå, blågrå)     │\n",
       "│ 5          ┆ Grå                               │\n",
       "│ …          ┆ …                                 │\n",
       "│ 12         ┆ Gull (også bronse, gull metallic… │\n",
       "│ 13         ┆ Rosa                              │\n",
       "│ 14         ┆ Fiolett (også blåfiolett, fiolet… │\n",
       "│ 29         ┆ Turkis (også blågrønn, grønnblå)  │\n",
       "│ 99         ┆ Annen (flerfargede kjøretøy migr… │\n",
       "└────────────┴───────────────────────────────────┘"
      ]
     },
     "execution_count": 11,
     "metadata": {},
     "output_type": "execute_result"
    }
   ],
   "source": [
    "df_fargekode"
   ]
  },
  {
   "cell_type": "code",
   "execution_count": 12,
   "id": "643d4cb2-1f34-4d77-8808-72e861de60f8",
   "metadata": {},
   "outputs": [
    {
     "data": {
      "text/html": [
       "<div><style>\n",
       ".dataframe > thead > tr,\n",
       ".dataframe > tbody > tr {\n",
       "  text-align: right;\n",
       "  white-space: pre-wrap;\n",
       "}\n",
       "</style>\n",
       "<small>shape: (2_692_915, 2)</small><table border=\"1\" class=\"dataframe\"><thead><tr><th>tekn_farge</th><th>beskrivelse</th></tr><tr><td>str</td><td>str</td></tr></thead><tbody><tr><td>&quot;05&quot;</td><td>null</td></tr><tr><td>&quot;06&quot;</td><td>null</td></tr><tr><td>&quot;06&quot;</td><td>null</td></tr><tr><td>&quot;01&quot;</td><td>null</td></tr><tr><td>&quot;06&quot;</td><td>null</td></tr><tr><td>&hellip;</td><td>&hellip;</td></tr><tr><td>&quot;11&quot;</td><td>&quot;Sølv (også søl…</td></tr><tr><td>&quot;05&quot;</td><td>null</td></tr><tr><td>&quot;05&quot;</td><td>null</td></tr><tr><td>&quot;01&quot;</td><td>null</td></tr><tr><td>&quot;11&quot;</td><td>&quot;Sølv (også søl…</td></tr></tbody></table></div>"
      ],
      "text/plain": [
       "shape: (2_692_915, 2)\n",
       "┌────────────┬───────────────────────────┐\n",
       "│ tekn_farge ┆ beskrivelse               │\n",
       "│ ---        ┆ ---                       │\n",
       "│ str        ┆ str                       │\n",
       "╞════════════╪═══════════════════════════╡\n",
       "│ 05         ┆ null                      │\n",
       "│ 06         ┆ null                      │\n",
       "│ 06         ┆ null                      │\n",
       "│ 01         ┆ null                      │\n",
       "│ 06         ┆ null                      │\n",
       "│ …          ┆ …                         │\n",
       "│ 11         ┆ Sølv (også sølv metallic) │\n",
       "│ 05         ┆ null                      │\n",
       "│ 05         ┆ null                      │\n",
       "│ 01         ┆ null                      │\n",
       "│ 11         ┆ Sølv (også sølv metallic) │\n",
       "└────────────┴───────────────────────────┘"
      ]
     },
     "execution_count": 12,
     "metadata": {},
     "output_type": "execute_result"
    }
   ],
   "source": [
    "df_joined = df_t.select(pl.col(\"tekn_farge\")).join(\n",
    "    df_fargekode.select(pl.col(\"tekn_farge\"), pl.col(\"beskrivelse\")),\n",
    "    on=\"tekn_farge\",\n",
    "    how=\"left\"\n",
    ")\n",
    "df_joined"
   ]
  },
  {
   "cell_type": "code",
   "execution_count": 13,
   "id": "60b45a32-6eb4-4664-960f-8855790762a5",
   "metadata": {},
   "outputs": [
    {
     "name": "stdout",
     "output_type": "stream",
     "text": [
      "shape: (3, 12)\n",
      "┌──────────────┬────────────────┬────────────────────┬────────────┬───┬────────────────┬────────────────┬───────────────────┬──────────────────────────┐\n",
      "│ tekn_reg_f_g ┆ tekn_reg_f_g_n ┆ tekn_reg_eier_dato ┆ tekn_merke ┆ … ┆ tekn_siste_pkk ┆ tekn_neste_pkk ┆ tekn_aksler_drift ┆ tekn_sitteplasser_totalt │\n",
      "│ ---          ┆ ---            ┆ ---                ┆ ---        ┆   ┆ ---            ┆ ---            ┆ ---               ┆ ---                      │\n",
      "│ i64          ┆ date           ┆ date               ┆ i64        ┆   ┆ str            ┆ date           ┆ i64               ┆ i64                      │\n",
      "╞══════════════╪════════════════╪════════════════════╪════════════╪═══╪════════════════╪════════════════╪═══════════════════╪══════════════════════════╡\n",
      "│ 20211013     ┆ 2021-10-13     ┆ 2021-10-13         ┆ 3900       ┆ … ┆ null           ┆ 2025-10-13     ┆ 2                 ┆ 3                        │\n",
      "│ 20200129     ┆ 2020-01-29     ┆ 2020-01-29         ┆ 5750       ┆ … ┆ 20231205       ┆ 2026-01-29     ┆ 2                 ┆ 2                        │\n",
      "│ 20231129     ┆ 2023-11-29     ┆ 2023-11-29         ┆ 2600       ┆ … ┆ null           ┆ 2027-11-29     ┆ 1                 ┆ 5                        │\n",
      "└──────────────┴────────────────┴────────────────────┴────────────┴───┴────────────────┴────────────────┴───────────────────┴──────────────────────────┘\n"
     ]
    }
   ],
   "source": [
    "print(df_t.head(3))"
   ]
  },
  {
   "cell_type": "code",
   "execution_count": 14,
   "id": "a030f06d-9e7d-45ee-a9ef-5495ba3f6860",
   "metadata": {},
   "outputs": [
    {
     "name": "stdout",
     "output_type": "stream",
     "text": [
      "['tekn_farge', 'beskrivelse']\n"
     ]
    }
   ],
   "source": [
    "print(df_fargekode.columns)"
   ]
  },
  {
   "cell_type": "code",
   "execution_count": 15,
   "id": "d15cec60-db64-45ef-93b4-8789e3ad6529",
   "metadata": {},
   "outputs": [
    {
     "data": {
      "text/html": [
       "<div><style>\n",
       ".dataframe > thead > tr,\n",
       ".dataframe > tbody > tr {\n",
       "  text-align: right;\n",
       "  white-space: pre-wrap;\n",
       "}\n",
       "</style>\n",
       "<small>shape: (2_692_915, 13)</small><table border=\"1\" class=\"dataframe\"><thead><tr><th>tekn_reg_f_g</th><th>tekn_reg_f_g_n</th><th>tekn_reg_eier_dato</th><th>tekn_merke</th><th>tekn_kjtgrp</th><th>tekn_modell</th><th>tekn_farge</th><th>tekn_drivstoff</th><th>tekn_siste_pkk</th><th>tekn_neste_pkk</th><th>tekn_aksler_drift</th><th>tekn_sitteplasser_totalt</th><th>er_elektrisk</th></tr><tr><td>i64</td><td>date</td><td>date</td><td>i64</td><td>i64</td><td>str</td><td>str</td><td>str</td><td>str</td><td>date</td><td>i64</td><td>i64</td><td>bool</td></tr></thead><tbody><tr><td>20211013</td><td>2021-10-13</td><td>2021-10-13</td><td>3900</td><td>315</td><td>&quot;VITO&quot;</td><td>&quot;05&quot;</td><td>&quot;2&quot;</td><td>null</td><td>2025-10-13</td><td>2</td><td>3</td><td>false</td></tr><tr><td>20200129</td><td>2020-01-29</td><td>2020-01-29</td><td>5750</td><td>315</td><td>&quot;CADDY&quot;</td><td>&quot;06&quot;</td><td>&quot;2&quot;</td><td>&quot;20231205&quot;</td><td>2026-01-29</td><td>2</td><td>2</td><td>false</td></tr><tr><td>20231129</td><td>2023-11-29</td><td>2023-11-29</td><td>2600</td><td>101</td><td>&quot;Mustang Mach-E…</td><td>&quot;06&quot;</td><td>&quot;5&quot;</td><td>null</td><td>2027-11-29</td><td>1</td><td>5</td><td>true</td></tr><tr><td>20200127</td><td>2020-01-27</td><td>2020-01-27</td><td>5750</td><td>315</td><td>&quot;CADDY&quot;</td><td>&quot;01&quot;</td><td>&quot;2&quot;</td><td>null</td><td>2024-01-27</td><td>2</td><td>2</td><td>false</td></tr><tr><td>20180731</td><td>2019-01-30</td><td>2019-01-30</td><td>2600</td><td>315</td><td>&quot;F-150 Platinum…</td><td>&quot;06&quot;</td><td>&quot;2&quot;</td><td>&quot;20220503&quot;</td><td>2024-05-03</td><td>2</td><td>2</td><td>false</td></tr><tr><td>&hellip;</td><td>&hellip;</td><td>&hellip;</td><td>&hellip;</td><td>&hellip;</td><td>&hellip;</td><td>&hellip;</td><td>&hellip;</td><td>&hellip;</td><td>&hellip;</td><td>&hellip;</td><td>&hellip;</td><td>&hellip;</td></tr><tr><td>20031127</td><td>2003-11-27</td><td>2017-06-10</td><td>4350</td><td>101</td><td>&quot;ZAFIRA-A&quot;</td><td>&quot;11&quot;</td><td>&quot;1&quot;</td><td>&quot;20190514&quot;</td><td>2021-04-30</td><td>0</td><td>7</td><td>false</td></tr><tr><td>20140117</td><td>2014-01-17</td><td>2018-07-31</td><td>2600</td><td>315</td><td>&quot;RANGER&quot;</td><td>&quot;05&quot;</td><td>&quot;2&quot;</td><td>&quot;20220511&quot;</td><td>2024-06-30</td><td>2</td><td>2</td><td>false</td></tr><tr><td>20080331</td><td>2008-03-31</td><td>2023-07-28</td><td>3930</td><td>101</td><td>&quot;MX-5&quot;</td><td>&quot;05&quot;</td><td>&quot;1&quot;</td><td>&quot;20230816&quot;</td><td>2025-08-16</td><td>0</td><td>2</td><td>false</td></tr><tr><td>20150731</td><td>2015-07-31</td><td>2023-06-30</td><td>4500</td><td>101</td><td>&quot;iOn&quot;</td><td>&quot;01&quot;</td><td>&quot;5&quot;</td><td>&quot;20230320&quot;</td><td>2025-03-31</td><td>1</td><td>4</td><td>true</td></tr><tr><td>20040921</td><td>2004-09-21</td><td>2014-01-20</td><td>5750</td><td>101</td><td>&quot;POLO&quot;</td><td>&quot;11&quot;</td><td>&quot;1&quot;</td><td>&quot;20141017&quot;</td><td>null</td><td>0</td><td>5</td><td>false</td></tr></tbody></table></div>"
      ],
      "text/plain": [
       "shape: (2_692_915, 13)\n",
       "┌──────────────┬────────────────┬────────────────────┬────────────┬───┬────────────────┬───────────────────┬──────────────────────────┬──────────────┐\n",
       "│ tekn_reg_f_g ┆ tekn_reg_f_g_n ┆ tekn_reg_eier_dato ┆ tekn_merke ┆ … ┆ tekn_neste_pkk ┆ tekn_aksler_drift ┆ tekn_sitteplasser_totalt ┆ er_elektrisk │\n",
       "│ ---          ┆ ---            ┆ ---                ┆ ---        ┆   ┆ ---            ┆ ---               ┆ ---                      ┆ ---          │\n",
       "│ i64          ┆ date           ┆ date               ┆ i64        ┆   ┆ date           ┆ i64               ┆ i64                      ┆ bool         │\n",
       "╞══════════════╪════════════════╪════════════════════╪════════════╪═══╪════════════════╪═══════════════════╪══════════════════════════╪══════════════╡\n",
       "│ 20211013     ┆ 2021-10-13     ┆ 2021-10-13         ┆ 3900       ┆ … ┆ 2025-10-13     ┆ 2                 ┆ 3                        ┆ false        │\n",
       "│ 20200129     ┆ 2020-01-29     ┆ 2020-01-29         ┆ 5750       ┆ … ┆ 2026-01-29     ┆ 2                 ┆ 2                        ┆ false        │\n",
       "│ 20231129     ┆ 2023-11-29     ┆ 2023-11-29         ┆ 2600       ┆ … ┆ 2027-11-29     ┆ 1                 ┆ 5                        ┆ true         │\n",
       "│ 20200127     ┆ 2020-01-27     ┆ 2020-01-27         ┆ 5750       ┆ … ┆ 2024-01-27     ┆ 2                 ┆ 2                        ┆ false        │\n",
       "│ 20180731     ┆ 2019-01-30     ┆ 2019-01-30         ┆ 2600       ┆ … ┆ 2024-05-03     ┆ 2                 ┆ 2                        ┆ false        │\n",
       "│ …            ┆ …              ┆ …                  ┆ …          ┆ … ┆ …              ┆ …                 ┆ …                        ┆ …            │\n",
       "│ 20031127     ┆ 2003-11-27     ┆ 2017-06-10         ┆ 4350       ┆ … ┆ 2021-04-30     ┆ 0                 ┆ 7                        ┆ false        │\n",
       "│ 20140117     ┆ 2014-01-17     ┆ 2018-07-31         ┆ 2600       ┆ … ┆ 2024-06-30     ┆ 2                 ┆ 2                        ┆ false        │\n",
       "│ 20080331     ┆ 2008-03-31     ┆ 2023-07-28         ┆ 3930       ┆ … ┆ 2025-08-16     ┆ 0                 ┆ 2                        ┆ false        │\n",
       "│ 20150731     ┆ 2015-07-31     ┆ 2023-06-30         ┆ 4500       ┆ … ┆ 2025-03-31     ┆ 1                 ┆ 4                        ┆ true         │\n",
       "│ 20040921     ┆ 2004-09-21     ┆ 2014-01-20         ┆ 5750       ┆ … ┆ null           ┆ 0                 ┆ 5                        ┆ false        │\n",
       "└──────────────┴────────────────┴────────────────────┴────────────┴───┴────────────────┴───────────────────┴──────────────────────────┴──────────────┘"
      ]
     },
     "execution_count": 15,
     "metadata": {},
     "output_type": "execute_result"
    }
   ],
   "source": [
    "#4. Lag en kolonne “elbil” som er sann hvis drivstofftypen er kun elektrisk, false ellers.\n",
    "df_t = df_t.with_columns(\n",
    "    er_elektrisk=pl.col(\"tekn_drivstoff\").eq(pl.lit(\"5\"))\n",
    ")\n",
    "\n",
    "\n",
    "df_t"
   ]
  },
  {
   "cell_type": "code",
   "execution_count": 16,
   "id": "f3032563-ab9a-4dd9-b425-7a657147c7ca",
   "metadata": {},
   "outputs": [],
   "source": [
    "#5.Hent ut bare kolonnene:\n",
    "selected_columns = [\n",
    "    \"tekn_reg_f_g_n\",\n",
    "    \"tekn_reg_eier_dato\",\n",
    "    \"tekn_aksler_drift\",\n",
    "    \"tekn_merke\",\n",
    "    \"tekn_modell\",\n",
    "    \"tekn_drivstoff\",\n",
    "    \"tekn_neste_pkk\",\n",
    "    \"er_elektrisk\",\n",
    "    \"tekn_farge\",\n",
    "    \"tekn_kjtgrp\"\n",
    "]\n",
    "\n",
    "df_selected = df_t.select(selected_columns)"
   ]
  },
  {
   "cell_type": "code",
   "execution_count": 17,
   "id": "70fd22ea-d70c-41de-bb5d-f6dafb1d997f",
   "metadata": {},
   "outputs": [],
   "source": [
    "#6. Skriv hele datasettet til en fil: kjoretoyinfo_preppet.parquet\n",
    "df_p=df_selected.write_parquet('kjoretoyinfo_preppet.parquet')"
   ]
  },
  {
   "cell_type": "code",
   "execution_count": 18,
   "id": "e2b1ccf5-88ba-468f-afd6-0307fca4f1e0",
   "metadata": {},
   "outputs": [
    {
     "name": "stdout",
     "output_type": "stream",
     "text": [
      "shape: (5, 10)\n",
      "┌────────────────┬────────────────────┬───────────────────┬────────────┬───┬────────────────┬──────────────┬────────────┬─────────────┐\n",
      "│ tekn_reg_f_g_n ┆ tekn_reg_eier_dato ┆ tekn_aksler_drift ┆ tekn_merke ┆ … ┆ tekn_neste_pkk ┆ er_elektrisk ┆ tekn_farge ┆ tekn_kjtgrp │\n",
      "│ ---            ┆ ---                ┆ ---               ┆ ---        ┆   ┆ ---            ┆ ---          ┆ ---        ┆ ---         │\n",
      "│ date           ┆ date               ┆ i64               ┆ i64        ┆   ┆ date           ┆ bool         ┆ str        ┆ i64         │\n",
      "╞════════════════╪════════════════════╪═══════════════════╪════════════╪═══╪════════════════╪══════════════╪════════════╪═════════════╡\n",
      "│ 2021-10-13     ┆ 2021-10-13         ┆ 2                 ┆ 3900       ┆ … ┆ 2025-10-13     ┆ false        ┆ 05         ┆ 315         │\n",
      "│ 2020-01-29     ┆ 2020-01-29         ┆ 2                 ┆ 5750       ┆ … ┆ 2026-01-29     ┆ false        ┆ 06         ┆ 315         │\n",
      "│ 2023-11-29     ┆ 2023-11-29         ┆ 1                 ┆ 2600       ┆ … ┆ 2027-11-29     ┆ true         ┆ 06         ┆ 101         │\n",
      "│ 2020-01-27     ┆ 2020-01-27         ┆ 2                 ┆ 5750       ┆ … ┆ 2024-01-27     ┆ false        ┆ 01         ┆ 315         │\n",
      "│ 2019-01-30     ┆ 2019-01-30         ┆ 2                 ┆ 2600       ┆ … ┆ 2024-05-03     ┆ false        ┆ 06         ┆ 315         │\n",
      "└────────────────┴────────────────────┴───────────────────┴────────────┴───┴────────────────┴──────────────┴────────────┴─────────────┘\n"
     ]
    }
   ],
   "source": [
    "df_preppet = pl.read_parquet('kjoretoyinfo_preppet.parquet')\n",
    "\n",
    "print(df_preppet.head())"
   ]
  }
 ],
 "metadata": {
  "kernelspec": {
   "display_name": "Python 3 (ipykernel)",
   "language": "python",
   "name": "python3"
  },
  "language_info": {
   "codemirror_mode": {
    "name": "ipython",
    "version": 3
   },
   "file_extension": ".py",
   "mimetype": "text/x-python",
   "name": "python",
   "nbconvert_exporter": "python",
   "pygments_lexer": "ipython3",
   "version": "3.10.13"
  }
 },
 "nbformat": 4,
 "nbformat_minor": 5
}
