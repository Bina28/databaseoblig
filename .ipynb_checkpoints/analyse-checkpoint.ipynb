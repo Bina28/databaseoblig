{
 "cells": [
  {
   "cell_type": "code",
   "execution_count": 1,
   "id": "b19958a3-fd8d-43e5-8c57-a24a973ce2e3",
   "metadata": {},
   "outputs": [],
   "source": [
    "import polars as pl"
   ]
  },
  {
   "cell_type": "code",
   "execution_count": 2,
   "id": "3d8035b5-1032-4f09-872e-278b04e92d78",
   "metadata": {},
   "outputs": [],
   "source": [
    "from datetime import date"
   ]
  },
  {
   "cell_type": "code",
   "execution_count": 3,
   "id": "4314188d-05a0-4496-a6f5-9367690fb152",
   "metadata": {},
   "outputs": [],
   "source": [
    "df_preppet = pl.read_parquet('kjoretoyinfo_preppet.parquet')"
   ]
  },
  {
   "cell_type": "code",
   "execution_count": 4,
   "id": "263af6fc-71eb-4821-9ac0-1669356b528c",
   "metadata": {},
   "outputs": [
    {
     "data": {
      "text/html": [
       "<div><style>\n",
       ".dataframe > thead > tr,\n",
       ".dataframe > tbody > tr {\n",
       "  text-align: right;\n",
       "  white-space: pre-wrap;\n",
       "}\n",
       "</style>\n",
       "<small>shape: (2_692_915, 10)</small><table border=\"1\" class=\"dataframe\"><thead><tr><th>tekn_reg_f_g_n</th><th>tekn_reg_eier_dato</th><th>tekn_aksler_drift</th><th>tekn_merke</th><th>tekn_modell</th><th>tekn_drivstoff</th><th>tekn_neste_pkk</th><th>er_elektrisk</th><th>tekn_farge</th><th>tekn_kjtgrp</th></tr><tr><td>date</td><td>date</td><td>i64</td><td>i64</td><td>str</td><td>str</td><td>date</td><td>bool</td><td>str</td><td>i64</td></tr></thead><tbody><tr><td>2021-10-13</td><td>2021-10-13</td><td>2</td><td>3900</td><td>&quot;VITO&quot;</td><td>&quot;2&quot;</td><td>2025-10-13</td><td>false</td><td>&quot;05&quot;</td><td>315</td></tr><tr><td>2020-01-29</td><td>2020-01-29</td><td>2</td><td>5750</td><td>&quot;CADDY&quot;</td><td>&quot;2&quot;</td><td>2026-01-29</td><td>false</td><td>&quot;06&quot;</td><td>315</td></tr><tr><td>2023-11-29</td><td>2023-11-29</td><td>1</td><td>2600</td><td>&quot;Mustang Mach-E…</td><td>&quot;5&quot;</td><td>2027-11-29</td><td>true</td><td>&quot;06&quot;</td><td>101</td></tr><tr><td>2020-01-27</td><td>2020-01-27</td><td>2</td><td>5750</td><td>&quot;CADDY&quot;</td><td>&quot;2&quot;</td><td>2024-01-27</td><td>false</td><td>&quot;01&quot;</td><td>315</td></tr><tr><td>2019-01-30</td><td>2019-01-30</td><td>2</td><td>2600</td><td>&quot;F-150 Platinum…</td><td>&quot;2&quot;</td><td>2024-05-03</td><td>false</td><td>&quot;06&quot;</td><td>315</td></tr><tr><td>&hellip;</td><td>&hellip;</td><td>&hellip;</td><td>&hellip;</td><td>&hellip;</td><td>&hellip;</td><td>&hellip;</td><td>&hellip;</td><td>&hellip;</td><td>&hellip;</td></tr><tr><td>2003-11-27</td><td>2017-06-10</td><td>0</td><td>4350</td><td>&quot;ZAFIRA-A&quot;</td><td>&quot;1&quot;</td><td>2021-04-30</td><td>false</td><td>&quot;11&quot;</td><td>101</td></tr><tr><td>2014-01-17</td><td>2018-07-31</td><td>2</td><td>2600</td><td>&quot;RANGER&quot;</td><td>&quot;2&quot;</td><td>2024-06-30</td><td>false</td><td>&quot;05&quot;</td><td>315</td></tr><tr><td>2008-03-31</td><td>2023-07-28</td><td>0</td><td>3930</td><td>&quot;MX-5&quot;</td><td>&quot;1&quot;</td><td>2025-08-16</td><td>false</td><td>&quot;05&quot;</td><td>101</td></tr><tr><td>2015-07-31</td><td>2023-06-30</td><td>1</td><td>4500</td><td>&quot;iOn&quot;</td><td>&quot;5&quot;</td><td>2025-03-31</td><td>true</td><td>&quot;01&quot;</td><td>101</td></tr><tr><td>2004-09-21</td><td>2014-01-20</td><td>0</td><td>5750</td><td>&quot;POLO&quot;</td><td>&quot;1&quot;</td><td>null</td><td>false</td><td>&quot;11&quot;</td><td>101</td></tr></tbody></table></div>"
      ],
      "text/plain": [
       "shape: (2_692_915, 10)\n",
       "┌────────────────┬────────────────────┬───────────────────┬────────────┬───┬────────────────┬──────────────┬────────────┬─────────────┐\n",
       "│ tekn_reg_f_g_n ┆ tekn_reg_eier_dato ┆ tekn_aksler_drift ┆ tekn_merke ┆ … ┆ tekn_neste_pkk ┆ er_elektrisk ┆ tekn_farge ┆ tekn_kjtgrp │\n",
       "│ ---            ┆ ---                ┆ ---               ┆ ---        ┆   ┆ ---            ┆ ---          ┆ ---        ┆ ---         │\n",
       "│ date           ┆ date               ┆ i64               ┆ i64        ┆   ┆ date           ┆ bool         ┆ str        ┆ i64         │\n",
       "╞════════════════╪════════════════════╪═══════════════════╪════════════╪═══╪════════════════╪══════════════╪════════════╪═════════════╡\n",
       "│ 2021-10-13     ┆ 2021-10-13         ┆ 2                 ┆ 3900       ┆ … ┆ 2025-10-13     ┆ false        ┆ 05         ┆ 315         │\n",
       "│ 2020-01-29     ┆ 2020-01-29         ┆ 2                 ┆ 5750       ┆ … ┆ 2026-01-29     ┆ false        ┆ 06         ┆ 315         │\n",
       "│ 2023-11-29     ┆ 2023-11-29         ┆ 1                 ┆ 2600       ┆ … ┆ 2027-11-29     ┆ true         ┆ 06         ┆ 101         │\n",
       "│ 2020-01-27     ┆ 2020-01-27         ┆ 2                 ┆ 5750       ┆ … ┆ 2024-01-27     ┆ false        ┆ 01         ┆ 315         │\n",
       "│ 2019-01-30     ┆ 2019-01-30         ┆ 2                 ┆ 2600       ┆ … ┆ 2024-05-03     ┆ false        ┆ 06         ┆ 315         │\n",
       "│ …              ┆ …                  ┆ …                 ┆ …          ┆ … ┆ …              ┆ …            ┆ …          ┆ …           │\n",
       "│ 2003-11-27     ┆ 2017-06-10         ┆ 0                 ┆ 4350       ┆ … ┆ 2021-04-30     ┆ false        ┆ 11         ┆ 101         │\n",
       "│ 2014-01-17     ┆ 2018-07-31         ┆ 2                 ┆ 2600       ┆ … ┆ 2024-06-30     ┆ false        ┆ 05         ┆ 315         │\n",
       "│ 2008-03-31     ┆ 2023-07-28         ┆ 0                 ┆ 3930       ┆ … ┆ 2025-08-16     ┆ false        ┆ 05         ┆ 101         │\n",
       "│ 2015-07-31     ┆ 2023-06-30         ┆ 1                 ┆ 4500       ┆ … ┆ 2025-03-31     ┆ true         ┆ 01         ┆ 101         │\n",
       "│ 2004-09-21     ┆ 2014-01-20         ┆ 0                 ┆ 5750       ┆ … ┆ null           ┆ false        ┆ 11         ┆ 101         │\n",
       "└────────────────┴────────────────────┴───────────────────┴────────────┴───┴────────────────┴──────────────┴────────────┴─────────────┘"
      ]
     },
     "execution_count": 4,
     "metadata": {},
     "output_type": "execute_result"
    }
   ],
   "source": [
    "df_preppet"
   ]
  },
  {
   "cell_type": "code",
   "execution_count": 5,
   "id": "5880ebc9-56b0-4d97-820f-e5b6b6bf735a",
   "metadata": {},
   "outputs": [],
   "source": [
    "#7. Hvor mange elbiler (drivstofftype 5) ble førstegangsregistrert i 2022?\n",
    "elbiler_2022 = df_preppet.filter(\n",
    "    (pl.col(\"er_elektrisk\")) & \n",
    "    (pl.col(\"tekn_reg_f_g_n\").dt.year() == 2022)\n",
    ")\n",
    "\n",
    "antall_elbiler_2022 = elbiler_2022.height"
   ]
  },
  {
   "cell_type": "code",
   "execution_count": 6,
   "id": "4d4cbc5b-2e88-4514-978d-97190058c5a2",
   "metadata": {},
   "outputs": [
    {
     "name": "stdout",
     "output_type": "stream",
     "text": [
      "37249\n"
     ]
    }
   ],
   "source": [
    "print(antall_elbiler_2022)"
   ]
  },
  {
   "cell_type": "code",
   "execution_count": 7,
   "id": "7e11df38-4ad9-4aaa-8476-515ea3474f09",
   "metadata": {},
   "outputs": [],
   "source": [
    "#8.Hvor mange prosent av personbilene som ble solgt i 2022 var elbiler?\n",
    "elbiler_2022 = df_preppet.filter(\n",
    "    (pl.col(\"er_elektrisk\")) & \n",
    "    (pl.col(\"tekn_reg_eier_dato\").dt.year() == 2022)\n",
    ")\n",
    "\n",
    "antall_elbiler_solgt_2022 = elbiler_2022.height"
   ]
  },
  {
   "cell_type": "code",
   "execution_count": 8,
   "id": "b98e6378-2e4d-40ca-a9b9-c34b37b4b42b",
   "metadata": {},
   "outputs": [],
   "source": [
    "alle_biler_2022 = df_preppet.filter(\n",
    "  (pl.col(\"tekn_reg_eier_dato\").dt.year() == 2022)\n",
    ")\n",
    "\n",
    "antall_biler_solgt_2022 = alle_biler_2022.height"
   ]
  },
  {
   "cell_type": "code",
   "execution_count": 9,
   "id": "be3e92dd-fd01-459c-b970-9635386865d4",
   "metadata": {},
   "outputs": [],
   "source": [
    "prosent_elbiler_solgt_2022 = (antall_elbiler_solgt_2022 / antall_biler_solgt_2022) * 100"
   ]
  },
  {
   "cell_type": "code",
   "execution_count": 10,
   "id": "e1aa886d-c0b4-40fd-aea3-a58578c09822",
   "metadata": {},
   "outputs": [
    {
     "name": "stdout",
     "output_type": "stream",
     "text": [
      "15.14159450417831\n"
     ]
    }
   ],
   "source": [
    "print(prosent_elbiler_solgt_2022)"
   ]
  },
  {
   "cell_type": "code",
   "execution_count": 11,
   "id": "0b04915b-323d-41cd-a43d-015ce6e6a248",
   "metadata": {},
   "outputs": [],
   "source": [
    "# 9. Hvilken bilmodell var den mest populære i 2022?\n",
    "df_2022 = df_preppet.filter(\n",
    "     (pl.col(\"tekn_reg_eier_dato\").dt.year() == 2022)\n",
    ")"
   ]
  },
  {
   "cell_type": "code",
   "execution_count": 12,
   "id": "e24eb5e4-f1a7-4979-84ad-4f1d7d482327",
   "metadata": {},
   "outputs": [],
   "source": [
    "populare_biler_2022 = df_2022.group_by('tekn_modell').len()"
   ]
  },
  {
   "cell_type": "code",
   "execution_count": 13,
   "id": "2d1af599-f381-4107-b854-b0b1f5a27662",
   "metadata": {},
   "outputs": [],
   "source": [
    "populare_biler_2022 = populare_biler_2022.sort('len', descending=True)"
   ]
  },
  {
   "cell_type": "code",
   "execution_count": 14,
   "id": "23590454-fb3e-4129-bbf3-278fe4323852",
   "metadata": {},
   "outputs": [
    {
     "name": "stdout",
     "output_type": "stream",
     "text": [
      "Den mest populære bilmodellen i 2022 var: GOLF\n"
     ]
    }
   ],
   "source": [
    "mest_popular_bilmodell = populare_biler_2022.get_column('tekn_modell')[0]\n",
    "\n",
    "print(\"Den mest populære bilmodellen i 2022 var:\", mest_popular_bilmodell)"
   ]
  },
  {
   "cell_type": "code",
   "execution_count": 15,
   "id": "4589e999-1e13-4f7d-9203-0bcde3b036b2",
   "metadata": {},
   "outputs": [
    {
     "name": "stdout",
     "output_type": "stream",
     "text": [
      "Antall gule kjøretøy solgt i mai 2022: 0\n"
     ]
    }
   ],
   "source": [
    "#10. Hvor mange gule kjøretøy ble det solgt i Mai 2022?\n",
    "gule_kjoretoy_mai_2022 = df_preppet.filter(\n",
    "    (pl.col(\"tekn_farge\") == \"gul\") & \n",
    "    (pl.col(\"tekn_reg_eier_dato\").dt.year() == 2022) & \n",
    "    (pl.col(\"tekn_reg_eier_dato\").dt.month() == 5)\n",
    ")\n",
    "\n",
    "antall_gule_kjoretoy_mai_2022 = gule_kjoretoy_mai_2022.shape[0]\n",
    "\n",
    "print(f\"Antall gule kjøretøy solgt i mai 2022: {antall_gule_kjoretoy_mai_2022}\")"
   ]
  },
  {
   "cell_type": "code",
   "execution_count": 16,
   "id": "9b8cc1bf-0f28-4d97-b1c4-561059ad1360",
   "metadata": {},
   "outputs": [],
   "source": [
    "#11. Hvor stor andel av personbilene bilene som selges i Norge har firehjulstrekk?\n",
    "firehjulstrekk_biler = df_preppet.filter(pl.col(\"tekn_aksler_drift\") == 2)"
   ]
  },
  {
   "cell_type": "code",
   "execution_count": 17,
   "id": "63640b37-fd07-4c94-8d11-e3d5f8c11195",
   "metadata": {},
   "outputs": [],
   "source": [
    "andel_biler_solgt_firehjulstrekk = (firehjulstrekk_biler.shape[0] / df_preppet.shape[0] * 100)"
   ]
  },
  {
   "cell_type": "code",
   "execution_count": 18,
   "id": "5d9b9394-e7c9-41d2-ba66-f824f8d48227",
   "metadata": {},
   "outputs": [
    {
     "name": "stdout",
     "output_type": "stream",
     "text": [
      "Andelen av alle biler solgt med firehjulstrekk er: 33.22689353358721%\n"
     ]
    }
   ],
   "source": [
    "print(f\"Andelen av alle biler solgt med firehjulstrekk er: {andel_biler_solgt_firehjulstrekk}%\")"
   ]
  },
  {
   "cell_type": "code",
   "execution_count": 19,
   "id": "d709b36d-f8d7-4aca-80cf-dacb303014fa",
   "metadata": {},
   "outputs": [],
   "source": [
    "#12. Hvilken måned i året førstegangsregistreres det flest biler i Norge?\n",
    "førstegangsregistreres_biler = df_preppet.filter(pl.col(\"tekn_reg_f_g_n\").is_not_null())"
   ]
  },
  {
   "cell_type": "code",
   "execution_count": 20,
   "id": "177ad03b-98be-4fa0-8f84-dd95562e8d4b",
   "metadata": {},
   "outputs": [],
   "source": [
    "mest_populær_måned = (\n",
    "    førstegangsregistreres_biler.group_by(førstegangsregistreres_biler['tekn_reg_f_g_n'].dt.month())\n",
    "    .agg(pl.col(\"tekn_reg_f_g_n\").count().alias(\"count\"))\n",
    "    .sort(\"count\", descending=True)\n",
    "    .head(1)\n",
    ")"
   ]
  },
  {
   "cell_type": "code",
   "execution_count": 21,
   "id": "39d58d42-126e-486b-9ef5-e4864a40f2f9",
   "metadata": {},
   "outputs": [
    {
     "name": "stdout",
     "output_type": "stream",
     "text": [
      "Måneden med flest førstegangsregistreringer er: shape: (1, 2)\n",
      "┌────────────────┬────────┐\n",
      "│ tekn_reg_f_g_n ┆ count  │\n",
      "│ ---            ┆ ---    │\n",
      "│ i8             ┆ u32    │\n",
      "╞════════════════╪════════╡\n",
      "│ 6              ┆ 248455 │\n",
      "└────────────────┴────────┘\n"
     ]
    }
   ],
   "source": [
    "print(f\"Måneden med flest førstegangsregistreringer er: {mest_populær_måned}\")"
   ]
  },
  {
   "cell_type": "code",
   "execution_count": 22,
   "id": "865fbac7-a097-4ae0-a197-e3f29ecdfd29",
   "metadata": {},
   "outputs": [],
   "source": [
    "#13. Hva var den mest populære fargen for biler som var førstegangsregistrert i Norge i hvert år?\n",
    "populare_farger_per_år = df_preppet.group_by([pl.col(\"tekn_reg_eier_dato\").dt.year(), 'tekn_farge']).len()"
   ]
  },
  {
   "cell_type": "code",
   "execution_count": 23,
   "id": "6438ec8e-8a73-462d-b488-6362662ddc91",
   "metadata": {},
   "outputs": [
    {
     "name": "stdout",
     "output_type": "stream",
     "text": [
      "Den mest populære fargen for biler førstegangsregistrert i Norge hvert år var:\n",
      "shape: (25, 3)\n",
      "┌────────────────────┬────────────────────┬────────────────────┐\n",
      "│ tekn_reg_eier_dato ┆ mest_populær_farge ┆ antall_forekomster │\n",
      "│ ---                ┆ ---                ┆ ---                │\n",
      "│ i32                ┆ str                ┆ u32                │\n",
      "╞════════════════════╪════════════════════╪════════════════════╡\n",
      "│ 2017               ┆ 05,06              ┆ 16                 │\n",
      "│ 2006               ┆ 03                 ┆ 3357               │\n",
      "│ 2010               ┆ 08,99              ┆ 2                  │\n",
      "│ 2005               ┆ 01,99              ┆ 51                 │\n",
      "│ 2003               ┆ 06                 ┆ 1548               │\n",
      "│ …                  ┆ …                  ┆ …                  │\n",
      "│ 2002               ┆ 01                 ┆ 545                │\n",
      "│ 2014               ┆ 11                 ┆ 14332              │\n",
      "│ 2016               ┆ 04                 ┆ 4926               │\n",
      "│ 2007               ┆ 07                 ┆ 416                │\n",
      "│ 2013               ┆ 01,99              ┆ 145                │\n",
      "└────────────────────┴────────────────────┴────────────────────┘\n"
     ]
    }
   ],
   "source": [
    "populare_farger_per_år = df_preppet.group_by([pl.col(\"tekn_reg_eier_dato\").dt.year(), 'tekn_farge']).len()\n",
    "\n",
    "\n",
    "mest_popular_farger_per_år = populare_farger_per_år \\\n",
    "    .group_by('tekn_reg_eier_dato') \\\n",
    "    .agg(\n",
    "        pl.first('tekn_farge').alias('mest_populær_farge'),\n",
    "        pl.first('len').alias('antall_forekomster')\n",
    "    )\n",
    "\n",
    "print(\"Den mest populære fargen for biler førstegangsregistrert i Norge hvert år var:\")\n",
    "print(mest_popular_farger_per_år)\n"
   ]
  },
  {
   "cell_type": "code",
   "execution_count": 24,
   "id": "8458617d-88a9-4d7d-9394-bfdcea9d34a6",
   "metadata": {},
   "outputs": [
    {
     "name": "stdout",
     "output_type": "stream",
     "text": [
      "Den mest populære fargen for traktorer i 2022 var: 04\n"
     ]
    }
   ],
   "source": [
    "#14. Hvilken farge var den mest populære for traktorer i 2022? (se teknisk-kode.csv)\n",
    "df_preppet = pl.read_parquet(\"kjoretoyinfo_preppet.parquet\")\n",
    "\n",
    "traktorer_2022 = df_preppet.filter(\n",
    "    (pl.col(\"tekn_kjtgrp\") == 401) &  \n",
    "    (pl.col(\"tekn_reg_f_g_n\").dt.year() == 2022)\n",
    ")\n",
    "\n",
    "populær_farge = traktorer_2022.group_by(\"tekn_farge\").agg(pl.col(\"tekn_farge\").count().alias(\"count\"))\n",
    "\n",
    "populær_farge = populær_farge.sort(\"count\", descending=True)\n",
    "\n",
    "populær_farge = populær_farge.get_column('tekn_farge')[0]\n",
    "\n",
    "print(f\"Den mest populære fargen for traktorer i 2022 var: {populær_farge}\")"
   ]
  },
  {
   "cell_type": "code",
   "execution_count": 25,
   "id": "09681244-7fb4-4f16-8a9d-3c6c6f053961",
   "metadata": {},
   "outputs": [],
   "source": [
    "#15. Hvilke bilmerker var de fem mest populære i 2022?\n",
    "df_2022 = df_preppet.filter(\n",
    "     (pl.col(\"tekn_reg_eier_dato\").dt.year() == 2022)\n",
    ")"
   ]
  },
  {
   "cell_type": "code",
   "execution_count": 26,
   "id": "8e4a7965-10a4-4e71-b1ec-76dc2a7f420f",
   "metadata": {},
   "outputs": [],
   "source": [
    "top_5_popular_brands=df_2022.group_by(\"tekn_modell\").agg(\n",
    "    pl.col(\"tekn_modell\").count().alias(\"antall_modeller\")\n",
    ").sort(\"antall_modeller\", descending=True).head(5)"
   ]
  },
  {
   "cell_type": "code",
   "execution_count": 27,
   "id": "74b3963e-2f61-4c02-8e60-e129fa033f0f",
   "metadata": {},
   "outputs": [
    {
     "name": "stdout",
     "output_type": "stream",
     "text": [
      "shape: (5, 2)\n",
      "┌─────────────┬─────────────────┐\n",
      "│ tekn_modell ┆ antall_modeller │\n",
      "│ ---         ┆ ---             │\n",
      "│ str         ┆ u32             │\n",
      "╞═════════════╪═════════════════╡\n",
      "│ GOLF        ┆ 10001           │\n",
      "│ Model Y     ┆ 8401            │\n",
      "│ TRANSPORTER ┆ 5220            │\n",
      "│ CADDY       ┆ 4897            │\n",
      "│ PASSAT      ┆ 4776            │\n",
      "└─────────────┴─────────────────┘\n"
     ]
    }
   ],
   "source": [
    "print(top_5_popular_brands)"
   ]
  },
  {
   "cell_type": "code",
   "execution_count": 28,
   "id": "352bc41b-02fd-47e3-a943-7b07946e7152",
   "metadata": {},
   "outputs": [],
   "source": [
    "#16. Hva var den mest populære fargen for de fem mest populære bilmerkene i 2022 (førstegangsregistrert 2022)\n",
    "top_5_brands_list = top_5_popular_brands['tekn_modell'].to_list()"
   ]
  },
  {
   "cell_type": "code",
   "execution_count": 29,
   "id": "feaae7be-9438-422f-b599-2e9f5030a675",
   "metadata": {},
   "outputs": [],
   "source": [
    "filtered_df = df_2022.filter(pl.col(\"tekn_modell\").is_in(top_5_brands_list))"
   ]
  },
  {
   "cell_type": "code",
   "execution_count": 30,
   "id": "bd90abe9-5ead-4818-a395-659711787300",
   "metadata": {},
   "outputs": [],
   "source": [
    "grouped_colors_df = filtered_df.group_by([\"tekn_modell\", \"tekn_farge\"]).agg(\n",
    "    pl.col(\"tekn_farge\").count().alias(\"antall_farger\")\n",
    ")"
   ]
  },
  {
   "cell_type": "code",
   "execution_count": 31,
   "id": "358e1929-5013-4df6-8850-ff6aaaa3b43a",
   "metadata": {},
   "outputs": [],
   "source": [
    "most_popular_colors = grouped_colors_df\\\n",
    "    .sort(\"antall_farger\", descending=True)\\\n",
    "    .group_by(\"tekn_modell\")\\\n",
    "    .agg(\n",
    "        pl.first(\"tekn_farge\").alias(\"mest_populær_farge\"),\n",
    "        pl.first(\"antall_farger\").alias(\"antall_farger\")\n",
    "    )\n"
   ]
  },
  {
   "cell_type": "code",
   "execution_count": 32,
   "id": "8b74fa88-eb05-445f-a6c4-d2b5361581a1",
   "metadata": {},
   "outputs": [
    {
     "name": "stdout",
     "output_type": "stream",
     "text": [
      "shape: (5, 3)\n",
      "┌─────────────┬────────────────────┬───────────────┐\n",
      "│ tekn_modell ┆ mest_populær_farge ┆ antall_farger │\n",
      "│ ---         ┆ ---                ┆ ---           │\n",
      "│ str         ┆ str                ┆ u32           │\n",
      "╞═════════════╪════════════════════╪═══════════════╡\n",
      "│ TRANSPORTER ┆ 01                 ┆ 1890          │\n",
      "│ PASSAT      ┆ 06                 ┆ 1603          │\n",
      "│ Model Y     ┆ 06                 ┆ 3431          │\n",
      "│ GOLF        ┆ 06                 ┆ 2831          │\n",
      "│ CADDY       ┆ 01                 ┆ 1875          │\n",
      "└─────────────┴────────────────────┴───────────────┘\n"
     ]
    }
   ],
   "source": [
    "print(most_popular_colors)"
   ]
  },
  {
   "cell_type": "code",
   "execution_count": null,
   "id": "aef7a8d5-3df6-4a4c-b455-fbe777c6c4a6",
   "metadata": {},
   "outputs": [],
   "source": []
  }
 ],
 "metadata": {
  "kernelspec": {
   "display_name": "Python 3 (ipykernel)",
   "language": "python",
   "name": "python3"
  },
  "language_info": {
   "codemirror_mode": {
    "name": "ipython",
    "version": 3
   },
   "file_extension": ".py",
   "mimetype": "text/x-python",
   "name": "python",
   "nbconvert_exporter": "python",
   "pygments_lexer": "ipython3",
   "version": "3.10.13"
  }
 },
 "nbformat": 4,
 "nbformat_minor": 5
}
