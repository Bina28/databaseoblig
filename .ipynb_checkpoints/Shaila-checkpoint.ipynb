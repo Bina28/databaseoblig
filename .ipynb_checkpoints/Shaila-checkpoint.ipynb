{
 "cells": [
  {
   "cell_type": "code",
   "execution_count": 88,
   "id": "cc3c5b4f-1702-4b12-9adc-d63a3e731cac",
   "metadata": {},
   "outputs": [],
   "source": [
    "#11. Hvor stor andel av personbilene bilene som selges i Norge har firehjulstrekk?\n",
    "file_path = \"kjoretoyinfo_preppet.parquet\"\n",
    "df = pd.read_parquet(file_path)"
   ]
  },
  {
   "cell_type": "code",
   "execution_count": 89,
   "id": "a7c8a076-2cef-4bc2-ad88-300efd42e985",
   "metadata": {},
   "outputs": [],
   "source": [
    "relevant_kolonner = [\"tekn_aksler_drift\"]"
   ]
  },
  {
   "cell_type": "code",
   "execution_count": 90,
   "id": "d83747c9-5297-45c7-b156-44de89c63b9a",
   "metadata": {},
   "outputs": [],
   "source": [
    "personbiler_df = df[df[\"tekn_modell\"] == \"Personbil\"]"
   ]
  },
  {
   "cell_type": "code",
   "execution_count": 91,
   "id": "8415bbc4-0735-4dad-b523-57c61458d9a5",
   "metadata": {},
   "outputs": [],
   "source": [
    "filtered_df = personbiler_df[relevant_kolonner]"
   ]
  },
  {
   "cell_type": "code",
   "execution_count": 92,
   "id": "1e958fd9-4ece-4854-9f95-47c798613682",
   "metadata": {},
   "outputs": [],
   "source": [
    "firehjulstrekk_andel = (filtered_df[\"tekn_aksler_drift\"] == \"To aksler er firehjulsdrift\").mean() * 100"
   ]
  },
  {
   "cell_type": "code",
   "execution_count": 93,
   "id": "5c19f4d1-0d49-45c1-a843-951407b58d65",
   "metadata": {},
   "outputs": [
    {
     "name": "stdout",
     "output_type": "stream",
     "text": [
      "Ingen personbiler med informasjon om firehjulsdrift funnet.\n"
     ]
    }
   ],
   "source": [
    "print(f\"Andelen personbiler med firehjulstrekk er: {firehjulstrekk_andel}%\"\n",
    "    if pd.notna(firehjulstrekk_andel) \n",
    "        else \"Ingen personbiler med informasjon om firehjulsdrift funnet.\")"
   ]
  },
  {
   "cell_type": "code",
   "execution_count": 94,
   "id": "202398c6-7448-468d-9818-5ba1e21c77e9",
   "metadata": {},
   "outputs": [],
   "source": [
    "#12. Hvilken måned i året førstegangsregistreres det flest biler i Norge?\n",
    "file_path = \"kjoretoyinfo_preppet.parquet\"\n",
    "df = pd.read_parquet(file_path, engine='pyarrow')"
   ]
  },
  {
   "cell_type": "code",
   "execution_count": 95,
   "id": "d126c9a1-2836-41cc-b4b6-cd9b6ae669d2",
   "metadata": {},
   "outputs": [],
   "source": [
    "df['tekn_reg_f_g_n'] = pd.to_datetime(df['tekn_reg_f_g_n'], errors='coerce')"
   ]
  },
  {
   "cell_type": "code",
   "execution_count": 96,
   "id": "c45d363a-7c27-44f2-9af7-0796d818a6e1",
   "metadata": {},
   "outputs": [],
   "source": [
    "mest_populær_måned = df['tekn_reg_f_g_n'].dt.month.value_counts().idxmax()"
   ]
  },
  {
   "cell_type": "code",
   "execution_count": 97,
   "id": "9350db3a-5f8a-4fc2-b851-07856e2e90fe",
   "metadata": {},
   "outputs": [
    {
     "name": "stdout",
     "output_type": "stream",
     "text": [
      "Måneden med flest førstegangsregistreringer er: 12\n"
     ]
    }
   ],
   "source": [
    "print(f\"Måneden med flest førstegangsregistreringer er: {mest_populær_måned}\")"
   ]
  }
 ],
 "metadata": {
  "kernelspec": {
   "display_name": "Python 3 (ipykernel)",
   "language": "python",
   "name": "python3"
  },
  "language_info": {
   "codemirror_mode": {
    "name": "ipython",
    "version": 3
   },
   "file_extension": ".py",
   "mimetype": "text/x-python",
   "name": "python",
   "nbconvert_exporter": "python",
   "pygments_lexer": "ipython3",
   "version": "3.10.13"
  }
 },
 "nbformat": 4,
 "nbformat_minor": 5
}
