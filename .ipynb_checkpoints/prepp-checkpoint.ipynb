{
 "cells": [
  {
   "cell_type": "code",
   "execution_count": 26,
   "id": "b46fa319-2676-4fdc-98b2-bcce3b503597",
   "metadata": {},
   "outputs": [],
   "source": [
    "import polars as pl"
   ]
  },
  {
   "cell_type": "code",
   "execution_count": 27,
   "id": "91f1f8d1-2094-45f7-8b52-61f7003bd398",
   "metadata": {},
   "outputs": [],
   "source": [
    "df=pl.scan_parquet(\"kjoretoyinfo_fra_2020.parquet\")"
   ]
  },
  {
   "cell_type": "code",
   "execution_count": 28,
   "id": "2542a047-00fa-4117-9158-64749efd8101",
   "metadata": {},
   "outputs": [],
   "source": [
    "df = df.with_columns([\n",
    "    pl.col(\"tekn_reg_f_g_n\").cast(pl.Utf8).str.to_date(format=\"%Y%m%d\").alias(\"tekn_reg_f_g_n\")\n",
    "])"
   ]
  },
  {
   "cell_type": "code",
   "execution_count": 29,
   "id": "890008ac-95ab-4617-bf0e-3699986ef5f6",
   "metadata": {},
   "outputs": [],
   "source": [
    "df_t = df.collect()"
   ]
  },
  {
   "cell_type": "code",
   "execution_count": 30,
   "id": "59cf7210-7f8f-42a1-b806-29628ce88c70",
   "metadata": {},
   "outputs": [],
   "source": [
    "df = df.with_columns([\n",
    "    pl.col(\"tekn_neste_pkk\").str.to_date(format=\"%Y%m%d\", strict=False).alias(\"tekn_neste_pkk\")\n",
    "])\n"
   ]
  },
  {
   "cell_type": "code",
   "execution_count": 31,
   "id": "5b2b7448-da49-4460-9708-abaa8ef64245",
   "metadata": {},
   "outputs": [],
   "source": [
    "df_t = df.collect()"
   ]
  },
  {
   "cell_type": "code",
   "execution_count": 32,
   "id": "aacaced4-8c03-418c-a3fd-fa3546f63028",
   "metadata": {},
   "outputs": [],
   "source": [
    "df = df.with_columns([\n",
    "    pl.col(\"tekn_reg_eier_dato\").cast(pl.Utf8).str.to_date(format=\"%Y%m%d\").alias(\"tekn_reg_eier_dato\"),\n",
    "])"
   ]
  },
  {
   "cell_type": "code",
   "execution_count": 34,
   "id": "297458e6-90b6-4b1a-bc60-abb2c45163b6",
   "metadata": {},
   "outputs": [
    {
     "data": {
      "text/html": [
       "<div><style>\n",
       ".dataframe > thead > tr,\n",
       ".dataframe > tbody > tr {\n",
       "  text-align: right;\n",
       "  white-space: pre-wrap;\n",
       "}\n",
       "</style>\n",
       "<small>shape: (554_219, 11)</small><table border=\"1\" class=\"dataframe\"><thead><tr><th>tekn_reg_f_g</th><th>tekn_reg_f_g_n</th><th>tekn_reg_eier_dato</th><th>tekn_merke</th><th>tekn_modell</th><th>tekn_farge</th><th>tekn_drivstoff</th><th>tekn_siste_pkk</th><th>tekn_neste_pkk</th><th>tekn_aksler_drift</th><th>tekn_sitteplasser_totalt</th></tr><tr><td>i64</td><td>date</td><td>date</td><td>i64</td><td>str</td><td>str</td><td>str</td><td>str</td><td>date</td><td>i64</td><td>i64</td></tr></thead><tbody><tr><td>20211013</td><td>2021-10-13</td><td>2021-10-13</td><td>3900</td><td>&quot;VITO&quot;</td><td>&quot;05&quot;</td><td>&quot;2&quot;</td><td>null</td><td>2025-10-13</td><td>2</td><td>3</td></tr><tr><td>20200129</td><td>2020-01-29</td><td>2020-01-29</td><td>5750</td><td>&quot;CADDY&quot;</td><td>&quot;06&quot;</td><td>&quot;2&quot;</td><td>&quot;20231205&quot;</td><td>2026-01-29</td><td>2</td><td>2</td></tr><tr><td>20231129</td><td>2023-11-29</td><td>2023-11-29</td><td>2600</td><td>&quot;Mustang Mach-E…</td><td>&quot;06&quot;</td><td>&quot;5&quot;</td><td>null</td><td>2027-11-29</td><td>1</td><td>5</td></tr><tr><td>20200127</td><td>2020-01-27</td><td>2020-01-27</td><td>5750</td><td>&quot;CADDY&quot;</td><td>&quot;01&quot;</td><td>&quot;2&quot;</td><td>null</td><td>2024-01-27</td><td>2</td><td>2</td></tr><tr><td>20200519</td><td>2020-05-19</td><td>2020-05-19</td><td>5750</td><td>&quot;CRAFTER&quot;</td><td>&quot;01&quot;</td><td>&quot;2&quot;</td><td>null</td><td>2024-05-19</td><td>1</td><td>3</td></tr><tr><td>&hellip;</td><td>&hellip;</td><td>&hellip;</td><td>&hellip;</td><td>&hellip;</td><td>&hellip;</td><td>&hellip;</td><td>&hellip;</td><td>&hellip;</td><td>&hellip;</td><td>&hellip;</td></tr><tr><td>20211021</td><td>2021-10-21</td><td>2021-10-21</td><td>3900</td><td>&quot;GLE 350 de 4MA…</td><td>&quot;03&quot;</td><td>&quot;2,5&quot;</td><td>null</td><td>2025-10-21</td><td>2</td><td>5</td></tr><tr><td>20230901</td><td>2023-09-01</td><td>2023-09-01</td><td>320</td><td>&quot;Adora 573 PT&quot;</td><td>&quot;01&quot;</td><td>null</td><td>null</td><td>null</td><td>0</td><td>null</td></tr><tr><td>20201229</td><td>2020-12-29</td><td>2020-12-29</td><td>4000</td><td>&quot;MG ZS EV&quot;</td><td>&quot;02&quot;</td><td>&quot;5&quot;</td><td>null</td><td>2024-12-29</td><td>1</td><td>5</td></tr><tr><td>20221207</td><td>2022-12-07</td><td>2022-12-07</td><td>4360</td><td>&quot;Model Y&quot;</td><td>&quot;03&quot;</td><td>&quot;5,5&quot;</td><td>null</td><td>2026-12-07</td><td>2</td><td>5</td></tr><tr><td>20210819</td><td>2021-08-19</td><td>2021-08-19</td><td>3900</td><td>&quot;Sprinter&quot;</td><td>&quot;09&quot;</td><td>&quot;2&quot;</td><td>&quot;20230814&quot;</td><td>2024-08-19</td><td>1</td><td>2</td></tr></tbody></table></div>"
      ],
      "text/plain": [
       "shape: (554_219, 11)\n",
       "┌──────────────┬────────────────┬────────────────────┬────────────┬───┬────────────────┬────────────────┬───────────────────┬──────────────────────────┐\n",
       "│ tekn_reg_f_g ┆ tekn_reg_f_g_n ┆ tekn_reg_eier_dato ┆ tekn_merke ┆ … ┆ tekn_siste_pkk ┆ tekn_neste_pkk ┆ tekn_aksler_drift ┆ tekn_sitteplasser_totalt │\n",
       "│ ---          ┆ ---            ┆ ---                ┆ ---        ┆   ┆ ---            ┆ ---            ┆ ---               ┆ ---                      │\n",
       "│ i64          ┆ date           ┆ date               ┆ i64        ┆   ┆ str            ┆ date           ┆ i64               ┆ i64                      │\n",
       "╞══════════════╪════════════════╪════════════════════╪════════════╪═══╪════════════════╪════════════════╪═══════════════════╪══════════════════════════╡\n",
       "│ 20211013     ┆ 2021-10-13     ┆ 2021-10-13         ┆ 3900       ┆ … ┆ null           ┆ 2025-10-13     ┆ 2                 ┆ 3                        │\n",
       "│ 20200129     ┆ 2020-01-29     ┆ 2020-01-29         ┆ 5750       ┆ … ┆ 20231205       ┆ 2026-01-29     ┆ 2                 ┆ 2                        │\n",
       "│ 20231129     ┆ 2023-11-29     ┆ 2023-11-29         ┆ 2600       ┆ … ┆ null           ┆ 2027-11-29     ┆ 1                 ┆ 5                        │\n",
       "│ 20200127     ┆ 2020-01-27     ┆ 2020-01-27         ┆ 5750       ┆ … ┆ null           ┆ 2024-01-27     ┆ 2                 ┆ 2                        │\n",
       "│ 20200519     ┆ 2020-05-19     ┆ 2020-05-19         ┆ 5750       ┆ … ┆ null           ┆ 2024-05-19     ┆ 1                 ┆ 3                        │\n",
       "│ …            ┆ …              ┆ …                  ┆ …          ┆ … ┆ …              ┆ …              ┆ …                 ┆ …                        │\n",
       "│ 20211021     ┆ 2021-10-21     ┆ 2021-10-21         ┆ 3900       ┆ … ┆ null           ┆ 2025-10-21     ┆ 2                 ┆ 5                        │\n",
       "│ 20230901     ┆ 2023-09-01     ┆ 2023-09-01         ┆ 320        ┆ … ┆ null           ┆ null           ┆ 0                 ┆ null                     │\n",
       "│ 20201229     ┆ 2020-12-29     ┆ 2020-12-29         ┆ 4000       ┆ … ┆ null           ┆ 2024-12-29     ┆ 1                 ┆ 5                        │\n",
       "│ 20221207     ┆ 2022-12-07     ┆ 2022-12-07         ┆ 4360       ┆ … ┆ null           ┆ 2026-12-07     ┆ 2                 ┆ 5                        │\n",
       "│ 20210819     ┆ 2021-08-19     ┆ 2021-08-19         ┆ 3900       ┆ … ┆ 20230814       ┆ 2024-08-19     ┆ 1                 ┆ 2                        │\n",
       "└──────────────┴────────────────┴────────────────────┴────────────┴───┴────────────────┴────────────────┴───────────────────┴──────────────────────────┘"
      ]
     },
     "execution_count": 34,
     "metadata": {},
     "output_type": "execute_result"
    }
   ],
   "source": [
    "df_t = df.collect()\n",
    "df_t"
   ]
  },
  {
   "cell_type": "code",
   "execution_count": 17,
   "id": "4c41084a-01cd-4cec-bf74-8b89ce4c24fb",
   "metadata": {},
   "outputs": [
    {
     "name": "stdout",
     "output_type": "stream",
     "text": [
      "shape: (3,)\n",
      "Series: 'tekn_farge' [str]\n",
      "[\n",
      "\t\"05\"\n",
      "\t\"06\"\n",
      "\t\"06\"\n",
      "]\n"
     ]
    }
   ],
   "source": [
    "print(df_t[\"tekn_farge\"].head(3))"
   ]
  },
  {
   "cell_type": "code",
   "execution_count": 15,
   "id": "0a4c021f-f6d2-4a52-943f-4300ab49de3f",
   "metadata": {},
   "outputs": [],
   "source": [
    "df_fargekode = pl.read_csv(\"fargekode.csv\", separator=\";\", dtypes={\"kode\":str}).rename({\"kode\": \"tekn_farge\"})"
   ]
  },
  {
   "cell_type": "code",
   "execution_count": 16,
   "id": "7b079954-270a-486a-a700-434911e9113a",
   "metadata": {},
   "outputs": [
    {
     "data": {
      "text/html": [
       "<div><style>\n",
       ".dataframe > thead > tr,\n",
       ".dataframe > tbody > tr {\n",
       "  text-align: right;\n",
       "  white-space: pre-wrap;\n",
       "}\n",
       "</style>\n",
       "<small>shape: (16, 2)</small><table border=\"1\" class=\"dataframe\"><thead><tr><th>tekn_farge</th><th>beskrivelse</th></tr><tr><td>str</td><td>str</td></tr></thead><tbody><tr><td>&quot;1&quot;</td><td>&quot;Hvit (også ant…</td></tr><tr><td>&quot;2&quot;</td><td>&quot;Rød (også burg…</td></tr><tr><td>&quot;3&quot;</td><td>&quot;Blå&quot;</td></tr><tr><td>&quot;4&quot;</td><td>&quot;Grønn (også gr…</td></tr><tr><td>&quot;5&quot;</td><td>&quot;Grå&quot;</td></tr><tr><td>&hellip;</td><td>&hellip;</td></tr><tr><td>&quot;12&quot;</td><td>&quot;Gull (også bro…</td></tr><tr><td>&quot;13&quot;</td><td>&quot;Rosa&quot;</td></tr><tr><td>&quot;14&quot;</td><td>&quot;Fiolett (også …</td></tr><tr><td>&quot;29&quot;</td><td>&quot;Turkis (også b…</td></tr><tr><td>&quot;99&quot;</td><td>&quot;Annen (flerfar…</td></tr></tbody></table></div>"
      ],
      "text/plain": [
       "shape: (16, 2)\n",
       "┌────────────┬───────────────────────────────────┐\n",
       "│ tekn_farge ┆ beskrivelse                       │\n",
       "│ ---        ┆ ---                               │\n",
       "│ str        ┆ str                               │\n",
       "╞════════════╪═══════════════════════════════════╡\n",
       "│ 1          ┆ Hvit (også antikkhvit, offwhite)  │\n",
       "│ 2          ┆ Rød (også burgunder)              │\n",
       "│ 3          ┆ Blå                               │\n",
       "│ 4          ┆ Grønn (også grønngrå, blågrå)     │\n",
       "│ 5          ┆ Grå                               │\n",
       "│ …          ┆ …                                 │\n",
       "│ 12         ┆ Gull (også bronse, gull metallic… │\n",
       "│ 13         ┆ Rosa                              │\n",
       "│ 14         ┆ Fiolett (også blåfiolett, fiolet… │\n",
       "│ 29         ┆ Turkis (også blågrønn, grønnblå)  │\n",
       "│ 99         ┆ Annen (flerfargede kjøretøy migr… │\n",
       "└────────────┴───────────────────────────────────┘"
      ]
     },
     "execution_count": 16,
     "metadata": {},
     "output_type": "execute_result"
    }
   ],
   "source": [
    "df_fargekode"
   ]
  },
  {
   "cell_type": "code",
   "execution_count": 270,
   "id": "643d4cb2-1f34-4d77-8808-72e861de60f8",
   "metadata": {},
   "outputs": [
    {
     "data": {
      "text/html": [
       "<div><style>\n",
       ".dataframe > thead > tr,\n",
       ".dataframe > tbody > tr {\n",
       "  text-align: right;\n",
       "  white-space: pre-wrap;\n",
       "}\n",
       "</style>\n",
       "<small>shape: (554_219, 2)</small><table border=\"1\" class=\"dataframe\"><thead><tr><th>tekn_farge</th><th>beskrivelse</th></tr><tr><td>str</td><td>str</td></tr></thead><tbody><tr><td>&quot;05&quot;</td><td>null</td></tr><tr><td>&quot;06&quot;</td><td>null</td></tr><tr><td>&quot;06&quot;</td><td>null</td></tr><tr><td>&quot;01&quot;</td><td>null</td></tr><tr><td>&quot;01&quot;</td><td>null</td></tr><tr><td>&hellip;</td><td>&hellip;</td></tr><tr><td>&quot;03&quot;</td><td>null</td></tr><tr><td>&quot;01&quot;</td><td>null</td></tr><tr><td>&quot;02&quot;</td><td>null</td></tr><tr><td>&quot;03&quot;</td><td>null</td></tr><tr><td>&quot;09&quot;</td><td>null</td></tr></tbody></table></div>"
      ],
      "text/plain": [
       "shape: (554_219, 2)\n",
       "┌────────────┬─────────────┐\n",
       "│ tekn_farge ┆ beskrivelse │\n",
       "│ ---        ┆ ---         │\n",
       "│ str        ┆ str         │\n",
       "╞════════════╪═════════════╡\n",
       "│ 05         ┆ null        │\n",
       "│ 06         ┆ null        │\n",
       "│ 06         ┆ null        │\n",
       "│ 01         ┆ null        │\n",
       "│ 01         ┆ null        │\n",
       "│ …          ┆ …           │\n",
       "│ 03         ┆ null        │\n",
       "│ 01         ┆ null        │\n",
       "│ 02         ┆ null        │\n",
       "│ 03         ┆ null        │\n",
       "│ 09         ┆ null        │\n",
       "└────────────┴─────────────┘"
      ]
     },
     "execution_count": 270,
     "metadata": {},
     "output_type": "execute_result"
    }
   ],
   "source": [
    "df_joined = df_t.select(pl.col(\"tekn_farge\")).join(\n",
    "    df_fargekode.select(pl.col(\"tekn_farge\"), pl.col(\"beskrivelse\")),\n",
    "    on=\"tekn_farge\",\n",
    "    how=\"left\"\n",
    ")\n",
    "df_joined"
   ]
  },
  {
   "cell_type": "code",
   "execution_count": 244,
   "id": "60b45a32-6eb4-4664-960f-8855790762a5",
   "metadata": {},
   "outputs": [
    {
     "name": "stdout",
     "output_type": "stream",
     "text": [
      "shape: (3, 11)\n",
      "┌──────────────┬────────────────┬────────────────────┬────────────┬───┬────────────────┬────────────────┬───────────────────┬──────────────────────────┐\n",
      "│ tekn_reg_f_g ┆ tekn_reg_f_g_n ┆ tekn_reg_eier_dato ┆ tekn_merke ┆ … ┆ tekn_siste_pkk ┆ tekn_neste_pkk ┆ tekn_aksler_drift ┆ tekn_sitteplasser_totalt │\n",
      "│ ---          ┆ ---            ┆ ---                ┆ ---        ┆   ┆ ---            ┆ ---            ┆ ---               ┆ ---                      │\n",
      "│ i64          ┆ date           ┆ date               ┆ i64        ┆   ┆ str            ┆ date           ┆ i64               ┆ i64                      │\n",
      "╞══════════════╪════════════════╪════════════════════╪════════════╪═══╪════════════════╪════════════════╪═══════════════════╪══════════════════════════╡\n",
      "│ 20211013     ┆ 2021-10-13     ┆ 2021-10-13         ┆ 3900       ┆ … ┆ null           ┆ 2025-10-13     ┆ 2                 ┆ 3                        │\n",
      "│ 20200129     ┆ 2020-01-29     ┆ 2020-01-29         ┆ 5750       ┆ … ┆ 20231205       ┆ 2026-01-29     ┆ 2                 ┆ 2                        │\n",
      "│ 20231129     ┆ 2023-11-29     ┆ 2023-11-29         ┆ 2600       ┆ … ┆ null           ┆ 2027-11-29     ┆ 1                 ┆ 5                        │\n",
      "└──────────────┴────────────────┴────────────────────┴────────────┴───┴────────────────┴────────────────┴───────────────────┴──────────────────────────┘\n"
     ]
    }
   ],
   "source": [
    "print(df_t.head(3))"
   ]
  },
  {
   "cell_type": "code",
   "execution_count": 91,
   "id": "a030f06d-9e7d-45ee-a9ef-5495ba3f6860",
   "metadata": {},
   "outputs": [
    {
     "name": "stdout",
     "output_type": "stream",
     "text": [
      "['tekn_farge', 'beskrivelse']\n"
     ]
    }
   ],
   "source": [
    "print(df_fargekode.columns)"
   ]
  },
  {
   "cell_type": "code",
   "execution_count": 55,
   "id": "d15cec60-db64-45ef-93b4-8789e3ad6529",
   "metadata": {},
   "outputs": [
    {
     "data": {
      "text/html": [
       "<div><style>\n",
       ".dataframe > thead > tr,\n",
       ".dataframe > tbody > tr {\n",
       "  text-align: right;\n",
       "  white-space: pre-wrap;\n",
       "}\n",
       "</style>\n",
       "<small>shape: (554_219, 13)</small><table border=\"1\" class=\"dataframe\"><thead><tr><th>tekn_reg_f_g</th><th>tekn_reg_f_g_n</th><th>tekn_reg_eier_dato</th><th>tekn_merke</th><th>tekn_modell</th><th>tekn_farge</th><th>tekn_drivstoff</th><th>tekn_siste_pkk</th><th>tekn_neste_pkk</th><th>tekn_aksler_drift</th><th>tekn_sitteplasser_totalt</th><th>surmunn</th><th>er_elektrisk</th></tr><tr><td>i64</td><td>date</td><td>date</td><td>i64</td><td>str</td><td>str</td><td>str</td><td>str</td><td>date</td><td>i64</td><td>i64</td><td>bool</td><td>bool</td></tr></thead><tbody><tr><td>20211013</td><td>2021-10-13</td><td>2021-10-13</td><td>3900</td><td>&quot;VITO&quot;</td><td>&quot;05&quot;</td><td>&quot;2&quot;</td><td>null</td><td>2025-10-13</td><td>2</td><td>3</td><td>false</td><td>false</td></tr><tr><td>20200129</td><td>2020-01-29</td><td>2020-01-29</td><td>5750</td><td>&quot;CADDY&quot;</td><td>&quot;06&quot;</td><td>&quot;2&quot;</td><td>&quot;20231205&quot;</td><td>2026-01-29</td><td>2</td><td>2</td><td>false</td><td>false</td></tr><tr><td>20231129</td><td>2023-11-29</td><td>2023-11-29</td><td>2600</td><td>&quot;Mustang Mach-E…</td><td>&quot;06&quot;</td><td>&quot;5&quot;</td><td>null</td><td>2027-11-29</td><td>1</td><td>5</td><td>true</td><td>true</td></tr><tr><td>20200127</td><td>2020-01-27</td><td>2020-01-27</td><td>5750</td><td>&quot;CADDY&quot;</td><td>&quot;01&quot;</td><td>&quot;2&quot;</td><td>null</td><td>2024-01-27</td><td>2</td><td>2</td><td>false</td><td>false</td></tr><tr><td>20200519</td><td>2020-05-19</td><td>2020-05-19</td><td>5750</td><td>&quot;CRAFTER&quot;</td><td>&quot;01&quot;</td><td>&quot;2&quot;</td><td>null</td><td>2024-05-19</td><td>1</td><td>3</td><td>false</td><td>false</td></tr><tr><td>&hellip;</td><td>&hellip;</td><td>&hellip;</td><td>&hellip;</td><td>&hellip;</td><td>&hellip;</td><td>&hellip;</td><td>&hellip;</td><td>&hellip;</td><td>&hellip;</td><td>&hellip;</td><td>&hellip;</td><td>&hellip;</td></tr><tr><td>20211021</td><td>2021-10-21</td><td>2021-10-21</td><td>3900</td><td>&quot;GLE 350 de 4MA…</td><td>&quot;03&quot;</td><td>&quot;2,5&quot;</td><td>null</td><td>2025-10-21</td><td>2</td><td>5</td><td>false</td><td>false</td></tr><tr><td>20230901</td><td>2023-09-01</td><td>2023-09-01</td><td>320</td><td>&quot;Adora 573 PT&quot;</td><td>&quot;01&quot;</td><td>null</td><td>null</td><td>null</td><td>0</td><td>null</td><td>null</td><td>null</td></tr><tr><td>20201229</td><td>2020-12-29</td><td>2020-12-29</td><td>4000</td><td>&quot;MG ZS EV&quot;</td><td>&quot;02&quot;</td><td>&quot;5&quot;</td><td>null</td><td>2024-12-29</td><td>1</td><td>5</td><td>true</td><td>true</td></tr><tr><td>20221207</td><td>2022-12-07</td><td>2022-12-07</td><td>4360</td><td>&quot;Model Y&quot;</td><td>&quot;03&quot;</td><td>&quot;5,5&quot;</td><td>null</td><td>2026-12-07</td><td>2</td><td>5</td><td>false</td><td>false</td></tr><tr><td>20210819</td><td>2021-08-19</td><td>2021-08-19</td><td>3900</td><td>&quot;Sprinter&quot;</td><td>&quot;09&quot;</td><td>&quot;2&quot;</td><td>&quot;20230814&quot;</td><td>2024-08-19</td><td>1</td><td>2</td><td>false</td><td>false</td></tr></tbody></table></div>"
      ],
      "text/plain": [
       "shape: (554_219, 13)\n",
       "┌──────────────┬────────────────┬────────────────────┬────────────┬───┬───────────────────┬──────────────────────────┬─────────┬──────────────┐\n",
       "│ tekn_reg_f_g ┆ tekn_reg_f_g_n ┆ tekn_reg_eier_dato ┆ tekn_merke ┆ … ┆ tekn_aksler_drift ┆ tekn_sitteplasser_totalt ┆ surmunn ┆ er_elektrisk │\n",
       "│ ---          ┆ ---            ┆ ---                ┆ ---        ┆   ┆ ---               ┆ ---                      ┆ ---     ┆ ---          │\n",
       "│ i64          ┆ date           ┆ date               ┆ i64        ┆   ┆ i64               ┆ i64                      ┆ bool    ┆ bool         │\n",
       "╞══════════════╪════════════════╪════════════════════╪════════════╪═══╪═══════════════════╪══════════════════════════╪═════════╪══════════════╡\n",
       "│ 20211013     ┆ 2021-10-13     ┆ 2021-10-13         ┆ 3900       ┆ … ┆ 2                 ┆ 3                        ┆ false   ┆ false        │\n",
       "│ 20200129     ┆ 2020-01-29     ┆ 2020-01-29         ┆ 5750       ┆ … ┆ 2                 ┆ 2                        ┆ false   ┆ false        │\n",
       "│ 20231129     ┆ 2023-11-29     ┆ 2023-11-29         ┆ 2600       ┆ … ┆ 1                 ┆ 5                        ┆ true    ┆ true         │\n",
       "│ 20200127     ┆ 2020-01-27     ┆ 2020-01-27         ┆ 5750       ┆ … ┆ 2                 ┆ 2                        ┆ false   ┆ false        │\n",
       "│ 20200519     ┆ 2020-05-19     ┆ 2020-05-19         ┆ 5750       ┆ … ┆ 1                 ┆ 3                        ┆ false   ┆ false        │\n",
       "│ …            ┆ …              ┆ …                  ┆ …          ┆ … ┆ …                 ┆ …                        ┆ …       ┆ …            │\n",
       "│ 20211021     ┆ 2021-10-21     ┆ 2021-10-21         ┆ 3900       ┆ … ┆ 2                 ┆ 5                        ┆ false   ┆ false        │\n",
       "│ 20230901     ┆ 2023-09-01     ┆ 2023-09-01         ┆ 320        ┆ … ┆ 0                 ┆ null                     ┆ null    ┆ null         │\n",
       "│ 20201229     ┆ 2020-12-29     ┆ 2020-12-29         ┆ 4000       ┆ … ┆ 1                 ┆ 5                        ┆ true    ┆ true         │\n",
       "│ 20221207     ┆ 2022-12-07     ┆ 2022-12-07         ┆ 4360       ┆ … ┆ 2                 ┆ 5                        ┆ false   ┆ false        │\n",
       "│ 20210819     ┆ 2021-08-19     ┆ 2021-08-19         ┆ 3900       ┆ … ┆ 1                 ┆ 2                        ┆ false   ┆ false        │\n",
       "└──────────────┴────────────────┴────────────────────┴────────────┴───┴───────────────────┴──────────────────────────┴─────────┴──────────────┘"
      ]
     },
     "execution_count": 55,
     "metadata": {},
     "output_type": "execute_result"
    }
   ],
   "source": [
    "df_t = df_t.with_columns(\n",
    "    er_elektrisk=pl.col(\"tekn_drivstoff\").eq(pl.lit(\"5\"))\n",
    ")\n",
    "\n",
    "\n",
    "df_t"
   ]
  },
  {
   "cell_type": "code",
   "execution_count": 56,
   "id": "f3032563-ab9a-4dd9-b425-7a657147c7ca",
   "metadata": {},
   "outputs": [],
   "source": [
    " selected_columns = [\n",
    "    \"tekn_reg_f_g_n\",\n",
    "    \"tekn_reg_eier_dato\",\n",
    "    \"tekn_aksler_drift\",\n",
    "    \"tekn_merke\",\n",
    "    \"tekn_modell\",\n",
    "    \"tekn_drivstoff\",\n",
    "    \"tekn_neste_pkk\",\n",
    "    \"er_elektrisk\"\n",
    "]\n",
    "\n",
    "df_selected = df_t.select(selected_columns)"
   ]
  },
  {
   "cell_type": "code",
   "execution_count": 57,
   "id": "70fd22ea-d70c-41de-bb5d-f6dafb1d997f",
   "metadata": {},
   "outputs": [],
   "source": [
    "df_p=df_selected.write_parquet('kjoretoyinfo_preppet.parquet')"
   ]
  },
  {
   "cell_type": "code",
   "execution_count": 58,
   "id": "e2b1ccf5-88ba-468f-afd6-0307fca4f1e0",
   "metadata": {},
   "outputs": [
    {
     "name": "stdout",
     "output_type": "stream",
     "text": [
      "shape: (5, 8)\n",
      "┌────────────────┬────────────────────┬───────────────────┬────────────┬────────────────┬────────────────┬────────────────┬──────────────┐\n",
      "│ tekn_reg_f_g_n ┆ tekn_reg_eier_dato ┆ tekn_aksler_drift ┆ tekn_merke ┆ tekn_modell    ┆ tekn_drivstoff ┆ tekn_neste_pkk ┆ er_elektrisk │\n",
      "│ ---            ┆ ---                ┆ ---               ┆ ---        ┆ ---            ┆ ---            ┆ ---            ┆ ---          │\n",
      "│ date           ┆ date               ┆ i64               ┆ i64        ┆ str            ┆ str            ┆ date           ┆ bool         │\n",
      "╞════════════════╪════════════════════╪═══════════════════╪════════════╪════════════════╪════════════════╪════════════════╪══════════════╡\n",
      "│ 2021-10-13     ┆ 2021-10-13         ┆ 2                 ┆ 3900       ┆ VITO           ┆ 2              ┆ 2025-10-13     ┆ false        │\n",
      "│ 2020-01-29     ┆ 2020-01-29         ┆ 2                 ┆ 5750       ┆ CADDY          ┆ 2              ┆ 2026-01-29     ┆ false        │\n",
      "│ 2023-11-29     ┆ 2023-11-29         ┆ 1                 ┆ 2600       ┆ Mustang Mach-E ┆ 5              ┆ 2027-11-29     ┆ true         │\n",
      "│ 2020-01-27     ┆ 2020-01-27         ┆ 2                 ┆ 5750       ┆ CADDY          ┆ 2              ┆ 2024-01-27     ┆ false        │\n",
      "│ 2020-05-19     ┆ 2020-05-19         ┆ 1                 ┆ 5750       ┆ CRAFTER        ┆ 2              ┆ 2024-05-19     ┆ false        │\n",
      "└────────────────┴────────────────────┴───────────────────┴────────────┴────────────────┴────────────────┴────────────────┴──────────────┘\n"
     ]
    }
   ],
   "source": [
    "df_preppet = pl.read_parquet('kjoretoyinfo_preppet.parquet')\n",
    "\n",
    "print(df_preppet.head())"
   ]
  },
  {
   "cell_type": "code",
   "execution_count": null,
   "id": "32db1572-e71f-49d3-93fe-ffd3eea69d07",
   "metadata": {},
   "outputs": [],
   "source": []
  }
 ],
 "metadata": {
  "kernelspec": {
   "display_name": "Python 3 (ipykernel)",
   "language": "python",
   "name": "python3"
  },
  "language_info": {
   "codemirror_mode": {
    "name": "ipython",
    "version": 3
   },
   "file_extension": ".py",
   "mimetype": "text/x-python",
   "name": "python",
   "nbconvert_exporter": "python",
   "pygments_lexer": "ipython3",
   "version": "3.10.13"
  }
 },
 "nbformat": 4,
 "nbformat_minor": 5
}
