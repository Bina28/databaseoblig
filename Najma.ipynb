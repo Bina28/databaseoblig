{
 "cells": [
  {
   "cell_type": "code",
   "execution_count": 5,
   "id": "eaa28bc1-bc0c-456c-a9df-83a455a3a810",
   "metadata": {},
   "outputs": [],
   "source": [
    "import polars as pl"
   ]
  },
  {
   "cell_type": "code",
   "execution_count": 6,
   "id": "9c5ea5dc-4765-47d5-bb13-6ebbbb519be4",
   "metadata": {},
   "outputs": [],
   "source": [
    "df_preppet = pl.read_parquet('kjoretoyinfo_preppet.parquet')"
   ]
  },
  {
   "cell_type": "code",
   "execution_count": 7,
   "id": "4032a841-c50c-42b9-9f7d-6427658281da",
   "metadata": {},
   "outputs": [
    {
     "data": {
      "text/html": [
       "<div><style>\n",
       ".dataframe > thead > tr,\n",
       ".dataframe > tbody > tr {\n",
       "  text-align: right;\n",
       "  white-space: pre-wrap;\n",
       "}\n",
       "</style>\n",
       "<small>shape: (554_219, 9)</small><table border=\"1\" class=\"dataframe\"><thead><tr><th>tekn_reg_f_g_n</th><th>tekn_reg_eier_dato</th><th>tekn_aksler_drift</th><th>tekn_merke</th><th>tekn_modell</th><th>tekn_drivstoff</th><th>tekn_neste_pkk</th><th>er_elektrisk</th><th>tekn_farge</th></tr><tr><td>date</td><td>date</td><td>i64</td><td>i64</td><td>str</td><td>str</td><td>date</td><td>bool</td><td>str</td></tr></thead><tbody><tr><td>2021-10-13</td><td>2021-10-13</td><td>2</td><td>3900</td><td>&quot;VITO&quot;</td><td>&quot;2&quot;</td><td>2025-10-13</td><td>false</td><td>&quot;05&quot;</td></tr><tr><td>2020-01-29</td><td>2020-01-29</td><td>2</td><td>5750</td><td>&quot;CADDY&quot;</td><td>&quot;2&quot;</td><td>2026-01-29</td><td>false</td><td>&quot;06&quot;</td></tr><tr><td>2023-11-29</td><td>2023-11-29</td><td>1</td><td>2600</td><td>&quot;Mustang Mach-E…</td><td>&quot;5&quot;</td><td>2027-11-29</td><td>true</td><td>&quot;06&quot;</td></tr><tr><td>2020-01-27</td><td>2020-01-27</td><td>2</td><td>5750</td><td>&quot;CADDY&quot;</td><td>&quot;2&quot;</td><td>2024-01-27</td><td>false</td><td>&quot;01&quot;</td></tr><tr><td>2020-05-19</td><td>2020-05-19</td><td>1</td><td>5750</td><td>&quot;CRAFTER&quot;</td><td>&quot;2&quot;</td><td>2024-05-19</td><td>false</td><td>&quot;01&quot;</td></tr><tr><td>&hellip;</td><td>&hellip;</td><td>&hellip;</td><td>&hellip;</td><td>&hellip;</td><td>&hellip;</td><td>&hellip;</td><td>&hellip;</td><td>&hellip;</td></tr><tr><td>2021-10-21</td><td>2021-10-21</td><td>2</td><td>3900</td><td>&quot;GLE 350 de 4MA…</td><td>&quot;2,5&quot;</td><td>2025-10-21</td><td>false</td><td>&quot;03&quot;</td></tr><tr><td>2023-09-01</td><td>2023-09-01</td><td>0</td><td>320</td><td>&quot;Adora 573 PT&quot;</td><td>null</td><td>null</td><td>null</td><td>&quot;01&quot;</td></tr><tr><td>2020-12-29</td><td>2020-12-29</td><td>1</td><td>4000</td><td>&quot;MG ZS EV&quot;</td><td>&quot;5&quot;</td><td>2024-12-29</td><td>true</td><td>&quot;02&quot;</td></tr><tr><td>2022-12-07</td><td>2022-12-07</td><td>2</td><td>4360</td><td>&quot;Model Y&quot;</td><td>&quot;5,5&quot;</td><td>2026-12-07</td><td>false</td><td>&quot;03&quot;</td></tr><tr><td>2021-08-19</td><td>2021-08-19</td><td>1</td><td>3900</td><td>&quot;Sprinter&quot;</td><td>&quot;2&quot;</td><td>2024-08-19</td><td>false</td><td>&quot;09&quot;</td></tr></tbody></table></div>"
      ],
      "text/plain": [
       "shape: (554_219, 9)\n",
       "┌────────────────┬────────────────────┬───────────────────┬────────────┬───┬────────────────┬────────────────┬──────────────┬────────────┐\n",
       "│ tekn_reg_f_g_n ┆ tekn_reg_eier_dato ┆ tekn_aksler_drift ┆ tekn_merke ┆ … ┆ tekn_drivstoff ┆ tekn_neste_pkk ┆ er_elektrisk ┆ tekn_farge │\n",
       "│ ---            ┆ ---                ┆ ---               ┆ ---        ┆   ┆ ---            ┆ ---            ┆ ---          ┆ ---        │\n",
       "│ date           ┆ date               ┆ i64               ┆ i64        ┆   ┆ str            ┆ date           ┆ bool         ┆ str        │\n",
       "╞════════════════╪════════════════════╪═══════════════════╪════════════╪═══╪════════════════╪════════════════╪══════════════╪════════════╡\n",
       "│ 2021-10-13     ┆ 2021-10-13         ┆ 2                 ┆ 3900       ┆ … ┆ 2              ┆ 2025-10-13     ┆ false        ┆ 05         │\n",
       "│ 2020-01-29     ┆ 2020-01-29         ┆ 2                 ┆ 5750       ┆ … ┆ 2              ┆ 2026-01-29     ┆ false        ┆ 06         │\n",
       "│ 2023-11-29     ┆ 2023-11-29         ┆ 1                 ┆ 2600       ┆ … ┆ 5              ┆ 2027-11-29     ┆ true         ┆ 06         │\n",
       "│ 2020-01-27     ┆ 2020-01-27         ┆ 2                 ┆ 5750       ┆ … ┆ 2              ┆ 2024-01-27     ┆ false        ┆ 01         │\n",
       "│ 2020-05-19     ┆ 2020-05-19         ┆ 1                 ┆ 5750       ┆ … ┆ 2              ┆ 2024-05-19     ┆ false        ┆ 01         │\n",
       "│ …              ┆ …                  ┆ …                 ┆ …          ┆ … ┆ …              ┆ …              ┆ …            ┆ …          │\n",
       "│ 2021-10-21     ┆ 2021-10-21         ┆ 2                 ┆ 3900       ┆ … ┆ 2,5            ┆ 2025-10-21     ┆ false        ┆ 03         │\n",
       "│ 2023-09-01     ┆ 2023-09-01         ┆ 0                 ┆ 320        ┆ … ┆ null           ┆ null           ┆ null         ┆ 01         │\n",
       "│ 2020-12-29     ┆ 2020-12-29         ┆ 1                 ┆ 4000       ┆ … ┆ 5              ┆ 2024-12-29     ┆ true         ┆ 02         │\n",
       "│ 2022-12-07     ┆ 2022-12-07         ┆ 2                 ┆ 4360       ┆ … ┆ 5,5            ┆ 2026-12-07     ┆ false        ┆ 03         │\n",
       "│ 2021-08-19     ┆ 2021-08-19         ┆ 1                 ┆ 3900       ┆ … ┆ 2              ┆ 2024-08-19     ┆ false        ┆ 09         │\n",
       "└────────────────┴────────────────────┴───────────────────┴────────────┴───┴────────────────┴────────────────┴──────────────┴────────────┘"
      ]
     },
     "execution_count": 7,
     "metadata": {},
     "output_type": "execute_result"
    }
   ],
   "source": [
    "df_preppet"
   ]
  },
  {
   "cell_type": "code",
<<<<<<< HEAD
   "execution_count": 4,
=======
   "execution_count": 8,
>>>>>>> bdfeba9b74debbb2750dd856b97aa3b7f37d953a
   "id": "17552087-f698-4c6e-925d-df29fb9159c5",
   "metadata": {},
   "outputs": [
    {
     "name": "stdout",
     "output_type": "stream",
     "text": [
      "['tekn_reg_f_g_n', 'tekn_reg_eier_dato', 'tekn_aksler_drift', 'tekn_merke', 'tekn_modell', 'tekn_drivstoff', 'tekn_neste_pkk', 'er_elektrisk', 'tekn_farge']\n"
     ]
    }
   ],
   "source": [
    "print(df_preppet.columns)"
   ]
  },
  {
   "cell_type": "code",
<<<<<<< HEAD
   "execution_count": 5,
=======
   "execution_count": 9,
>>>>>>> bdfeba9b74debbb2750dd856b97aa3b7f37d953a
   "id": "4b58a7fc-df90-4afa-9e2a-83c6ee472cf1",
   "metadata": {
    "scrolled": true
   },
   "outputs": [],
   "source": [
    "# 9. Hvilken bilmodell var den mest populære i 2022?\n",
    "# Filter dataene for biler fra 2022\n",
    "\n",
    "df_2022 = df_preppet.filter(\n",
    "     (pl.col(\"tekn_reg_eier_dato\").dt.year() == 2022)\n",
    ")"
   ]
  },
  {
   "cell_type": "code",
<<<<<<< HEAD
   "execution_count": 6,
=======
   "execution_count": 10,
>>>>>>> bdfeba9b74debbb2750dd856b97aa3b7f37d953a
   "id": "bdf20570-3fd6-4e20-8701-ce8273b6c9b6",
   "metadata": {},
   "outputs": [],
   "source": [
    "# Grupper dataene etter bilmodell og tell antall forekomster av hver modell\n",
    "populare_biler_2022 = df_2022.group_by('tekn_modell').len()"
   ]
  },
  {
   "cell_type": "code",
<<<<<<< HEAD
   "execution_count": 7,
=======
   "execution_count": 11,
>>>>>>> bdfeba9b74debbb2750dd856b97aa3b7f37d953a
   "id": "1048a2f2-5bb2-4a00-bd10-d0139fc09d8e",
   "metadata": {},
   "outputs": [
    {
     "name": "stdout",
     "output_type": "stream",
     "text": [
      "shape: (8_231, 2)\n",
<<<<<<< HEAD
      "┌───────────────────────────────┬─────┐\n",
      "│ tekn_modell                   ┆ len │\n",
      "│ ---                           ┆ --- │\n",
      "│ str                           ┆ u32 │\n",
      "╞═══════════════════════════════╪═════╡\n",
      "│ Classic 600 GLE KS            ┆ 1   │\n",
      "│ VESPA PRIMAVERA50 4T E4 BLACK ┆ 1   │\n",
      "│ F150 Lariat                   ┆ 1   │\n",
      "│ KTM 300 EXC TPI               ┆ 39  │\n",
      "│ R5                            ┆ 1   │\n",
      "│ …                             ┆ …   │\n",
      "│ PL 0720T                      ┆ 23  │\n",
      "│ 5.150                         ┆ 2   │\n",
      "│ Karlavagnen                   ┆ 1   │\n",
      "│ GLA 220 d 4MATIC              ┆ 1   │\n",
      "│ CB 125 T                      ┆ 1   │\n",
      "└───────────────────────────────┴─────┘\n"
=======
      "┌─────────────────────┬─────┐\n",
      "│ tekn_modell         ┆ len │\n",
      "│ ---                 ┆ --- │\n",
      "│ str                 ┆ u32 │\n",
      "╞═════════════════════╪═════╡\n",
      "│ Palace 88 LB        ┆ 1   │\n",
      "│ XTZ690D             ┆ 10  │\n",
      "│ LMX 64H             ┆ 2   │\n",
      "│ VULCAN S            ┆ 2   │\n",
      "│ PL 0739STI          ┆ 1   │\n",
      "│ …                   ┆ …   │\n",
      "│ R05                 ┆ 1   │\n",
      "│ FM 4x2              ┆ 1   │\n",
      "│ PO27                ┆ 1   │\n",
      "│ MASKINTILHENGER     ┆ 1   │\n",
      "│ 3 axle full trailer ┆ 2   │\n",
      "└─────────────────────┴─────┘\n"
>>>>>>> bdfeba9b74debbb2750dd856b97aa3b7f37d953a
     ]
    }
   ],
   "source": [
    "print(populare_biler_2022)"
   ]
  },
  {
   "cell_type": "code",
<<<<<<< HEAD
   "execution_count": 8,
=======
   "execution_count": 12,
>>>>>>> bdfeba9b74debbb2750dd856b97aa3b7f37d953a
   "id": "9ccb9397-6f29-4011-9683-a5154bc00d22",
   "metadata": {},
   "outputs": [],
   "source": [
    "# Sorter DataFrame etter antall forekomster i synkende rekkefølge\n",
    "populare_biler_2022 = populare_biler_2022.sort('len', descending=True)"
   ]
  },
  {
   "cell_type": "code",
<<<<<<< HEAD
   "execution_count": 9,
=======
   "execution_count": 13,
>>>>>>> bdfeba9b74debbb2750dd856b97aa3b7f37d953a
   "id": "99c531a1-058c-4a94-ad22-70905d5713f8",
   "metadata": {},
   "outputs": [
    {
     "name": "stdout",
     "output_type": "stream",
     "text": [
      "Den mest populære bilmodellen i 2022 var: Model Y\n"
     ]
    }
   ],
   "source": [
    "# Hent den mest populære bilmodellen\n",
    "mest_popular_bilmodell = populare_biler_2022.get_column('tekn_modell')[0]\n",
    "\n",
    "print(\"Den mest populære bilmodellen i 2022 var:\", mest_popular_bilmodell)"
   ]
  },
  {
   "cell_type": "code",
<<<<<<< HEAD
   "execution_count": 10,
=======
   "execution_count": 14,
>>>>>>> bdfeba9b74debbb2750dd856b97aa3b7f37d953a
   "id": "1233c93e-ad4d-4f7f-8c9a-8a2b2f9ae0bb",
   "metadata": {},
   "outputs": [
    {
     "name": "stdout",
     "output_type": "stream",
     "text": [
      "Den mest populære bilmodellen i 2022 var: Model Y\n",
      "Antall forekomster: 8401\n"
     ]
    }
   ],
   "source": [
    "# Ekstra!!! var nyserrig på antallet \n",
    "antall_forekomster = populare_biler_2022.get_column('len')[0]\n",
    "\n",
    "print(\"Den mest populære bilmodellen i 2022 var:\", mest_popular_bilmodell)\n",
    "print(\"Antall forekomster:\", antall_forekomster)"
   ]
  },
  {
   "cell_type": "code",
<<<<<<< HEAD
   "execution_count": 16,
=======
   "execution_count": 15,
>>>>>>> bdfeba9b74debbb2750dd856b97aa3b7f37d953a
   "id": "6581ce3e-8289-4c7c-9e12-d2a57e5fcf0f",
   "metadata": {},
   "outputs": [
    {
     "name": "stdout",
     "output_type": "stream",
     "text": [
      "Object `år` not found.\n"
     ]
    }
   ],
   "source": [
    "#  13. Hva var den mest populære fargen for biler som var førstegangsregistrert i Norge i\n",
    "# hvert år?"
   ]
  },
  {
   "cell_type": "code",
<<<<<<< HEAD
   "execution_count": 17,
=======
   "execution_count": 16,
>>>>>>> bdfeba9b74debbb2750dd856b97aa3b7f37d953a
   "id": "7d55c146-3064-4e2f-8d51-995bc8043a39",
   "metadata": {},
   "outputs": [],
   "source": [
    "# Grupper dataene etter år og farge, og tell antall forekomster av hver farge\n",
    "populare_farger_per_år = df_preppet.group_by([pl.col(\"tekn_reg_eier_dato\").dt.year(), 'tekn_farge']).len()"
   ]
  },
  {
   "cell_type": "code",
<<<<<<< HEAD
   "execution_count": 18,
=======
   "execution_count": 22,
>>>>>>> bdfeba9b74debbb2750dd856b97aa3b7f37d953a
   "id": "84382301-5d84-46e0-9311-8d414ef026f5",
   "metadata": {},
   "outputs": [
    {
     "name": "stdout",
     "output_type": "stream",
     "text": [
      "Den mest populære fargen for biler førstegangsregistrert i Norge hvert år var:\n",
      "shape: (5, 3)\n",
      "┌────────────────────┬────────────────────┬────────────────────┐\n",
      "│ tekn_reg_eier_dato ┆ mest_populær_farge ┆ antall_forekomster │\n",
      "│ ---                ┆ ---                ┆ ---                │\n",
      "│ i32                ┆ str                ┆ u32                │\n",
      "╞════════════════════╪════════════════════╪════════════════════╡\n",
<<<<<<< HEAD
      "│ 2024               ┆ 01,06              ┆ 52                 │\n",
      "│ 2023               ┆ 03,99              ┆ 104                │\n",
      "│ 2020               ┆ 09,03              ┆ 1                  │\n",
      "│ 2022               ┆ 09,05              ┆ 9                  │\n",
      "│ 2021               ┆ 02,06              ┆ 25                 │\n",
=======
      "│ 2023               ┆ 01                 ┆ 36964              │\n",
      "│ 2022               ┆ 05,99              ┆ 628                │\n",
      "│ 2020               ┆ 06,99              ┆ 118                │\n",
      "│ 2021               ┆ 02                 ┆ 8857               │\n",
      "│ 2024               ┆ 07                 ┆ 18                 │\n",
>>>>>>> bdfeba9b74debbb2750dd856b97aa3b7f37d953a
      "└────────────────────┴────────────────────┴────────────────────┘\n"
     ]
    }
   ],
   "source": [
    "# Grupper dataene etter år og farge, og tell antall forekomster av hver farge\n",
    "populare_farger_per_år = df_preppet.group_by([pl.col(\"tekn_reg_eier_dato\").dt.year(), 'tekn_farge']).len()\n",
    "\n",
    "# Finn den mest populære fargen for hvert år\n",
    "mest_popular_farger_per_år = populare_farger_per_år \\\n",
    "    .group_by('tekn_reg_eier_dato') \\\n",
    "    .agg(\n",
    "        pl.first('tekn_farge').alias('mest_populær_farge'),\n",
    "        pl.first('len').alias('antall_forekomster')\n",
    "    )\n",
    "\n",
    "print(\"Den mest populære fargen for biler førstegangsregistrert i Norge hvert år var:\")\n",
    "print(mest_popular_farger_per_år)\n"
   ]
  },
  {
   "cell_type": "code",
   "execution_count": null,
   "id": "f73d3a2e-bfee-4dd1-9c61-5cdcd704e0cc",
   "metadata": {},
   "outputs": [],
   "source": []
  },
  {
   "cell_type": "code",
   "execution_count": null,
<<<<<<< HEAD
   "id": "c9880d96-e97a-4806-b69a-d541adfa98f7",
=======
   "id": "c53d30d0-1e09-4101-8b9f-3be9ab228c8a",
   "metadata": {},
   "outputs": [],
   "source": []
  },
  {
   "cell_type": "code",
   "execution_count": null,
   "id": "7bf1393a-0aa5-460e-806d-c820f45e15c1",
>>>>>>> bdfeba9b74debbb2750dd856b97aa3b7f37d953a
   "metadata": {},
   "outputs": [],
   "source": []
  }
 ],
 "metadata": {
  "kernelspec": {
   "display_name": "Python 3 (ipykernel)",
   "language": "python",
   "name": "python3"
  },
  "language_info": {
   "codemirror_mode": {
    "name": "ipython",
    "version": 3
   },
   "file_extension": ".py",
   "mimetype": "text/x-python",
   "name": "python",
   "nbconvert_exporter": "python",
   "pygments_lexer": "ipython3",
   "version": "3.10.13"
  }
 },
 "nbformat": 4,
 "nbformat_minor": 5
}
