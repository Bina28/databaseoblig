{
 "cells": [
  {
   "cell_type": "code",
   "execution_count": 165,
   "id": "4018c0cf-d78b-481a-87fe-f9236e18f1ac",
   "metadata": {},
   "outputs": [],
   "source": [
    "import polars as pl"
   ]
  },
  {
   "cell_type": "code",
   "execution_count": 166,
   "id": "4314188d-05a0-4496-a6f5-9367690fb152",
   "metadata": {},
   "outputs": [],
   "source": [
    "df_preppet = pl.read_parquet('kjoretoyinfo_preppet.parquet')"
   ]
  },
  {
   "cell_type": "code",
   "execution_count": 167,
   "id": "263af6fc-71eb-4821-9ac0-1669356b528c",
   "metadata": {},
   "outputs": [
    {
     "data": {
      "text/html": [
       "<div><style>\n",
       ".dataframe > thead > tr,\n",
       ".dataframe > tbody > tr {\n",
       "  text-align: right;\n",
       "  white-space: pre-wrap;\n",
       "}\n",
       "</style>\n",
       "<small>shape: (554_219, 9)</small><table border=\"1\" class=\"dataframe\"><thead><tr><th>tekn_reg_f_g_n</th><th>tekn_reg_eier_dato</th><th>tekn_aksler_drift</th><th>tekn_merke</th><th>tekn_modell</th><th>tekn_drivstoff</th><th>tekn_neste_pkk</th><th>er_elektrisk</th><th>tekn_farge</th></tr><tr><td>date</td><td>date</td><td>i64</td><td>i64</td><td>str</td><td>str</td><td>date</td><td>bool</td><td>str</td></tr></thead><tbody><tr><td>2021-10-13</td><td>2021-10-13</td><td>2</td><td>3900</td><td>&quot;VITO&quot;</td><td>&quot;2&quot;</td><td>2025-10-13</td><td>false</td><td>&quot;05&quot;</td></tr><tr><td>2020-01-29</td><td>2020-01-29</td><td>2</td><td>5750</td><td>&quot;CADDY&quot;</td><td>&quot;2&quot;</td><td>2026-01-29</td><td>false</td><td>&quot;06&quot;</td></tr><tr><td>2023-11-29</td><td>2023-11-29</td><td>1</td><td>2600</td><td>&quot;Mustang Mach-E…</td><td>&quot;5&quot;</td><td>2027-11-29</td><td>true</td><td>&quot;06&quot;</td></tr><tr><td>2020-01-27</td><td>2020-01-27</td><td>2</td><td>5750</td><td>&quot;CADDY&quot;</td><td>&quot;2&quot;</td><td>2024-01-27</td><td>false</td><td>&quot;01&quot;</td></tr><tr><td>2020-05-19</td><td>2020-05-19</td><td>1</td><td>5750</td><td>&quot;CRAFTER&quot;</td><td>&quot;2&quot;</td><td>2024-05-19</td><td>false</td><td>&quot;01&quot;</td></tr><tr><td>&hellip;</td><td>&hellip;</td><td>&hellip;</td><td>&hellip;</td><td>&hellip;</td><td>&hellip;</td><td>&hellip;</td><td>&hellip;</td><td>&hellip;</td></tr><tr><td>2021-10-21</td><td>2021-10-21</td><td>2</td><td>3900</td><td>&quot;GLE 350 de 4MA…</td><td>&quot;2,5&quot;</td><td>2025-10-21</td><td>false</td><td>&quot;03&quot;</td></tr><tr><td>2023-09-01</td><td>2023-09-01</td><td>0</td><td>320</td><td>&quot;Adora 573 PT&quot;</td><td>null</td><td>null</td><td>null</td><td>&quot;01&quot;</td></tr><tr><td>2020-12-29</td><td>2020-12-29</td><td>1</td><td>4000</td><td>&quot;MG ZS EV&quot;</td><td>&quot;5&quot;</td><td>2024-12-29</td><td>true</td><td>&quot;02&quot;</td></tr><tr><td>2022-12-07</td><td>2022-12-07</td><td>2</td><td>4360</td><td>&quot;Model Y&quot;</td><td>&quot;5,5&quot;</td><td>2026-12-07</td><td>false</td><td>&quot;03&quot;</td></tr><tr><td>2021-08-19</td><td>2021-08-19</td><td>1</td><td>3900</td><td>&quot;Sprinter&quot;</td><td>&quot;2&quot;</td><td>2024-08-19</td><td>false</td><td>&quot;09&quot;</td></tr></tbody></table></div>"
      ],
      "text/plain": [
       "shape: (554_219, 9)\n",
       "┌────────────────┬────────────────────┬───────────────────┬────────────┬───┬────────────────┬────────────────┬──────────────┬────────────┐\n",
       "│ tekn_reg_f_g_n ┆ tekn_reg_eier_dato ┆ tekn_aksler_drift ┆ tekn_merke ┆ … ┆ tekn_drivstoff ┆ tekn_neste_pkk ┆ er_elektrisk ┆ tekn_farge │\n",
       "│ ---            ┆ ---                ┆ ---               ┆ ---        ┆   ┆ ---            ┆ ---            ┆ ---          ┆ ---        │\n",
       "│ date           ┆ date               ┆ i64               ┆ i64        ┆   ┆ str            ┆ date           ┆ bool         ┆ str        │\n",
       "╞════════════════╪════════════════════╪═══════════════════╪════════════╪═══╪════════════════╪════════════════╪══════════════╪════════════╡\n",
       "│ 2021-10-13     ┆ 2021-10-13         ┆ 2                 ┆ 3900       ┆ … ┆ 2              ┆ 2025-10-13     ┆ false        ┆ 05         │\n",
       "│ 2020-01-29     ┆ 2020-01-29         ┆ 2                 ┆ 5750       ┆ … ┆ 2              ┆ 2026-01-29     ┆ false        ┆ 06         │\n",
       "│ 2023-11-29     ┆ 2023-11-29         ┆ 1                 ┆ 2600       ┆ … ┆ 5              ┆ 2027-11-29     ┆ true         ┆ 06         │\n",
       "│ 2020-01-27     ┆ 2020-01-27         ┆ 2                 ┆ 5750       ┆ … ┆ 2              ┆ 2024-01-27     ┆ false        ┆ 01         │\n",
       "│ 2020-05-19     ┆ 2020-05-19         ┆ 1                 ┆ 5750       ┆ … ┆ 2              ┆ 2024-05-19     ┆ false        ┆ 01         │\n",
       "│ …              ┆ …                  ┆ …                 ┆ …          ┆ … ┆ …              ┆ …              ┆ …            ┆ …          │\n",
       "│ 2021-10-21     ┆ 2021-10-21         ┆ 2                 ┆ 3900       ┆ … ┆ 2,5            ┆ 2025-10-21     ┆ false        ┆ 03         │\n",
       "│ 2023-09-01     ┆ 2023-09-01         ┆ 0                 ┆ 320        ┆ … ┆ null           ┆ null           ┆ null         ┆ 01         │\n",
       "│ 2020-12-29     ┆ 2020-12-29         ┆ 1                 ┆ 4000       ┆ … ┆ 5              ┆ 2024-12-29     ┆ true         ┆ 02         │\n",
       "│ 2022-12-07     ┆ 2022-12-07         ┆ 2                 ┆ 4360       ┆ … ┆ 5,5            ┆ 2026-12-07     ┆ false        ┆ 03         │\n",
       "│ 2021-08-19     ┆ 2021-08-19         ┆ 1                 ┆ 3900       ┆ … ┆ 2              ┆ 2024-08-19     ┆ false        ┆ 09         │\n",
       "└────────────────┴────────────────────┴───────────────────┴────────────┴───┴────────────────┴────────────────┴──────────────┴────────────┘"
      ]
     },
     "execution_count": 167,
     "metadata": {},
     "output_type": "execute_result"
    }
   ],
   "source": [
    "df_preppet"
   ]
  },
  {
   "cell_type": "code",
   "execution_count": 168,
   "id": "5880ebc9-56b0-4d97-820f-e5b6b6bf735a",
   "metadata": {},
   "outputs": [],
   "source": [
    "#7. Hvor mange elbiler (drivstofftype 5) ble førstegangsregistrert i 2022?\n",
    "elbiler_2022 = df_preppet.filter(\n",
    "    (pl.col(\"er_elektrisk\")) & \n",
    "    (pl.col(\"tekn_reg_f_g_n\").dt.year() == 2022)\n",
    ")\n",
    "\n",
    "antall_elbiler_2022 = elbiler_2022.height"
   ]
  },
  {
   "cell_type": "code",
   "execution_count": 169,
   "id": "4d4cbc5b-2e88-4514-978d-97190058c5a2",
   "metadata": {},
   "outputs": [
    {
     "name": "stdout",
     "output_type": "stream",
     "text": [
      "37249\n"
     ]
    }
   ],
   "source": [
    "print(antall_elbiler_2022)"
   ]
  },
  {
   "cell_type": "code",
   "execution_count": 170,
   "id": "7e11df38-4ad9-4aaa-8476-515ea3474f09",
   "metadata": {},
   "outputs": [],
   "source": [
    "#8.Hvor mange prosent av personbilene som ble solgt i 2022 var elbiler?\n",
    "elbiler_2022 = df_preppet.filter(\n",
    "    (pl.col(\"er_elektrisk\")) & \n",
    "    (pl.col(\"tekn_reg_eier_dato\").dt.year() == 2022)\n",
    ")\n",
    "\n",
    "antall_elbiler_solgt_2022 = elbiler_2022.height"
   ]
  },
  {
   "cell_type": "code",
   "execution_count": 171,
   "id": "b98e6378-2e4d-40ca-a9b9-c34b37b4b42b",
   "metadata": {},
   "outputs": [],
   "source": [
    "alle_biler_2022 = df_preppet.filter(\n",
    "  (pl.col(\"tekn_reg_eier_dato\").dt.year() == 2022)\n",
    ")\n",
    "\n",
    "antall_biler_solgt_2022 = alle_biler_2022.height"
   ]
  },
  {
   "cell_type": "code",
   "execution_count": 172,
   "id": "be3e92dd-fd01-459c-b970-9635386865d4",
   "metadata": {},
   "outputs": [],
   "source": [
    "prosent_elbiler_solgt_2022 = (antall_elbiler_solgt_2022 / antall_biler_solgt_2022) * 100"
   ]
  },
  {
   "cell_type": "code",
   "execution_count": 173,
   "id": "e1aa886d-c0b4-40fd-aea3-a58578c09822",
   "metadata": {},
   "outputs": [
    {
     "name": "stdout",
     "output_type": "stream",
     "text": [
      "25.194972733136566\n"
     ]
    }
   ],
   "source": [
    "print(prosent_elbiler_solgt_2022)"
   ]
  },
  {
   "cell_type": "code",
   "execution_count": 174,
   "id": "09681244-7fb4-4f16-8a9d-3c6c6f053961",
   "metadata": {},
   "outputs": [],
   "source": [
    "#15. Hvilke bilmerker var de fem mest populære i 2022?\n",
    "df_2022 = df_preppet.filter(\n",
    "     (pl.col(\"tekn_reg_eier_dato\").dt.year() == 2022)\n",
    ")"
   ]
  },
  {
   "cell_type": "code",
   "execution_count": 175,
   "id": "8e4a7965-10a4-4e71-b1ec-76dc2a7f420f",
   "metadata": {},
   "outputs": [],
   "source": [
    "top_5_popular_brands=df_2022.group_by(\"tekn_modell\").agg(\n",
    "    pl.col(\"tekn_modell\").count().alias(\"antall_modeller\")\n",
    ").sort(\"antall_modeller\", descending=True).head(5)"
   ]
  },
  {
   "cell_type": "code",
   "execution_count": 180,
   "id": "74b3963e-2f61-4c02-8e60-e129fa033f0f",
   "metadata": {},
   "outputs": [
    {
     "name": "stdout",
     "output_type": "stream",
     "text": [
      "shape: (5, 2)\n",
      "┌─────────────────┬─────────────────┐\n",
      "│ tekn_modell     ┆ antall_modeller │\n",
      "│ ---             ┆ ---             │\n",
      "│ str             ┆ u32             │\n",
      "╞═════════════════╪═════════════════╡\n",
      "│ Model Y         ┆ 8401            │\n",
      "│ ID.4 GTX 220 KW ┆ 3676            │\n",
      "│ XC40            ┆ 3017            │\n",
      "│ TYSSE           ┆ 2873            │\n",
      "│ IONIQ5          ┆ 2715            │\n",
      "└─────────────────┴─────────────────┘\n"
     ]
    }
   ],
   "source": [
    "print(top_5_popular_brands)"
   ]
  },
  {
   "cell_type": "code",
   "execution_count": 185,
   "id": "352bc41b-02fd-47e3-a943-7b07946e7152",
   "metadata": {},
   "outputs": [],
   "source": [
    "#16. Hva var den mest populære fargen for de fem mest populære bilmerkene i 2022 (førstegangsregistrert 2022)\n",
    "top_5_brands_list = top_5_popular_brands['tekn_modell'].to_list()"
   ]
  },
  {
   "cell_type": "code",
   "execution_count": 186,
   "id": "feaae7be-9438-422f-b599-2e9f5030a675",
   "metadata": {},
   "outputs": [],
   "source": [
    "filtered_df = df_2022.filter(pl.col(\"tekn_modell\").is_in(top_5_brands_list))"
   ]
  },
  {
   "cell_type": "code",
   "execution_count": 187,
   "id": "bd90abe9-5ead-4818-a395-659711787300",
   "metadata": {},
   "outputs": [],
   "source": [
    "grouped_colors_df = filtered_df.group_by([\"tekn_modell\", \"tekn_farge\"]).agg(\n",
    "    pl.col(\"tekn_farge\").count().alias(\"antall_farger\")\n",
    ")"
   ]
  },
  {
   "cell_type": "code",
   "execution_count": 188,
   "id": "358e1929-5013-4df6-8850-ff6aaaa3b43a",
   "metadata": {},
   "outputs": [],
   "source": [
    "most_popular_colors = grouped_colors_df\\\n",
    "    .sort(\"antall_farger\", descending=True)\\\n",
    "    .group_by(\"tekn_modell\")\\\n",
    "    .agg(\n",
    "        pl.first(\"tekn_farge\").alias(\"mest_populær_farge\"),\n",
    "        pl.first(\"antall_farger\").alias(\"antall_farger\")\n",
    "    )\n"
   ]
  },
  {
   "cell_type": "code",
   "execution_count": 189,
   "id": "8b74fa88-eb05-445f-a6c4-d2b5361581a1",
   "metadata": {},
   "outputs": [
    {
     "name": "stdout",
     "output_type": "stream",
     "text": [
      "shape: (5, 3)\n",
      "┌─────────────────┬────────────────────┬───────────────┐\n",
      "│ tekn_modell     ┆ mest_populær_farge ┆ antall_farger │\n",
      "│ ---             ┆ ---                ┆ ---           │\n",
      "│ str             ┆ str                ┆ u32           │\n",
      "╞═════════════════╪════════════════════╪═══════════════╡\n",
      "│ XC40            ┆ 06                 ┆ 1029          │\n",
      "│ Model Y         ┆ 06                 ┆ 3431          │\n",
      "│ IONIQ5          ┆ 04                 ┆ 729           │\n",
      "│ TYSSE           ┆ 05                 ┆ 2873          │\n",
      "│ ID.4 GTX 220 KW ┆ 05                 ┆ 919           │\n",
      "└─────────────────┴────────────────────┴───────────────┘\n"
     ]
    }
   ],
   "source": [
    "print(most_popular_colors)"
   ]
  },
  {
   "cell_type": "code",
   "execution_count": 2,
   "id": "38dae5b7-2595-4220-8d0f-6c77f017473e",
   "metadata": {},
   "outputs": [],
   "source": [
    "#Hvor mange gule kjøretøy ble det solgt i Mai 2022?\n",
    "\n",
    "import pandas as pd\n",
    "\n",
    "# Les inn datasettet\n",
    "dataset = pd.read_parquet('kjoretoyinfo_preppet.parquet')\n"
   ]
  },
  {
   "cell_type": "code",
   "execution_count": 3,
   "id": "5dd0b364-76aa-4949-9c64-e7217a01e1bc",
   "metadata": {},
   "outputs": [],
   "source": [
    "dataset['tekn_reg_f_g_n'] = pd.to_datetime(dataset['tekn_reg_f_g_n'])\n"
   ]
  },
  {
   "cell_type": "code",
   "execution_count": 6,
   "id": "c7f5cf13-cf34-4629-8095-d66f7ce70868",
   "metadata": {},
   "outputs": [],
   "source": [
    "mai_2022_gule_kjoretoy = dataset[(dataset['tekn_reg_f_g_n'].dt.month == 5) & (dataset['tekn_reg_f_g_n'].dt.year == 2022) & (dataset['tekn_farge'] == 'Gul')]\n"
   ]
  },
  {
   "cell_type": "code",
   "execution_count": 7,
   "id": "90d622d5-6703-4bf3-8fcc-5d9bae195396",
   "metadata": {},
   "outputs": [],
   "source": [
    "# Tell antallet rader i det filtrerte datasettet\n",
    "antall_gule_kjoretoy = len(mai_2022_gule_kjoretoy)\n"
   ]
  },
  {
   "cell_type": "code",
   "execution_count": 8,
   "id": "d896b599-3687-41da-8914-04c4699f1971",
   "metadata": {},
   "outputs": [
    {
     "name": "stdout",
     "output_type": "stream",
     "text": [
      "Antall gule kjøretøy solgt i Mai 2022: 0\n"
     ]
    }
   ],
   "source": [
    "# Skriv ut resultatet\n",
    "print(\"Antall gule kjøretøy solgt i Mai 2022:\", antall_gule_kjoretoy)\n"
   ]
  },
  {
   "cell_type": "code",
   "execution_count": null,
   "id": "244f282f-3177-41f1-a8e9-b1d1590e09cc",
   "metadata": {},
   "outputs": [],
   "source": [
    "#Hvilken farge var den mest populære for traktorer i 2022 se teknisk kode.csv\n",
    "# Grupper dataene etter farge og tell antall forekomster av hver farge\n",
    "farge_count = dataset['tekn_farge'].value_counts()\n"
   ]
  },
  {
   "cell_type": "code",
   "execution_count": null,
   "id": "31efa57c-94b9-4404-8ed1-28ffcb118351",
   "metadata": {},
   "outputs": [],
   "source": []
  }
 ],
 "metadata": {
  "kernelspec": {
   "display_name": "Python 3 (ipykernel)",
   "language": "python",
   "name": "python3"
  },
  "language_info": {
   "codemirror_mode": {
    "name": "ipython",
    "version": 3
   },
   "file_extension": ".py",
   "mimetype": "text/x-python",
   "name": "python",
   "nbconvert_exporter": "python",
   "pygments_lexer": "ipython3",
   "version": "3.10.13"
  }
 },
 "nbformat": 4,
 "nbformat_minor": 5
}
