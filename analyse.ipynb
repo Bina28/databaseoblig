{
 "cells": [
  {
   "cell_type": "code",
   "execution_count": 21,
   "id": "b19958a3-fd8d-43e5-8c57-a24a973ce2e3",
   "metadata": {},
   "outputs": [],
   "source": [
    "import polars as pl"
   ]
  },
  {
   "cell_type": "code",
   "execution_count": 24,
   "id": "4314188d-05a0-4496-a6f5-9367690fb152",
   "metadata": {},
   "outputs": [],
   "source": [
    "df_preppet = pl.read_parquet('kjoretoyinfo_preppet.parquet')"
   ]
  },
  {
   "cell_type": "code",
   "execution_count": 25,
   "id": "263af6fc-71eb-4821-9ac0-1669356b528c",
   "metadata": {},
   "outputs": [
    {
     "data": {
      "text/html": [
       "<div><style>\n",
       ".dataframe > thead > tr,\n",
       ".dataframe > tbody > tr {\n",
       "  text-align: right;\n",
       "  white-space: pre-wrap;\n",
       "}\n",
       "</style>\n",
       "<small>shape: (554_219, 8)</small><table border=\"1\" class=\"dataframe\"><thead><tr><th>tekn_reg_f_g_n</th><th>tekn_reg_eier_dato</th><th>tekn_aksler_drift</th><th>tekn_merke</th><th>tekn_modell</th><th>tekn_drivstoff</th><th>tekn_neste_pkk</th><th>er_elektrisk</th></tr><tr><td>date</td><td>date</td><td>i64</td><td>i64</td><td>str</td><td>str</td><td>date</td><td>bool</td></tr></thead><tbody><tr><td>2021-10-13</td><td>2021-10-13</td><td>2</td><td>3900</td><td>&quot;VITO&quot;</td><td>&quot;2&quot;</td><td>2025-10-13</td><td>false</td></tr><tr><td>2020-01-29</td><td>2020-01-29</td><td>2</td><td>5750</td><td>&quot;CADDY&quot;</td><td>&quot;2&quot;</td><td>2026-01-29</td><td>false</td></tr><tr><td>2023-11-29</td><td>2023-11-29</td><td>1</td><td>2600</td><td>&quot;Mustang Mach-E…</td><td>&quot;5&quot;</td><td>2027-11-29</td><td>true</td></tr><tr><td>2020-01-27</td><td>2020-01-27</td><td>2</td><td>5750</td><td>&quot;CADDY&quot;</td><td>&quot;2&quot;</td><td>2024-01-27</td><td>false</td></tr><tr><td>2020-05-19</td><td>2020-05-19</td><td>1</td><td>5750</td><td>&quot;CRAFTER&quot;</td><td>&quot;2&quot;</td><td>2024-05-19</td><td>false</td></tr><tr><td>&hellip;</td><td>&hellip;</td><td>&hellip;</td><td>&hellip;</td><td>&hellip;</td><td>&hellip;</td><td>&hellip;</td><td>&hellip;</td></tr><tr><td>2021-10-21</td><td>2021-10-21</td><td>2</td><td>3900</td><td>&quot;GLE 350 de 4MA…</td><td>&quot;2,5&quot;</td><td>2025-10-21</td><td>false</td></tr><tr><td>2023-09-01</td><td>2023-09-01</td><td>0</td><td>320</td><td>&quot;Adora 573 PT&quot;</td><td>null</td><td>null</td><td>null</td></tr><tr><td>2020-12-29</td><td>2020-12-29</td><td>1</td><td>4000</td><td>&quot;MG ZS EV&quot;</td><td>&quot;5&quot;</td><td>2024-12-29</td><td>true</td></tr><tr><td>2022-12-07</td><td>2022-12-07</td><td>2</td><td>4360</td><td>&quot;Model Y&quot;</td><td>&quot;5,5&quot;</td><td>2026-12-07</td><td>false</td></tr><tr><td>2021-08-19</td><td>2021-08-19</td><td>1</td><td>3900</td><td>&quot;Sprinter&quot;</td><td>&quot;2&quot;</td><td>2024-08-19</td><td>false</td></tr></tbody></table></div>"
      ],
      "text/plain": [
       "shape: (554_219, 8)\n",
       "┌────────────────┬────────────────────┬───────────────────┬────────────┬───────────────────┬────────────────┬────────────────┬──────────────┐\n",
       "│ tekn_reg_f_g_n ┆ tekn_reg_eier_dato ┆ tekn_aksler_drift ┆ tekn_merke ┆ tekn_modell       ┆ tekn_drivstoff ┆ tekn_neste_pkk ┆ er_elektrisk │\n",
       "│ ---            ┆ ---                ┆ ---               ┆ ---        ┆ ---               ┆ ---            ┆ ---            ┆ ---          │\n",
       "│ date           ┆ date               ┆ i64               ┆ i64        ┆ str               ┆ str            ┆ date           ┆ bool         │\n",
       "╞════════════════╪════════════════════╪═══════════════════╪════════════╪═══════════════════╪════════════════╪════════════════╪══════════════╡\n",
       "│ 2021-10-13     ┆ 2021-10-13         ┆ 2                 ┆ 3900       ┆ VITO              ┆ 2              ┆ 2025-10-13     ┆ false        │\n",
       "│ 2020-01-29     ┆ 2020-01-29         ┆ 2                 ┆ 5750       ┆ CADDY             ┆ 2              ┆ 2026-01-29     ┆ false        │\n",
       "│ 2023-11-29     ┆ 2023-11-29         ┆ 1                 ┆ 2600       ┆ Mustang Mach-E    ┆ 5              ┆ 2027-11-29     ┆ true         │\n",
       "│ 2020-01-27     ┆ 2020-01-27         ┆ 2                 ┆ 5750       ┆ CADDY             ┆ 2              ┆ 2024-01-27     ┆ false        │\n",
       "│ 2020-05-19     ┆ 2020-05-19         ┆ 1                 ┆ 5750       ┆ CRAFTER           ┆ 2              ┆ 2024-05-19     ┆ false        │\n",
       "│ …              ┆ …                  ┆ …                 ┆ …          ┆ …                 ┆ …              ┆ …              ┆ …            │\n",
       "│ 2021-10-21     ┆ 2021-10-21         ┆ 2                 ┆ 3900       ┆ GLE 350 de 4MATIC ┆ 2,5            ┆ 2025-10-21     ┆ false        │\n",
       "│ 2023-09-01     ┆ 2023-09-01         ┆ 0                 ┆ 320        ┆ Adora 573 PT      ┆ null           ┆ null           ┆ null         │\n",
       "│ 2020-12-29     ┆ 2020-12-29         ┆ 1                 ┆ 4000       ┆ MG ZS EV          ┆ 5              ┆ 2024-12-29     ┆ true         │\n",
       "│ 2022-12-07     ┆ 2022-12-07         ┆ 2                 ┆ 4360       ┆ Model Y           ┆ 5,5            ┆ 2026-12-07     ┆ false        │\n",
       "│ 2021-08-19     ┆ 2021-08-19         ┆ 1                 ┆ 3900       ┆ Sprinter          ┆ 2              ┆ 2024-08-19     ┆ false        │\n",
       "└────────────────┴────────────────────┴───────────────────┴────────────┴───────────────────┴────────────────┴────────────────┴──────────────┘"
      ]
     },
     "execution_count": 25,
     "metadata": {},
     "output_type": "execute_result"
    }
   ],
   "source": [
    "df_preppet"
   ]
  },
  {
   "cell_type": "code",
   "execution_count": 16,
   "id": "5880ebc9-56b0-4d97-820f-e5b6b6bf735a",
   "metadata": {},
   "outputs": [],
   "source": [
    "elbiler_2022 = df_preppet.filter(\n",
    "    (pl.col(\"er_elektrisk\") & \n",
    "    (pl.col(\"tekn_reg_f_g_n\").dt.year() == 2022)\n",
    ")\n",
    "\n",
    "antall_elbiler_2022 = elbiler_2022.height"
   ]
  },
  {
   "cell_type": "code",
   "execution_count": 17,
   "id": "4d4cbc5b-2e88-4514-978d-97190058c5a2",
   "metadata": {},
   "outputs": [
    {
     "name": "stdout",
     "output_type": "stream",
     "text": [
      "37249\n"
     ]
    }
   ],
   "source": [
    "print(antall_elbiler_2022)"
   ]
  },
  {
   "cell_type": "code",
   "execution_count": 30,
   "id": "14655b7f-106b-4cfb-86ac-f78e94888130",
   "metadata": {},
   "outputs": [
    {
     "ename": "NameError",
     "evalue": "name 'personbiler_2022' is not defined",
     "output_type": "error",
     "traceback": [
      "\u001b[1;31m---------------------------------------------------------------------------\u001b[0m",
      "\u001b[1;31mNameError\u001b[0m                                 Traceback (most recent call last)",
      "Cell \u001b[1;32mIn[30], line 1\u001b[0m\n\u001b[1;32m----> 1\u001b[0m antall_personbiler_2022 \u001b[38;5;241m=\u001b[39m \u001b[43mpersonbiler_2022\u001b[49m\u001b[38;5;241m.\u001b[39mheight\n",
      "\u001b[1;31mNameError\u001b[0m: name 'personbiler_2022' is not defined"
     ]
    }
   ],
   "source": [
    "antall_personbiler_2022 = personbiler_2022.height"
   ]
  },
  {
   "cell_type": "code",
   "execution_count": 27,
   "id": "7e11df38-4ad9-4aaa-8476-515ea3474f09",
   "metadata": {},
   "outputs": [],
   "source": [
    "elbiler_2022 = df_preppet.filter(\n",
    "    (pl.col(\"er_elektrisk\")) & \n",
    "    (pl.col(\"tekn_reg_eier_dato\").dt.year() == 2022)\n",
    ")\n",
    "\n",
    "antall_elbiler_solgt_2022 = elbiler_2022.height"
   ]
  },
  {
   "cell_type": "code",
   "execution_count": null,
   "id": "be3e92dd-fd01-459c-b970-9635386865d4",
   "metadata": {},
   "outputs": [],
   "source": [
    "prosent_elbiler_solgt_2022 = (antall_elbiler_solgt_2022 / antall_personbiler_2022) * 100"
   ]
  },
  {
   "cell_type": "code",
   "execution_count": 28,
   "id": "e1aa886d-c0b4-40fd-aea3-a58578c09822",
   "metadata": {},
   "outputs": [
    {
     "name": "stdout",
     "output_type": "stream",
     "text": [
      "38670\n"
     ]
    }
   ],
   "source": [
    "print(prosent_elbiler_solgt_2022)"
   ]
  },
  {
   "cell_type": "code",
   "execution_count": null,
   "id": "8e4a7965-10a4-4e71-b1ec-76dc2a7f420f",
   "metadata": {},
   "outputs": [],
   "source": []
  }
 ],
 "metadata": {
  "kernelspec": {
   "display_name": "Python 3 (ipykernel)",
   "language": "python",
   "name": "python3"
  },
  "language_info": {
   "codemirror_mode": {
    "name": "ipython",
    "version": 3
   },
   "file_extension": ".py",
   "mimetype": "text/x-python",
   "name": "python",
   "nbconvert_exporter": "python",
   "pygments_lexer": "ipython3",
   "version": "3.10.13"
  }
 },
 "nbformat": 4,
 "nbformat_minor": 5
}
