{
 "cells": [
  {
   "cell_type": "code",
   "execution_count": 58,
   "id": "69fbaebc-155f-4789-8615-1ac1e97195f9",
   "metadata": {},
   "outputs": [
    {
     "name": "stdout",
     "output_type": "stream",
     "text": [
      "Andelen av alle biler solgt med firehjulstrekk er: 44.03530012504082%\n"
     ]
    }
   ],
   "source": [
    "#11. Hvor stor andel av personbilene bilene som selges i Norge har firehjulstrekk?\n",
    "firehjulstrekk_biler = df_preppet.filter(pl.col(\"tekn_aksler_drift\") == 2)\n",
    "\n",
    "andel_biler_solgt_firehjulstrekk = (firehjulstrekk_biler.shape[0] / df_preppet.shape[0] * 100)\n",
    "\n",
    "print(f\"Andelen av alle biler solgt med firehjulstrekk er: {andel_biler_solgt_firehjulstrekk}%\")"
   ]
  },
  {
   "cell_type": "code",
   "execution_count": 59,
   "id": "06ea9c53-d034-4546-96f7-f4c53b03ebff",
   "metadata": {},
   "outputs": [
    {
     "name": "stdout",
     "output_type": "stream",
     "text": [
      "Måneden med flest førstegangsregistreringer er: shape: (1, 2)\n",
      "┌────────────────┬───────┐\n",
      "│ tekn_reg_f_g_n ┆ count │\n",
      "│ ---            ┆ ---   │\n",
      "│ i8             ┆ u32   │\n",
      "╞════════════════╪═══════╡\n",
      "│ 12             ┆ 64905 │\n",
      "└────────────────┴───────┘\n"
     ]
    }
   ],
   "source": [
    "#12. Hvilken måned i året førstegangsregistreres det flest biler i Norge?\n",
    "førstegangsregistreres_biler = df_preppet.filter(pl.col(\"tekn_reg_f_g_n\").is_not_null())\n",
    "\n",
    "mest_populær_måned = (\n",
    "    førstegangsregistreres_biler.group_by(førstegangsregistreres_biler['tekn_reg_f_g_n'].dt.month())\n",
    "    .agg(pl.col(\"tekn_reg_f_g_n\").count().alias(\"count\"))\n",
    "    .sort(\"count\", descending=True)\n",
    "    .head(1)\n",
    ")\n",
    "\n",
    "print(f\"Måneden med flest førstegangsregistreringer er: {mest_populær_måned}\")"
   ]
  },
  {
   "cell_type": "code",
   "execution_count": null,
   "id": "b7e85b16-b198-41c5-9759-ba78d5487d1e",
   "metadata": {},
   "outputs": [],
   "source": []
  }
 ],
 "metadata": {
  "kernelspec": {
   "display_name": "Python 3 (ipykernel)",
   "language": "python",
   "name": "python3"
  },
  "language_info": {
   "codemirror_mode": {
    "name": "ipython",
    "version": 3
   },
   "file_extension": ".py",
   "mimetype": "text/x-python",
   "name": "python",
   "nbconvert_exporter": "python",
   "pygments_lexer": "ipython3",
   "version": "3.10.13"
  }
 },
 "nbformat": 4,
 "nbformat_minor": 5
}
