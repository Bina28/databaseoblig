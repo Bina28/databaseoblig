{
 "cells": [
  {
   "cell_type": "code",
   "execution_count": 32,
   "id": "15696aca-8dab-4091-a5a8-be8ae91ee074",
   "metadata": {},
   "outputs": [],
   "source": [
    "import polars as pl"
   ]
  },
  {
   "cell_type": "code",
   "execution_count": 33,
   "id": "d2048c39-0391-44d1-9743-4720914007ac",
   "metadata": {},
   "outputs": [],
   "source": [
    "df_preppet = pl.read_parquet('kjoretoyinfo_preppet.parquet')"
   ]
  },
  {
   "cell_type": "code",
   "execution_count": 34,
   "id": "34210852-5bad-4543-91a1-4302a92474b9",
   "metadata": {},
   "outputs": [
    {
     "data": {
      "text/html": [
       "<div><style>\n",
       ".dataframe > thead > tr,\n",
       ".dataframe > tbody > tr {\n",
       "  text-align: right;\n",
       "  white-space: pre-wrap;\n",
       "}\n",
       "</style>\n",
       "<small>shape: (2_692_915, 10)</small><table border=\"1\" class=\"dataframe\"><thead><tr><th>tekn_reg_f_g_n</th><th>tekn_reg_eier_dato</th><th>tekn_aksler_drift</th><th>tekn_merke</th><th>tekn_modell</th><th>tekn_drivstoff</th><th>tekn_neste_pkk</th><th>er_elektrisk</th><th>tekn_farge</th><th>tekn_kjtgrp</th></tr><tr><td>date</td><td>date</td><td>i64</td><td>i64</td><td>str</td><td>str</td><td>date</td><td>bool</td><td>str</td><td>i64</td></tr></thead><tbody><tr><td>2021-10-13</td><td>2021-10-13</td><td>2</td><td>3900</td><td>&quot;VITO&quot;</td><td>&quot;2&quot;</td><td>2025-10-13</td><td>false</td><td>&quot;05&quot;</td><td>315</td></tr><tr><td>2020-01-29</td><td>2020-01-29</td><td>2</td><td>5750</td><td>&quot;CADDY&quot;</td><td>&quot;2&quot;</td><td>2026-01-29</td><td>false</td><td>&quot;06&quot;</td><td>315</td></tr><tr><td>2023-11-29</td><td>2023-11-29</td><td>1</td><td>2600</td><td>&quot;Mustang Mach-E…</td><td>&quot;5&quot;</td><td>2027-11-29</td><td>true</td><td>&quot;06&quot;</td><td>101</td></tr><tr><td>2020-01-27</td><td>2020-01-27</td><td>2</td><td>5750</td><td>&quot;CADDY&quot;</td><td>&quot;2&quot;</td><td>2024-01-27</td><td>false</td><td>&quot;01&quot;</td><td>315</td></tr><tr><td>2019-01-30</td><td>2019-01-30</td><td>2</td><td>2600</td><td>&quot;F-150 Platinum…</td><td>&quot;2&quot;</td><td>2024-05-03</td><td>false</td><td>&quot;06&quot;</td><td>315</td></tr><tr><td>&hellip;</td><td>&hellip;</td><td>&hellip;</td><td>&hellip;</td><td>&hellip;</td><td>&hellip;</td><td>&hellip;</td><td>&hellip;</td><td>&hellip;</td><td>&hellip;</td></tr><tr><td>2003-11-27</td><td>2017-06-10</td><td>0</td><td>4350</td><td>&quot;ZAFIRA-A&quot;</td><td>&quot;1&quot;</td><td>2021-04-30</td><td>false</td><td>&quot;11&quot;</td><td>101</td></tr><tr><td>2014-01-17</td><td>2018-07-31</td><td>2</td><td>2600</td><td>&quot;RANGER&quot;</td><td>&quot;2&quot;</td><td>2024-06-30</td><td>false</td><td>&quot;05&quot;</td><td>315</td></tr><tr><td>2008-03-31</td><td>2023-07-28</td><td>0</td><td>3930</td><td>&quot;MX-5&quot;</td><td>&quot;1&quot;</td><td>2025-08-16</td><td>false</td><td>&quot;05&quot;</td><td>101</td></tr><tr><td>2015-07-31</td><td>2023-06-30</td><td>1</td><td>4500</td><td>&quot;iOn&quot;</td><td>&quot;5&quot;</td><td>2025-03-31</td><td>true</td><td>&quot;01&quot;</td><td>101</td></tr><tr><td>2004-09-21</td><td>2014-01-20</td><td>0</td><td>5750</td><td>&quot;POLO&quot;</td><td>&quot;1&quot;</td><td>null</td><td>false</td><td>&quot;11&quot;</td><td>101</td></tr></tbody></table></div>"
      ],
      "text/plain": [
       "shape: (2_692_915, 10)\n",
       "┌────────────────┬────────────────────┬───────────────────┬────────────┬───┬────────────────┬──────────────┬────────────┬─────────────┐\n",
       "│ tekn_reg_f_g_n ┆ tekn_reg_eier_dato ┆ tekn_aksler_drift ┆ tekn_merke ┆ … ┆ tekn_neste_pkk ┆ er_elektrisk ┆ tekn_farge ┆ tekn_kjtgrp │\n",
       "│ ---            ┆ ---                ┆ ---               ┆ ---        ┆   ┆ ---            ┆ ---          ┆ ---        ┆ ---         │\n",
       "│ date           ┆ date               ┆ i64               ┆ i64        ┆   ┆ date           ┆ bool         ┆ str        ┆ i64         │\n",
       "╞════════════════╪════════════════════╪═══════════════════╪════════════╪═══╪════════════════╪══════════════╪════════════╪═════════════╡\n",
       "│ 2021-10-13     ┆ 2021-10-13         ┆ 2                 ┆ 3900       ┆ … ┆ 2025-10-13     ┆ false        ┆ 05         ┆ 315         │\n",
       "│ 2020-01-29     ┆ 2020-01-29         ┆ 2                 ┆ 5750       ┆ … ┆ 2026-01-29     ┆ false        ┆ 06         ┆ 315         │\n",
       "│ 2023-11-29     ┆ 2023-11-29         ┆ 1                 ┆ 2600       ┆ … ┆ 2027-11-29     ┆ true         ┆ 06         ┆ 101         │\n",
       "│ 2020-01-27     ┆ 2020-01-27         ┆ 2                 ┆ 5750       ┆ … ┆ 2024-01-27     ┆ false        ┆ 01         ┆ 315         │\n",
       "│ 2019-01-30     ┆ 2019-01-30         ┆ 2                 ┆ 2600       ┆ … ┆ 2024-05-03     ┆ false        ┆ 06         ┆ 315         │\n",
       "│ …              ┆ …                  ┆ …                 ┆ …          ┆ … ┆ …              ┆ …            ┆ …          ┆ …           │\n",
       "│ 2003-11-27     ┆ 2017-06-10         ┆ 0                 ┆ 4350       ┆ … ┆ 2021-04-30     ┆ false        ┆ 11         ┆ 101         │\n",
       "│ 2014-01-17     ┆ 2018-07-31         ┆ 2                 ┆ 2600       ┆ … ┆ 2024-06-30     ┆ false        ┆ 05         ┆ 315         │\n",
       "│ 2008-03-31     ┆ 2023-07-28         ┆ 0                 ┆ 3930       ┆ … ┆ 2025-08-16     ┆ false        ┆ 05         ┆ 101         │\n",
       "│ 2015-07-31     ┆ 2023-06-30         ┆ 1                 ┆ 4500       ┆ … ┆ 2025-03-31     ┆ true         ┆ 01         ┆ 101         │\n",
       "│ 2004-09-21     ┆ 2014-01-20         ┆ 0                 ┆ 5750       ┆ … ┆ null           ┆ false        ┆ 11         ┆ 101         │\n",
       "└────────────────┴────────────────────┴───────────────────┴────────────┴───┴────────────────┴──────────────┴────────────┴─────────────┘"
      ]
     },
     "execution_count": 34,
     "metadata": {},
     "output_type": "execute_result"
    }
   ],
   "source": [
    "df_preppet"
   ]
  },
  {
   "cell_type": "code",
   "execution_count": 39,
   "id": "e1994051-559d-47f2-aa3f-bca58597a9fb",
   "metadata": {},
   "outputs": [
    {
     "name": "stdout",
     "output_type": "stream",
     "text": [
      "Andelen av alle biler solgt med firehjulstrekk er: 33.22689353358721%\n"
     ]
    }
   ],
   "source": [
    "#11. Hvor stor andel av personbilene bilene som selges i Norge har firehjulstrekk?\n",
    "firehjulstrekk_biler = df_preppet.filter(pl.col(\"tekn_aksler_drift\") == 2)\n",
    "\n",
    "andel_biler_solgt_firehjulstrekk = (firehjulstrekk_biler.shape[0] / df_preppet.shape[0] * 100)\n",
    "\n",
    "print(f\"Andelen av alle biler solgt med firehjulstrekk er: {andel_biler_solgt_firehjulstrekk}%\")"
   ]
  },
  {
   "cell_type": "code",
   "execution_count": 35,
   "id": "c37f2f1e-5a1f-4a21-9ee4-89561f2f92a6",
   "metadata": {},
   "outputs": [
    {
     "name": "stdout",
     "output_type": "stream",
     "text": [
      "Måneden med flest førstegangsregistreringer er: shape: (1, 2)\n",
      "┌────────────────┬────────┐\n",
      "│ tekn_reg_f_g_n ┆ count  │\n",
      "│ ---            ┆ ---    │\n",
      "│ i8             ┆ u32    │\n",
      "╞════════════════╪════════╡\n",
      "│ 6              ┆ 248455 │\n",
      "└────────────────┴────────┘\n"
     ]
    }
   ],
   "source": [
    "#12. Hvilken måned i året førstegangsregistreres det flest biler i Norge?\n",
    "førstegangsregistreres_biler = df_preppet.filter(pl.col(\"tekn_reg_f_g_n\").is_not_null())\n",
    "\n",
    "mest_populær_måned = (\n",
    "    førstegangsregistreres_biler.group_by(førstegangsregistreres_biler['tekn_reg_f_g_n'].dt.month())\n",
    "    .agg(pl.col(\"tekn_reg_f_g_n\").count().alias(\"count\"))\n",
    "    .sort(\"count\", descending=True)\n",
    "    .head(1)\n",
    ")\n",
    "\n",
    "print(f\"Måneden med flest førstegangsregistreringer er: {mest_populær_måned}\")\n"
   ]
  },
  {
   "cell_type": "code",
   "execution_count": 40,
   "id": "3ec3963a-9473-476f-839e-796781d51d30",
   "metadata": {},
   "outputs": [
    {
     "name": "stdout",
     "output_type": "stream",
     "text": [
      "Den mest populære fargen for traktorer i 2022 var: 04\n"
     ]
    }
   ],
   "source": [
    "#14. Hvilken farge var den mest populære for traktorer i 2022? (se teknisk-kode.csv)\n",
    "df_preppet = pl.read_parquet(\"kjoretoyinfo_preppet.parquet\")\n",
    "\n",
    "traktorer_2022 = df_preppet.filter(\n",
    "    (pl.col(\"tekn_kjtgrp\") == 401) &  \n",
    "    (pl.col(\"tekn_reg_f_g_n\").dt.year() == 2022)\n",
    ")\n",
    "\n",
    "populær_farge = traktorer_2022.group_by(\"tekn_farge\").agg(pl.col(\"tekn_farge\").count().alias(\"count\"))\n",
    "\n",
    "populær_farge = populær_farge.sort(\"count\", descending=True)\n",
    "\n",
    "populær_farge = populær_farge.get_column('tekn_farge')[0]\n",
    "\n",
    "print(f\"Den mest populære fargen for traktorer i 2022 var: {populær_farge}\")\n"
   ]
  },
  {
   "cell_type": "code",
   "execution_count": null,
   "id": "a9809ece-8f19-4dd6-887a-0bcf10acf328",
   "metadata": {},
   "outputs": [],
   "source": []
  }
 ],
 "metadata": {
  "kernelspec": {
   "display_name": "Python 3 (ipykernel)",
   "language": "python",
   "name": "python3"
  },
  "language_info": {
   "codemirror_mode": {
    "name": "ipython",
    "version": 3
   },
   "file_extension": ".py",
   "mimetype": "text/x-python",
   "name": "python",
   "nbconvert_exporter": "python",
   "pygments_lexer": "ipython3",
   "version": "3.10.13"
  }
 },
 "nbformat": 4,
 "nbformat_minor": 5
}
