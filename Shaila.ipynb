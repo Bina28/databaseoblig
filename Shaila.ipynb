{
 "cells": [
  {
   "cell_type": "code",
   "execution_count": 7,
   "id": "2a87ba4e-6517-4582-91b9-34f51ceecccf",
   "metadata": {},
   "outputs": [],
   "source": [
    "#bruk av pandas pga. polars/pl funker ikke\n",
    "import pandas as pd "
   ]
  },
  {
   "cell_type": "code",
   "execution_count": 8,
   "id": "007d8265-898b-4cfd-b96b-d217f0057d5b",
   "metadata": {},
   "outputs": [
    {
     "name": "stdout",
     "output_type": "stream",
     "text": [
      "Ingen personbiler med informasjon om firehjulsdrift funnet.\n"
     ]
    }
   ],
   "source": [
    "#11. Hvor stor andel av personbilene bilene som selges i Norge har firehjulstrekk?\n",
    "file_path = \"kjoretoyinfo_preppet.parquet\"\n",
    "df = pd.read_parquet(file_path)\n",
    "\n",
    "relevant_kolonner = [\"tekn_aksler_drift\"]\n",
    "\n",
    "personbiler_df = df[df[\"tekn_modell\"] == \"Personbil\"]\n",
    "\n",
    "filtered_df = personbiler_df[relevant_kolonner]\n",
    "\n",
    "firehjulstrekk_andel = (filtered_df[\"tekn_aksler_drift\"] == \"To aksler er firehjulsdrift\").mean() * 100\n",
    "\n",
    "print(f\"Andelen personbiler med firehjulstrekk er: {firehjulstrekk_andel}%\" \n",
    "      if pd.notna(firehjulstrekk_andel) \n",
    "        else \"Ingen personbiler med informasjon om firehjulsdrift funnet.\")"
   ]
  },
  {
   "cell_type": "code",
   "execution_count": 9,
   "id": "5b4ccadb-f82d-408e-af58-2d2ebc27284c",
   "metadata": {},
   "outputs": [
    {
     "name": "stdout",
     "output_type": "stream",
     "text": [
      "Måneden med flest førstegangsregistreringer er: 12\n"
     ]
    }
   ],
   "source": [
    "#12. Hvilken måned i året førstegangsregistreres det flest biler i Norge?\n",
    "file_path = \"kjoretoyinfo_preppet.parquet\"\n",
    "df = pd.read_parquet(file_path, engine='pyarrow')\n",
    "\n",
    "df['tekn_reg_f_g_n'] = pd.to_datetime(df['tekn_reg_f_g_n'], errors='coerce')\n",
    "\n",
    "mest_populær_måned = df['tekn_reg_f_g_n'].dt.month.value_counts().idxmax()\n",
    "\n",
    "print(f\"Måneden med flest førstegangsregistreringer er: {mest_populær_måned}\")"
   ]
  }
 ],
 "metadata": {
  "kernelspec": {
   "display_name": "Python 3 (ipykernel)",
   "language": "python",
   "name": "python3"
  },
  "language_info": {
   "codemirror_mode": {
    "name": "ipython",
    "version": 3
   },
   "file_extension": ".py",
   "mimetype": "text/x-python",
   "name": "python",
   "nbconvert_exporter": "python",
   "pygments_lexer": "ipython3",
   "version": "3.10.13"
  }
 },
 "nbformat": 4,
 "nbformat_minor": 5
}
