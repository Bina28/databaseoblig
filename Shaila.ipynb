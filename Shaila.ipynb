{
 "cells": [
  {
   "cell_type": "code",
   "execution_count": 4,
   "id": "15696aca-8dab-4091-a5a8-be8ae91ee074",
   "metadata": {},
   "outputs": [
    {
     "ename": "NameError",
     "evalue": "name 'teknisk_kode' is not defined",
     "output_type": "error",
     "traceback": [
      "\u001b[1;31m---------------------------------------------------------------------------\u001b[0m",
      "\u001b[1;31mNameError\u001b[0m                                 Traceback (most recent call last)",
      "Cell \u001b[1;32mIn[4], line 1\u001b[0m\n\u001b[1;32m----> 1\u001b[0m traktorer_2022 \u001b[38;5;241m=\u001b[39m \u001b[43mteknisk_kode\u001b[49m\u001b[38;5;241m.\u001b[39mfilter(\n\u001b[0;32m      2\u001b[0m     (pl\u001b[38;5;241m.\u001b[39mcol(\u001b[38;5;124m\"\u001b[39m\u001b[38;5;124mkjøretøy_type\u001b[39m\u001b[38;5;124m\"\u001b[39m) \u001b[38;5;241m==\u001b[39m \u001b[38;5;124m\"\u001b[39m\u001b[38;5;124mtraktor\u001b[39m\u001b[38;5;124m\"\u001b[39m) \u001b[38;5;241m&\u001b[39m\n\u001b[0;32m      3\u001b[0m     (pl\u001b[38;5;241m.\u001b[39mcol(\u001b[38;5;124m\"\u001b[39m\u001b[38;5;124mtekn_reg_dato\u001b[39m\u001b[38;5;124m\"\u001b[39m)\u001b[38;5;241m.\u001b[39myear() \u001b[38;5;241m==\u001b[39m \u001b[38;5;241m2022\u001b[39m)\n\u001b[0;32m      4\u001b[0m )\n\u001b[0;32m      6\u001b[0m farge_counts \u001b[38;5;241m=\u001b[39m traktorer_2022\u001b[38;5;241m.\u001b[39mgroupby(\u001b[38;5;124m\"\u001b[39m\u001b[38;5;124mfarge\u001b[39m\u001b[38;5;124m\"\u001b[39m)\u001b[38;5;241m.\u001b[39magg(pl\u001b[38;5;241m.\u001b[39mcol(\u001b[38;5;124m\"\u001b[39m\u001b[38;5;124mfarge\u001b[39m\u001b[38;5;124m\"\u001b[39m)\u001b[38;5;241m.\u001b[39mcount()\u001b[38;5;241m.\u001b[39malias(\u001b[38;5;124m\"\u001b[39m\u001b[38;5;124mantall\u001b[39m\u001b[38;5;124m\"\u001b[39m))\n\u001b[0;32m      8\u001b[0m mest_populær_farge \u001b[38;5;241m=\u001b[39m farge_counts\u001b[38;5;241m.\u001b[39msort(\u001b[38;5;124m\"\u001b[39m\u001b[38;5;124mantall\u001b[39m\u001b[38;5;124m\"\u001b[39m, descending\u001b[38;5;241m=\u001b[39m\u001b[38;5;28;01mTrue\u001b[39;00m)\u001b[38;5;241m.\u001b[39mget(\u001b[38;5;241m0\u001b[39m)[\u001b[38;5;124m\"\u001b[39m\u001b[38;5;124mfarge\u001b[39m\u001b[38;5;124m\"\u001b[39m]\n",
      "\u001b[1;31mNameError\u001b[0m: name 'teknisk_kode' is not defined"
     ]
    }
   ],
   "source": [
    "traktorer_2022 = teknisk_kode.filter(\n",
    "    (pl.col(\"kjøretøy_type\") == \"traktor\") &\n",
    "    (pl.col(\"tekn_reg_dato\").year() == 2022)\n",
    ")\n",
    "\n",
    "farge_counts = traktorer_2022.groupby(\"farge\").agg(pl.col(\"farge\").count().alias(\"antall\"))\n",
    "\n",
    "mest_populær_farge = farge_counts.sort(\"antall\", descending=True).get(0)[\"farge\"]\n",
    "\n",
    "print(f\"Den mest populære fargen for traktorer i 2022 var: {mest_populær_farge}\")"
   ]
  },
  {
   "cell_type": "code",
   "execution_count": 2,
   "id": "73459713-6872-408d-94fe-a78521aed00a",
   "metadata": {},
   "outputs": [
    {
     "ename": "NameError",
     "evalue": "name 'df_preppet' is not defined",
     "output_type": "error",
     "traceback": [
      "\u001b[1;31m---------------------------------------------------------------------------\u001b[0m",
      "\u001b[1;31mNameError\u001b[0m                                 Traceback (most recent call last)",
      "Cell \u001b[1;32mIn[2], line 2\u001b[0m\n\u001b[0;32m      1\u001b[0m \u001b[38;5;66;03m#10. Hvor mange gule kjøretøy ble det solgt i Mai 2022?\u001b[39;00m\n\u001b[1;32m----> 2\u001b[0m gule_kjoretoy_mai_2022 \u001b[38;5;241m=\u001b[39m \u001b[43mdf_preppet\u001b[49m\u001b[38;5;241m.\u001b[39mfilter(\n\u001b[0;32m      3\u001b[0m     (pl\u001b[38;5;241m.\u001b[39mcol(\u001b[38;5;124m\"\u001b[39m\u001b[38;5;124mtekn_farge\u001b[39m\u001b[38;5;124m\"\u001b[39m) \u001b[38;5;241m==\u001b[39m \u001b[38;5;124m\"\u001b[39m\u001b[38;5;124mgul\u001b[39m\u001b[38;5;124m\"\u001b[39m) \u001b[38;5;241m&\u001b[39m \n\u001b[0;32m      4\u001b[0m     (pl\u001b[38;5;241m.\u001b[39mcol(\u001b[38;5;124m\"\u001b[39m\u001b[38;5;124mtekn_reg_eier_dato\u001b[39m\u001b[38;5;124m\"\u001b[39m)\u001b[38;5;241m.\u001b[39mdt\u001b[38;5;241m.\u001b[39myear() \u001b[38;5;241m==\u001b[39m \u001b[38;5;241m2022\u001b[39m) \u001b[38;5;241m&\u001b[39m \n\u001b[0;32m      5\u001b[0m     (pl\u001b[38;5;241m.\u001b[39mcol(\u001b[38;5;124m\"\u001b[39m\u001b[38;5;124mtekn_reg_eier_dato\u001b[39m\u001b[38;5;124m\"\u001b[39m)\u001b[38;5;241m.\u001b[39mdt\u001b[38;5;241m.\u001b[39mmonth() \u001b[38;5;241m==\u001b[39m \u001b[38;5;241m5\u001b[39m)\n\u001b[0;32m      6\u001b[0m )\n\u001b[0;32m      8\u001b[0m antall_gule_kjoretoy_mai_2022 \u001b[38;5;241m=\u001b[39m gule_kjoretoy_mai_2022\u001b[38;5;241m.\u001b[39mshape[\u001b[38;5;241m0\u001b[39m]\n\u001b[0;32m     10\u001b[0m \u001b[38;5;28mprint\u001b[39m(\u001b[38;5;124mf\u001b[39m\u001b[38;5;124m\"\u001b[39m\u001b[38;5;124mAntall gule kjøretøy solgt i mai 2022: \u001b[39m\u001b[38;5;132;01m{\u001b[39;00mantall_gule_kjoretoy_mai_2022\u001b[38;5;132;01m}\u001b[39;00m\u001b[38;5;124m\"\u001b[39m)\n",
      "\u001b[1;31mNameError\u001b[0m: name 'df_preppet' is not defined"
     ]
    }
   ],
   "source": [
    "#10. Hvor mange gule kjøretøy ble det solgt i Mai 2022?\n",
    "gule_kjoretoy_mai_2022 = df_preppet.filter(\n",
    "    (pl.col(\"tekn_farge\") == \"gul\") & \n",
    "    (pl.col(\"tekn_reg_eier_dato\").dt.year() == 2022) & \n",
    "    (pl.col(\"tekn_reg_eier_dato\").dt.month() == 5)\n",
    ")\n",
    "\n",
    "antall_gule_kjoretoy_mai_2022 = gule_kjoretoy_mai_2022.shape[0]\n",
    "\n",
    "print(f\"Antall gule kjøretøy solgt i mai 2022: {antall_gule_kjoretoy_mai_2022}\")"
   ]
  },
  {
   "cell_type": "code",
   "execution_count": 58,
   "id": "69fbaebc-155f-4789-8615-1ac1e97195f9",
   "metadata": {},
   "outputs": [
    {
     "name": "stdout",
     "output_type": "stream",
     "text": [
      "Andelen av alle biler solgt med firehjulstrekk er: 44.03530012504082%\n"
     ]
    }
   ],
   "source": [
    "#11. Hvor stor andel av personbilene bilene som selges i Norge har firehjulstrekk?\n",
    "firehjulstrekk_biler = df_preppet.filter(pl.col(\"tekn_aksler_drift\") == 2)\n",
    "\n",
    "andel_biler_solgt_firehjulstrekk = (firehjulstrekk_biler.shape[0] / df_preppet.shape[0] * 100)\n",
    "\n",
    "print(f\"Andelen av alle biler solgt med firehjulstrekk er: {andel_biler_solgt_firehjulstrekk}%\")"
   ]
  },
  {
   "cell_type": "code",
   "execution_count": 59,
   "id": "06ea9c53-d034-4546-96f7-f4c53b03ebff",
   "metadata": {},
   "outputs": [
    {
     "name": "stdout",
     "output_type": "stream",
     "text": [
      "Måneden med flest førstegangsregistreringer er: shape: (1, 2)\n",
      "┌────────────────┬───────┐\n",
      "│ tekn_reg_f_g_n ┆ count │\n",
      "│ ---            ┆ ---   │\n",
      "│ i8             ┆ u32   │\n",
      "╞════════════════╪═══════╡\n",
      "│ 12             ┆ 64905 │\n",
      "└────────────────┴───────┘\n"
     ]
    }
   ],
   "source": [
    "#12. Hvilken måned i året førstegangsregistreres det flest biler i Norge?\n",
    "førstegangsregistreres_biler = df_preppet.filter(pl.col(\"tekn_reg_f_g_n\").is_not_null())\n",
    "\n",
    "mest_populær_måned = (\n",
    "    førstegangsregistreres_biler.group_by(førstegangsregistreres_biler['tekn_reg_f_g_n'].dt.month())\n",
    "    .agg(pl.col(\"tekn_reg_f_g_n\").count().alias(\"count\"))\n",
    "    .sort(\"count\", descending=True)\n",
    "    .head(1)\n",
    ")\n",
    "\n",
    "print(f\"Måneden med flest førstegangsregistreringer er: {mest_populær_måned}\")"
   ]
  },
  {
   "cell_type": "code",
   "execution_count": null,
   "id": "b7e85b16-b198-41c5-9759-ba78d5487d1e",
   "metadata": {},
   "outputs": [],
   "source": []
  }
 ],
 "metadata": {
  "kernelspec": {
   "display_name": "Python 3 (ipykernel)",
   "language": "python",
   "name": "python3"
  },
  "language_info": {
   "codemirror_mode": {
    "name": "ipython",
    "version": 3
   },
   "file_extension": ".py",
   "mimetype": "text/x-python",
   "name": "python",
   "nbconvert_exporter": "python",
   "pygments_lexer": "ipython3",
   "version": "3.10.13"
  }
 },
 "nbformat": 4,
 "nbformat_minor": 5
}
