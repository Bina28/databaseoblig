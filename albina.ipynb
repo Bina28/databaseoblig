{
 "cells": [
  {
   "cell_type": "code",
   "execution_count": 44,
   "id": "95888dd5-601a-4bb4-97d5-c9c30779db97",
   "metadata": {},
   "outputs": [],
   "source": [
    "import polars as pl"
   ]
  },
  {
   "cell_type": "code",
   "execution_count": 45,
   "id": "81ff4fbc-464f-4476-87d6-1aa6dc222f77",
   "metadata": {},
   "outputs": [],
   "source": [
    "df_preppet = pl.read_parquet('tests/testdata/kjoretoyinfo_2022_jan.parquet')"
   ]
  },
  {
   "cell_type": "code",
   "execution_count": 71,
   "id": "848b73e6-2c6a-4e9f-b2b3-1f292cde62bf",
   "metadata": {},
   "outputs": [
    {
     "data": {
      "text/html": [
       "<div><style>\n",
       ".dataframe > thead > tr,\n",
       ".dataframe > tbody > tr {\n",
       "  text-align: right;\n",
       "  white-space: pre-wrap;\n",
       "}\n",
       "</style>\n",
       "<small>shape: (6_596, 11)</small><table border=\"1\" class=\"dataframe\"><thead><tr><th>tekn_reg_f_g</th><th>tekn_reg_f_g_n</th><th>tekn_reg_eier_dato</th><th>tekn_merke</th><th>tekn_modell</th><th>tekn_farge</th><th>tekn_drivstoff</th><th>tekn_siste_pkk</th><th>tekn_neste_pkk</th><th>tekn_aksler_drift</th><th>tekn_sitteplasser_totalt</th></tr><tr><td>i64</td><td>i64</td><td>i64</td><td>i64</td><td>str</td><td>str</td><td>str</td><td>str</td><td>str</td><td>i64</td><td>i64</td></tr></thead><tbody><tr><td>20220113</td><td>20220113</td><td>20220113</td><td>1230</td><td>&quot;E TRON 55&quot;</td><td>&quot;11&quot;</td><td>&quot;5,5&quot;</td><td>null</td><td>&quot;20260113&quot;</td><td>2</td><td>5</td></tr><tr><td>20220113</td><td>20220113</td><td>20230214</td><td>9380</td><td>&quot;XUV855M&quot;</td><td>&quot;04&quot;</td><td>&quot;2&quot;</td><td>null</td><td>null</td><td>2</td><td>2</td></tr><tr><td>20220126</td><td>20220126</td><td>20240116</td><td>1471</td><td>&quot;BACKCOUNTRY 85…</td><td>&quot;06&quot;</td><td>&quot;1&quot;</td><td>null</td><td>null</td><td>0</td><td>1</td></tr><tr><td>20220110</td><td>20220110</td><td>20230425</td><td>7740</td><td>&quot;HONDA MSX125AM…</td><td>&quot;06&quot;</td><td>&quot;1&quot;</td><td>null</td><td>null</td><td>1</td><td>2</td></tr><tr><td>20220124</td><td>20220124</td><td>20220124</td><td>3900</td><td>&quot;EQC 400 4MATIC…</td><td>&quot;03&quot;</td><td>&quot;5&quot;</td><td>null</td><td>&quot;20260124&quot;</td><td>2</td><td>5</td></tr><tr><td>&hellip;</td><td>&hellip;</td><td>&hellip;</td><td>&hellip;</td><td>&hellip;</td><td>&hellip;</td><td>&hellip;</td><td>&hellip;</td><td>&hellip;</td><td>&hellip;</td><td>&hellip;</td></tr><tr><td>20220125</td><td>20220125</td><td>20220125</td><td>8250</td><td>&quot;650 Matryx SB …</td><td>&quot;06&quot;</td><td>&quot;1&quot;</td><td>null</td><td>null</td><td>0</td><td>1</td></tr><tr><td>20220131</td><td>20220131</td><td>20231215</td><td>5480</td><td>&quot;YARIS CROSS&quot;</td><td>&quot;01&quot;</td><td>&quot;1,5,5&quot;</td><td>null</td><td>&quot;20260131&quot;</td><td>2</td><td>5</td></tr><tr><td>20220112</td><td>20220112</td><td>20230309</td><td>5150</td><td>&quot;ENYAQ 80X&quot;</td><td>&quot;03&quot;</td><td>&quot;5,5&quot;</td><td>null</td><td>&quot;20260112&quot;</td><td>2</td><td>5</td></tr><tr><td>20220118</td><td>20220118</td><td>20220118</td><td>3900</td><td>&quot;VITO&quot;</td><td>&quot;11&quot;</td><td>&quot;2&quot;</td><td>null</td><td>&quot;20260118&quot;</td><td>2</td><td>3</td></tr><tr><td>20220112</td><td>20220112</td><td>20220112</td><td>4350</td><td>&quot;ZAFIRA LIFE&quot;</td><td>&quot;05&quot;</td><td>&quot;5&quot;</td><td>null</td><td>&quot;20260112&quot;</td><td>1</td><td>8</td></tr></tbody></table></div>"
      ],
      "text/plain": [
       "shape: (6_596, 11)\n",
       "┌──────────────┬────────────────┬────────────────────┬────────────┬───┬────────────────┬────────────────┬───────────────────┬──────────────────────────┐\n",
       "│ tekn_reg_f_g ┆ tekn_reg_f_g_n ┆ tekn_reg_eier_dato ┆ tekn_merke ┆ … ┆ tekn_siste_pkk ┆ tekn_neste_pkk ┆ tekn_aksler_drift ┆ tekn_sitteplasser_totalt │\n",
       "│ ---          ┆ ---            ┆ ---                ┆ ---        ┆   ┆ ---            ┆ ---            ┆ ---               ┆ ---                      │\n",
       "│ i64          ┆ i64            ┆ i64                ┆ i64        ┆   ┆ str            ┆ str            ┆ i64               ┆ i64                      │\n",
       "╞══════════════╪════════════════╪════════════════════╪════════════╪═══╪════════════════╪════════════════╪═══════════════════╪══════════════════════════╡\n",
       "│ 20220113     ┆ 20220113       ┆ 20220113           ┆ 1230       ┆ … ┆ null           ┆ 20260113       ┆ 2                 ┆ 5                        │\n",
       "│ 20220113     ┆ 20220113       ┆ 20230214           ┆ 9380       ┆ … ┆ null           ┆ null           ┆ 2                 ┆ 2                        │\n",
       "│ 20220126     ┆ 20220126       ┆ 20240116           ┆ 1471       ┆ … ┆ null           ┆ null           ┆ 0                 ┆ 1                        │\n",
       "│ 20220110     ┆ 20220110       ┆ 20230425           ┆ 7740       ┆ … ┆ null           ┆ null           ┆ 1                 ┆ 2                        │\n",
       "│ 20220124     ┆ 20220124       ┆ 20220124           ┆ 3900       ┆ … ┆ null           ┆ 20260124       ┆ 2                 ┆ 5                        │\n",
       "│ …            ┆ …              ┆ …                  ┆ …          ┆ … ┆ …              ┆ …              ┆ …                 ┆ …                        │\n",
       "│ 20220125     ┆ 20220125       ┆ 20220125           ┆ 8250       ┆ … ┆ null           ┆ null           ┆ 0                 ┆ 1                        │\n",
       "│ 20220131     ┆ 20220131       ┆ 20231215           ┆ 5480       ┆ … ┆ null           ┆ 20260131       ┆ 2                 ┆ 5                        │\n",
       "│ 20220112     ┆ 20220112       ┆ 20230309           ┆ 5150       ┆ … ┆ null           ┆ 20260112       ┆ 2                 ┆ 5                        │\n",
       "│ 20220118     ┆ 20220118       ┆ 20220118           ┆ 3900       ┆ … ┆ null           ┆ 20260118       ┆ 2                 ┆ 3                        │\n",
       "│ 20220112     ┆ 20220112       ┆ 20220112           ┆ 4350       ┆ … ┆ null           ┆ 20260112       ┆ 1                 ┆ 8                        │\n",
       "└──────────────┴────────────────┴────────────────────┴────────────┴───┴────────────────┴────────────────┴───────────────────┴──────────────────────────┘"
      ]
     },
     "execution_count": 71,
     "metadata": {},
     "output_type": "execute_result"
    }
   ],
   "source": [
    "df_preppet"
   ]
  },
  {
   "cell_type": "code",
   "execution_count": 72,
   "id": "65e16999-9338-4eec-a038-3e3f920a8240",
   "metadata": {},
   "outputs": [],
   "source": [
    "filtered_df = df_preppet.filter(\n",
    "    (pl.col(\"tekn_neste_pkk\") == pl.lit(\"20260101\"))\n",
    ")"
   ]
  },
  {
   "cell_type": "code",
   "execution_count": 73,
   "id": "30e7eda3-9d6a-4fe0-9498-bdbb223c7542",
   "metadata": {},
   "outputs": [
    {
     "data": {
      "text/html": [
       "<div><style>\n",
       ".dataframe > thead > tr,\n",
       ".dataframe > tbody > tr {\n",
       "  text-align: right;\n",
       "  white-space: pre-wrap;\n",
       "}\n",
       "</style>\n",
       "<small>shape: (1, 11)</small><table border=\"1\" class=\"dataframe\"><thead><tr><th>tekn_reg_f_g</th><th>tekn_reg_f_g_n</th><th>tekn_reg_eier_dato</th><th>tekn_merke</th><th>tekn_modell</th><th>tekn_farge</th><th>tekn_drivstoff</th><th>tekn_siste_pkk</th><th>tekn_neste_pkk</th><th>tekn_aksler_drift</th><th>tekn_sitteplasser_totalt</th></tr><tr><td>i64</td><td>i64</td><td>i64</td><td>i64</td><td>str</td><td>str</td><td>str</td><td>str</td><td>str</td><td>i64</td><td>i64</td></tr></thead><tbody><tr><td>20220101</td><td>20220101</td><td>20220101</td><td>4500</td><td>&quot;2008&quot;</td><td>&quot;06&quot;</td><td>&quot;5&quot;</td><td>null</td><td>&quot;20260101&quot;</td><td>1</td><td>5</td></tr></tbody></table></div>"
      ],
      "text/plain": [
       "shape: (1, 11)\n",
       "┌──────────────┬────────────────┬────────────────────┬────────────┬───┬────────────────┬────────────────┬───────────────────┬──────────────────────────┐\n",
       "│ tekn_reg_f_g ┆ tekn_reg_f_g_n ┆ tekn_reg_eier_dato ┆ tekn_merke ┆ … ┆ tekn_siste_pkk ┆ tekn_neste_pkk ┆ tekn_aksler_drift ┆ tekn_sitteplasser_totalt │\n",
       "│ ---          ┆ ---            ┆ ---                ┆ ---        ┆   ┆ ---            ┆ ---            ┆ ---               ┆ ---                      │\n",
       "│ i64          ┆ i64            ┆ i64                ┆ i64        ┆   ┆ str            ┆ str            ┆ i64               ┆ i64                      │\n",
       "╞══════════════╪════════════════╪════════════════════╪════════════╪═══╪════════════════╪════════════════╪═══════════════════╪══════════════════════════╡\n",
       "│ 20220101     ┆ 20220101       ┆ 20220101           ┆ 4500       ┆ … ┆ null           ┆ 20260101       ┆ 1                 ┆ 5                        │\n",
       "└──────────────┴────────────────┴────────────────────┴────────────┴───┴────────────────┴────────────────┴───────────────────┴──────────────────────────┘"
      ]
     },
     "execution_count": 73,
     "metadata": {},
     "output_type": "execute_result"
    }
   ],
   "source": [
    "filtered_df"
   ]
  },
  {
   "cell_type": "code",
   "execution_count": null,
   "id": "c6b16e88-6ef1-4db2-b1d0-6b426c4c46e8",
   "metadata": {},
   "outputs": [],
   "source": []
  },
  {
   "cell_type": "code",
   "execution_count": null,
   "id": "91f571d1-6594-43a8-928e-56bf50ca2b84",
   "metadata": {},
   "outputs": [],
   "source": [
    "  df = df_preppet.with_columns([\n",
    "        pl.col(\"tekn_reg_f_g_n\").cast(pl.Utf8).str.to_date(format=\"%Y%m%d\").alias(\"tekn_reg_f_g_n\"),\n",
    "        pl.col(\"tekn_reg_eier_dato\").cast(pl.Utf8).str.to_date(format=\"%Y%m%d\").alias(\"tekn_reg_eier_dato\"),\n",
    "        pl.col(\"tekn_neste_pkk\").cast(pl.Utf8).str.to_date(format=\"%Y%m%d\", strict=False).alias(\"tekn_neste_pkk\")\n",
    "    ])"
   ]
  }
 ],
 "metadata": {
  "kernelspec": {
   "display_name": "Python 3 (ipykernel)",
   "language": "python",
   "name": "python3"
  },
  "language_info": {
   "codemirror_mode": {
    "name": "ipython",
    "version": 3
   },
   "file_extension": ".py",
   "mimetype": "text/x-python",
   "name": "python",
   "nbconvert_exporter": "python",
   "pygments_lexer": "ipython3",
   "version": "3.10.13"
  }
 },
 "nbformat": 4,
 "nbformat_minor": 5
}
