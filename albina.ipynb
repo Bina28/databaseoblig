{
 "cells": [
  {
   "cell_type": "code",
   "execution_count": 66,
   "id": "95888dd5-601a-4bb4-97d5-c9c30779db97",
   "metadata": {},
   "outputs": [],
   "source": [
    "import polars as pl"
   ]
  },
  {
   "cell_type": "code",
   "execution_count": 67,
   "id": "81ff4fbc-464f-4476-87d6-1aa6dc222f77",
   "metadata": {},
   "outputs": [],
   "source": [
    "df_preppet = pl.read_parquet('kjoretoyinfo_preppet.parquet')"
   ]
  },
  {
   "cell_type": "code",
   "execution_count": 68,
   "id": "65e16999-9338-4eec-a038-3e3f920a8240",
   "metadata": {},
   "outputs": [
    {
     "data": {
      "text/html": [
       "<div><style>\n",
       ".dataframe > thead > tr,\n",
       ".dataframe > tbody > tr {\n",
       "  text-align: right;\n",
       "  white-space: pre-wrap;\n",
       "}\n",
       "</style>\n",
       "<small>shape: (2_692_915, 10)</small><table border=\"1\" class=\"dataframe\"><thead><tr><th>tekn_reg_f_g_n</th><th>tekn_reg_eier_dato</th><th>tekn_aksler_drift</th><th>tekn_merke</th><th>tekn_modell</th><th>tekn_drivstoff</th><th>tekn_neste_pkk</th><th>er_elektrisk</th><th>tekn_farge</th><th>tekn_kjtgrp</th></tr><tr><td>date</td><td>date</td><td>i64</td><td>i64</td><td>str</td><td>str</td><td>date</td><td>bool</td><td>str</td><td>i64</td></tr></thead><tbody><tr><td>2021-10-13</td><td>2021-10-13</td><td>2</td><td>3900</td><td>&quot;VITO&quot;</td><td>&quot;2&quot;</td><td>2025-10-13</td><td>false</td><td>&quot;05&quot;</td><td>315</td></tr><tr><td>2020-01-29</td><td>2020-01-29</td><td>2</td><td>5750</td><td>&quot;CADDY&quot;</td><td>&quot;2&quot;</td><td>2026-01-29</td><td>false</td><td>&quot;06&quot;</td><td>315</td></tr><tr><td>2023-11-29</td><td>2023-11-29</td><td>1</td><td>2600</td><td>&quot;Mustang Mach-E…</td><td>&quot;5&quot;</td><td>2027-11-29</td><td>true</td><td>&quot;06&quot;</td><td>101</td></tr><tr><td>2020-01-27</td><td>2020-01-27</td><td>2</td><td>5750</td><td>&quot;CADDY&quot;</td><td>&quot;2&quot;</td><td>2024-01-27</td><td>false</td><td>&quot;01&quot;</td><td>315</td></tr><tr><td>2019-01-30</td><td>2019-01-30</td><td>2</td><td>2600</td><td>&quot;F-150 Platinum…</td><td>&quot;2&quot;</td><td>2024-05-03</td><td>false</td><td>&quot;06&quot;</td><td>315</td></tr><tr><td>&hellip;</td><td>&hellip;</td><td>&hellip;</td><td>&hellip;</td><td>&hellip;</td><td>&hellip;</td><td>&hellip;</td><td>&hellip;</td><td>&hellip;</td><td>&hellip;</td></tr><tr><td>2003-11-27</td><td>2017-06-10</td><td>0</td><td>4350</td><td>&quot;ZAFIRA-A&quot;</td><td>&quot;1&quot;</td><td>2021-04-30</td><td>false</td><td>&quot;11&quot;</td><td>101</td></tr><tr><td>2014-01-17</td><td>2018-07-31</td><td>2</td><td>2600</td><td>&quot;RANGER&quot;</td><td>&quot;2&quot;</td><td>2024-06-30</td><td>false</td><td>&quot;05&quot;</td><td>315</td></tr><tr><td>2008-03-31</td><td>2023-07-28</td><td>0</td><td>3930</td><td>&quot;MX-5&quot;</td><td>&quot;1&quot;</td><td>2025-08-16</td><td>false</td><td>&quot;05&quot;</td><td>101</td></tr><tr><td>2015-07-31</td><td>2023-06-30</td><td>1</td><td>4500</td><td>&quot;iOn&quot;</td><td>&quot;5&quot;</td><td>2025-03-31</td><td>true</td><td>&quot;01&quot;</td><td>101</td></tr><tr><td>2004-09-21</td><td>2014-01-20</td><td>0</td><td>5750</td><td>&quot;POLO&quot;</td><td>&quot;1&quot;</td><td>null</td><td>false</td><td>&quot;11&quot;</td><td>101</td></tr></tbody></table></div>"
      ],
      "text/plain": [
       "shape: (2_692_915, 10)\n",
       "┌────────────────┬────────────────────┬───────────────────┬────────────┬───┬────────────────┬──────────────┬────────────┬─────────────┐\n",
       "│ tekn_reg_f_g_n ┆ tekn_reg_eier_dato ┆ tekn_aksler_drift ┆ tekn_merke ┆ … ┆ tekn_neste_pkk ┆ er_elektrisk ┆ tekn_farge ┆ tekn_kjtgrp │\n",
       "│ ---            ┆ ---                ┆ ---               ┆ ---        ┆   ┆ ---            ┆ ---          ┆ ---        ┆ ---         │\n",
       "│ date           ┆ date               ┆ i64               ┆ i64        ┆   ┆ date           ┆ bool         ┆ str        ┆ i64         │\n",
       "╞════════════════╪════════════════════╪═══════════════════╪════════════╪═══╪════════════════╪══════════════╪════════════╪═════════════╡\n",
       "│ 2021-10-13     ┆ 2021-10-13         ┆ 2                 ┆ 3900       ┆ … ┆ 2025-10-13     ┆ false        ┆ 05         ┆ 315         │\n",
       "│ 2020-01-29     ┆ 2020-01-29         ┆ 2                 ┆ 5750       ┆ … ┆ 2026-01-29     ┆ false        ┆ 06         ┆ 315         │\n",
       "│ 2023-11-29     ┆ 2023-11-29         ┆ 1                 ┆ 2600       ┆ … ┆ 2027-11-29     ┆ true         ┆ 06         ┆ 101         │\n",
       "│ 2020-01-27     ┆ 2020-01-27         ┆ 2                 ┆ 5750       ┆ … ┆ 2024-01-27     ┆ false        ┆ 01         ┆ 315         │\n",
       "│ 2019-01-30     ┆ 2019-01-30         ┆ 2                 ┆ 2600       ┆ … ┆ 2024-05-03     ┆ false        ┆ 06         ┆ 315         │\n",
       "│ …              ┆ …                  ┆ …                 ┆ …          ┆ … ┆ …              ┆ …            ┆ …          ┆ …           │\n",
       "│ 2003-11-27     ┆ 2017-06-10         ┆ 0                 ┆ 4350       ┆ … ┆ 2021-04-30     ┆ false        ┆ 11         ┆ 101         │\n",
       "│ 2014-01-17     ┆ 2018-07-31         ┆ 2                 ┆ 2600       ┆ … ┆ 2024-06-30     ┆ false        ┆ 05         ┆ 315         │\n",
       "│ 2008-03-31     ┆ 2023-07-28         ┆ 0                 ┆ 3930       ┆ … ┆ 2025-08-16     ┆ false        ┆ 05         ┆ 101         │\n",
       "│ 2015-07-31     ┆ 2023-06-30         ┆ 1                 ┆ 4500       ┆ … ┆ 2025-03-31     ┆ true         ┆ 01         ┆ 101         │\n",
       "│ 2004-09-21     ┆ 2014-01-20         ┆ 0                 ┆ 5750       ┆ … ┆ null           ┆ false        ┆ 11         ┆ 101         │\n",
       "└────────────────┴────────────────────┴───────────────────┴────────────┴───┴────────────────┴──────────────┴────────────┴─────────────┘"
      ]
     },
     "execution_count": 68,
     "metadata": {},
     "output_type": "execute_result"
    }
   ],
   "source": [
    "df_preppet"
   ]
  },
  {
   "cell_type": "code",
   "execution_count": 97,
   "id": "2217ae02-41b0-4225-aa09-7315f12edd2d",
   "metadata": {},
   "outputs": [],
   "source": [
    "df_traktorer = df_preppet.filter(df_preppet['tekn_kjtgrp'] == 401)"
   ]
  },
  {
   "cell_type": "code",
   "execution_count": 106,
   "id": "f1653338-83bb-4e63-b6d0-c8078633fa3b",
   "metadata": {},
   "outputs": [],
   "source": [
    "df_2022 = df_traktorer.filter(pl.col(\"tekn_reg_eier_dato\").dt.year() == 2022)"
   ]
  },
  {
   "cell_type": "code",
   "execution_count": 107,
   "id": "e6d5d3f4-95ea-46c6-9902-93dc1f80763c",
   "metadata": {},
   "outputs": [],
   "source": [
    "mest_populær_farge=df_2022.group_by(\"tekn_farge\").agg(\n",
    "    pl.col(\"tekn_farge\").count().alias(\"antall_forekomster\")\n",
    ").sort(\"antall_forekomster\", descending=True).head(1)\n"
   ]
  },
  {
   "cell_type": "code",
   "execution_count": 108,
   "id": "ca463db5-fae0-47e1-b9d0-ebb84e7653f7",
   "metadata": {},
   "outputs": [
    {
     "name": "stdout",
     "output_type": "stream",
     "text": [
      "shape: (1, 2)\n",
      "┌────────────┬────────────────────┐\n",
      "│ tekn_farge ┆ antall_forekomster │\n",
      "│ ---        ┆ ---                │\n",
      "│ str        ┆ u32                │\n",
      "╞════════════╪════════════════════╡\n",
      "│ 04         ┆ 3238               │\n",
      "└────────────┴────────────────────┘\n"
     ]
    }
   ],
   "source": [
    "print(mest_populær_farge)"
   ]
  },
  {
   "cell_type": "code",
   "execution_count": null,
   "id": "30e7eda3-9d6a-4fe0-9498-bdbb223c7542",
   "metadata": {},
   "outputs": [],
   "source": []
  },
  {
   "cell_type": "code",
   "execution_count": null,
   "id": "c6b16e88-6ef1-4db2-b1d0-6b426c4c46e8",
   "metadata": {},
   "outputs": [],
   "source": []
  }
 ],
 "metadata": {
  "kernelspec": {
   "display_name": "Python 3 (ipykernel)",
   "language": "python",
   "name": "python3"
  },
  "language_info": {
   "codemirror_mode": {
    "name": "ipython",
    "version": 3
   },
   "file_extension": ".py",
   "mimetype": "text/x-python",
   "name": "python",
   "nbconvert_exporter": "python",
   "pygments_lexer": "ipython3",
   "version": "3.10.13"
  }
 },
 "nbformat": 4,
 "nbformat_minor": 5
}
