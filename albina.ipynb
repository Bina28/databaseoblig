{
 "cells": [
  {
   "cell_type": "code",
   "execution_count": 117,
   "id": "95888dd5-601a-4bb4-97d5-c9c30779db97",
   "metadata": {},
   "outputs": [],
   "source": [
    "import polars as pl"
   ]
  },
  {
   "cell_type": "code",
   "execution_count": 119,
   "id": "81ff4fbc-464f-4476-87d6-1aa6dc222f77",
   "metadata": {},
   "outputs": [],
   "source": [
    "df_preppet = pl.read_parquet('kjoretoyinfo_preppet.parquet')"
   ]
  },
  {
   "cell_type": "code",
   "execution_count": 126,
   "id": "65e16999-9338-4eec-a038-3e3f920a8240",
   "metadata": {},
   "outputs": [
    {
     "data": {
      "text/html": [
       "<div><style>\n",
       ".dataframe > thead > tr,\n",
       ".dataframe > tbody > tr {\n",
       "  text-align: right;\n",
       "  white-space: pre-wrap;\n",
       "}\n",
       "</style>\n",
       "<small>shape: (2_692_915, 10)</small><table border=\"1\" class=\"dataframe\"><thead><tr><th>tekn_reg_f_g_n</th><th>tekn_reg_eier_dato</th><th>tekn_aksler_drift</th><th>tekn_merke</th><th>tekn_modell</th><th>tekn_drivstoff</th><th>tekn_neste_pkk</th><th>er_elektrisk</th><th>tekn_farge</th><th>tekn_kjtgrp</th></tr><tr><td>date</td><td>date</td><td>i64</td><td>i64</td><td>str</td><td>str</td><td>date</td><td>bool</td><td>str</td><td>i64</td></tr></thead><tbody><tr><td>2021-10-13</td><td>2021-10-13</td><td>2</td><td>3900</td><td>&quot;VITO&quot;</td><td>&quot;2&quot;</td><td>2025-10-13</td><td>false</td><td>&quot;05&quot;</td><td>315</td></tr><tr><td>2020-01-29</td><td>2020-01-29</td><td>2</td><td>5750</td><td>&quot;CADDY&quot;</td><td>&quot;2&quot;</td><td>2026-01-29</td><td>false</td><td>&quot;06&quot;</td><td>315</td></tr><tr><td>2023-11-29</td><td>2023-11-29</td><td>1</td><td>2600</td><td>&quot;Mustang Mach-E…</td><td>&quot;5&quot;</td><td>2027-11-29</td><td>true</td><td>&quot;06&quot;</td><td>101</td></tr><tr><td>2020-01-27</td><td>2020-01-27</td><td>2</td><td>5750</td><td>&quot;CADDY&quot;</td><td>&quot;2&quot;</td><td>2024-01-27</td><td>false</td><td>&quot;01&quot;</td><td>315</td></tr><tr><td>2019-01-30</td><td>2019-01-30</td><td>2</td><td>2600</td><td>&quot;F-150 Platinum…</td><td>&quot;2&quot;</td><td>2024-05-03</td><td>false</td><td>&quot;06&quot;</td><td>315</td></tr><tr><td>&hellip;</td><td>&hellip;</td><td>&hellip;</td><td>&hellip;</td><td>&hellip;</td><td>&hellip;</td><td>&hellip;</td><td>&hellip;</td><td>&hellip;</td><td>&hellip;</td></tr><tr><td>2003-11-27</td><td>2017-06-10</td><td>0</td><td>4350</td><td>&quot;ZAFIRA-A&quot;</td><td>&quot;1&quot;</td><td>2021-04-30</td><td>false</td><td>&quot;11&quot;</td><td>101</td></tr><tr><td>2014-01-17</td><td>2018-07-31</td><td>2</td><td>2600</td><td>&quot;RANGER&quot;</td><td>&quot;2&quot;</td><td>2024-06-30</td><td>false</td><td>&quot;05&quot;</td><td>315</td></tr><tr><td>2008-03-31</td><td>2023-07-28</td><td>0</td><td>3930</td><td>&quot;MX-5&quot;</td><td>&quot;1&quot;</td><td>2025-08-16</td><td>false</td><td>&quot;05&quot;</td><td>101</td></tr><tr><td>2015-07-31</td><td>2023-06-30</td><td>1</td><td>4500</td><td>&quot;iOn&quot;</td><td>&quot;5&quot;</td><td>2025-03-31</td><td>true</td><td>&quot;01&quot;</td><td>101</td></tr><tr><td>2004-09-21</td><td>2014-01-20</td><td>0</td><td>5750</td><td>&quot;POLO&quot;</td><td>&quot;1&quot;</td><td>null</td><td>false</td><td>&quot;11&quot;</td><td>101</td></tr></tbody></table></div>"
      ],
      "text/plain": [
       "shape: (2_692_915, 10)\n",
       "┌────────────────┬────────────────────┬───────────────────┬────────────┬───┬────────────────┬──────────────┬────────────┬─────────────┐\n",
       "│ tekn_reg_f_g_n ┆ tekn_reg_eier_dato ┆ tekn_aksler_drift ┆ tekn_merke ┆ … ┆ tekn_neste_pkk ┆ er_elektrisk ┆ tekn_farge ┆ tekn_kjtgrp │\n",
       "│ ---            ┆ ---                ┆ ---               ┆ ---        ┆   ┆ ---            ┆ ---          ┆ ---        ┆ ---         │\n",
       "│ date           ┆ date               ┆ i64               ┆ i64        ┆   ┆ date           ┆ bool         ┆ str        ┆ i64         │\n",
       "╞════════════════╪════════════════════╪═══════════════════╪════════════╪═══╪════════════════╪══════════════╪════════════╪═════════════╡\n",
       "│ 2021-10-13     ┆ 2021-10-13         ┆ 2                 ┆ 3900       ┆ … ┆ 2025-10-13     ┆ false        ┆ 05         ┆ 315         │\n",
       "│ 2020-01-29     ┆ 2020-01-29         ┆ 2                 ┆ 5750       ┆ … ┆ 2026-01-29     ┆ false        ┆ 06         ┆ 315         │\n",
       "│ 2023-11-29     ┆ 2023-11-29         ┆ 1                 ┆ 2600       ┆ … ┆ 2027-11-29     ┆ true         ┆ 06         ┆ 101         │\n",
       "│ 2020-01-27     ┆ 2020-01-27         ┆ 2                 ┆ 5750       ┆ … ┆ 2024-01-27     ┆ false        ┆ 01         ┆ 315         │\n",
       "│ 2019-01-30     ┆ 2019-01-30         ┆ 2                 ┆ 2600       ┆ … ┆ 2024-05-03     ┆ false        ┆ 06         ┆ 315         │\n",
       "│ …              ┆ …                  ┆ …                 ┆ …          ┆ … ┆ …              ┆ …            ┆ …          ┆ …           │\n",
       "│ 2003-11-27     ┆ 2017-06-10         ┆ 0                 ┆ 4350       ┆ … ┆ 2021-04-30     ┆ false        ┆ 11         ┆ 101         │\n",
       "│ 2014-01-17     ┆ 2018-07-31         ┆ 2                 ┆ 2600       ┆ … ┆ 2024-06-30     ┆ false        ┆ 05         ┆ 315         │\n",
       "│ 2008-03-31     ┆ 2023-07-28         ┆ 0                 ┆ 3930       ┆ … ┆ 2025-08-16     ┆ false        ┆ 05         ┆ 101         │\n",
       "│ 2015-07-31     ┆ 2023-06-30         ┆ 1                 ┆ 4500       ┆ … ┆ 2025-03-31     ┆ true         ┆ 01         ┆ 101         │\n",
       "│ 2004-09-21     ┆ 2014-01-20         ┆ 0                 ┆ 5750       ┆ … ┆ null           ┆ false        ┆ 11         ┆ 101         │\n",
       "└────────────────┴────────────────────┴───────────────────┴────────────┴───┴────────────────┴──────────────┴────────────┴─────────────┘"
      ]
     },
     "execution_count": 126,
     "metadata": {},
     "output_type": "execute_result"
    }
   ],
   "source": [
    "df_preppet"
   ]
  },
  {
   "cell_type": "code",
   "execution_count": 127,
   "id": "d141a1a9-7e04-4345-acb6-d28f5b46dd3d",
   "metadata": {},
   "outputs": [
    {
     "ename": "ComputeError",
     "evalue": "conversion from `str` to `date` failed in column 'tekn_reg_f_g_n' for 2692915 out of 2692915 values: [\"2021-10-13\", \"2020-01-29\", … \"2004-09-21\"]\n\nYou might want to try:\n- setting `strict=False` to set values that cannot be converted to `null`\n- using `str.strptime`, `str.to_date`, or `str.to_datetime` and providing a format string",
     "output_type": "error",
     "traceback": [
      "\u001b[1;31m---------------------------------------------------------------------------\u001b[0m",
      "\u001b[1;31mComputeError\u001b[0m                              Traceback (most recent call last)",
      "Cell \u001b[1;32mIn[127], line 1\u001b[0m\n\u001b[1;32m----> 1\u001b[0m df \u001b[38;5;241m=\u001b[39m \u001b[43mdf_preppet\u001b[49m\u001b[38;5;241;43m.\u001b[39;49m\u001b[43mwith_columns\u001b[49m\u001b[43m(\u001b[49m\u001b[43m[\u001b[49m\n\u001b[0;32m      2\u001b[0m \u001b[43m     \u001b[49m\u001b[43mpl\u001b[49m\u001b[38;5;241;43m.\u001b[39;49m\u001b[43mcol\u001b[49m\u001b[43m(\u001b[49m\u001b[38;5;124;43m\"\u001b[39;49m\u001b[38;5;124;43mtekn_reg_f_g_n\u001b[39;49m\u001b[38;5;124;43m\"\u001b[39;49m\u001b[43m)\u001b[49m\u001b[38;5;241;43m.\u001b[39;49m\u001b[43mcast\u001b[49m\u001b[43m(\u001b[49m\u001b[43mpl\u001b[49m\u001b[38;5;241;43m.\u001b[39;49m\u001b[43mUtf8\u001b[49m\u001b[43m)\u001b[49m\u001b[38;5;241;43m.\u001b[39;49m\u001b[43mstr\u001b[49m\u001b[38;5;241;43m.\u001b[39;49m\u001b[43mto_date\u001b[49m\u001b[43m(\u001b[49m\u001b[38;5;28;43mformat\u001b[39;49m\u001b[38;5;241;43m=\u001b[39;49m\u001b[38;5;124;43m\"\u001b[39;49m\u001b[38;5;124;43m%\u001b[39;49m\u001b[38;5;124;43mY\u001b[39;49m\u001b[38;5;124;43m%\u001b[39;49m\u001b[38;5;124;43mm\u001b[39;49m\u001b[38;5;132;43;01m%d\u001b[39;49;00m\u001b[38;5;124;43m\"\u001b[39;49m\u001b[43m)\u001b[49m\u001b[38;5;241;43m.\u001b[39;49m\u001b[43malias\u001b[49m\u001b[43m(\u001b[49m\u001b[38;5;124;43m\"\u001b[39;49m\u001b[38;5;124;43mtekn_reg_f_g_n\u001b[39;49m\u001b[38;5;124;43m\"\u001b[39;49m\u001b[43m)\u001b[49m\u001b[43m,\u001b[49m\n\u001b[0;32m      3\u001b[0m \u001b[43m     \u001b[49m\u001b[43mpl\u001b[49m\u001b[38;5;241;43m.\u001b[39;49m\u001b[43mcol\u001b[49m\u001b[43m(\u001b[49m\u001b[38;5;124;43m\"\u001b[39;49m\u001b[38;5;124;43mtekn_reg_eier_dato\u001b[39;49m\u001b[38;5;124;43m\"\u001b[39;49m\u001b[43m)\u001b[49m\u001b[38;5;241;43m.\u001b[39;49m\u001b[43mcast\u001b[49m\u001b[43m(\u001b[49m\u001b[43mpl\u001b[49m\u001b[38;5;241;43m.\u001b[39;49m\u001b[43mUtf8\u001b[49m\u001b[43m)\u001b[49m\u001b[38;5;241;43m.\u001b[39;49m\u001b[43mstr\u001b[49m\u001b[38;5;241;43m.\u001b[39;49m\u001b[43mto_date\u001b[49m\u001b[43m(\u001b[49m\u001b[38;5;28;43mformat\u001b[39;49m\u001b[38;5;241;43m=\u001b[39;49m\u001b[38;5;124;43m\"\u001b[39;49m\u001b[38;5;124;43m%\u001b[39;49m\u001b[38;5;124;43mY\u001b[39;49m\u001b[38;5;124;43m%\u001b[39;49m\u001b[38;5;124;43mm\u001b[39;49m\u001b[38;5;132;43;01m%d\u001b[39;49;00m\u001b[38;5;124;43m\"\u001b[39;49m\u001b[43m)\u001b[49m\u001b[38;5;241;43m.\u001b[39;49m\u001b[43malias\u001b[49m\u001b[43m(\u001b[49m\u001b[38;5;124;43m\"\u001b[39;49m\u001b[38;5;124;43mtekn_reg_eier_dato\u001b[39;49m\u001b[38;5;124;43m\"\u001b[39;49m\u001b[43m)\u001b[49m\u001b[43m,\u001b[49m\n\u001b[0;32m      4\u001b[0m \u001b[43m     \u001b[49m\u001b[43mpl\u001b[49m\u001b[38;5;241;43m.\u001b[39;49m\u001b[43mcol\u001b[49m\u001b[43m(\u001b[49m\u001b[38;5;124;43m\"\u001b[39;49m\u001b[38;5;124;43mtekn_neste_pkk\u001b[39;49m\u001b[38;5;124;43m\"\u001b[39;49m\u001b[43m)\u001b[49m\u001b[38;5;241;43m.\u001b[39;49m\u001b[43mcast\u001b[49m\u001b[43m(\u001b[49m\u001b[43mpl\u001b[49m\u001b[38;5;241;43m.\u001b[39;49m\u001b[43mUtf8\u001b[49m\u001b[43m)\u001b[49m\u001b[38;5;241;43m.\u001b[39;49m\u001b[43mstr\u001b[49m\u001b[38;5;241;43m.\u001b[39;49m\u001b[43mto_date\u001b[49m\u001b[43m(\u001b[49m\u001b[38;5;28;43mformat\u001b[39;49m\u001b[38;5;241;43m=\u001b[39;49m\u001b[38;5;124;43m\"\u001b[39;49m\u001b[38;5;124;43m%\u001b[39;49m\u001b[38;5;124;43mY\u001b[39;49m\u001b[38;5;124;43m%\u001b[39;49m\u001b[38;5;124;43mm\u001b[39;49m\u001b[38;5;132;43;01m%d\u001b[39;49;00m\u001b[38;5;124;43m\"\u001b[39;49m\u001b[43m,\u001b[49m\u001b[43m \u001b[49m\u001b[43mstrict\u001b[49m\u001b[38;5;241;43m=\u001b[39;49m\u001b[38;5;28;43;01mFalse\u001b[39;49;00m\u001b[43m)\u001b[49m\u001b[38;5;241;43m.\u001b[39;49m\u001b[43malias\u001b[49m\u001b[43m(\u001b[49m\u001b[38;5;124;43m\"\u001b[39;49m\u001b[38;5;124;43mtekn_neste_pkk\u001b[39;49m\u001b[38;5;124;43m\"\u001b[39;49m\u001b[43m)\u001b[49m\n\u001b[0;32m      5\u001b[0m \u001b[43m \u001b[49m\u001b[43m]\u001b[49m\u001b[43m)\u001b[49m\n",
      "File \u001b[1;32m~\\anaconda3\\envs\\databaseoblig\\lib\\site-packages\\polars\\dataframe\\frame.py:8289\u001b[0m, in \u001b[0;36mDataFrame.with_columns\u001b[1;34m(self, *exprs, **named_exprs)\u001b[0m\n\u001b[0;32m   8143\u001b[0m \u001b[38;5;28;01mdef\u001b[39;00m \u001b[38;5;21mwith_columns\u001b[39m(\n\u001b[0;32m   8144\u001b[0m     \u001b[38;5;28mself\u001b[39m,\n\u001b[0;32m   8145\u001b[0m     \u001b[38;5;241m*\u001b[39mexprs: IntoExpr \u001b[38;5;241m|\u001b[39m Iterable[IntoExpr],\n\u001b[0;32m   8146\u001b[0m     \u001b[38;5;241m*\u001b[39m\u001b[38;5;241m*\u001b[39mnamed_exprs: IntoExpr,\n\u001b[0;32m   8147\u001b[0m ) \u001b[38;5;241m-\u001b[39m\u001b[38;5;241m>\u001b[39m DataFrame:\n\u001b[0;32m   8148\u001b[0m \u001b[38;5;250m    \u001b[39m\u001b[38;5;124;03m\"\"\"\u001b[39;00m\n\u001b[0;32m   8149\u001b[0m \u001b[38;5;124;03m    Add columns to this DataFrame.\u001b[39;00m\n\u001b[0;32m   8150\u001b[0m \n\u001b[1;32m   (...)\u001b[0m\n\u001b[0;32m   8287\u001b[0m \u001b[38;5;124;03m    └─────┴──────┴─────────────┘\u001b[39;00m\n\u001b[0;32m   8288\u001b[0m \u001b[38;5;124;03m    \"\"\"\u001b[39;00m\n\u001b[1;32m-> 8289\u001b[0m     \u001b[38;5;28;01mreturn\u001b[39;00m \u001b[38;5;28;43mself\u001b[39;49m\u001b[38;5;241;43m.\u001b[39;49m\u001b[43mlazy\u001b[49m\u001b[43m(\u001b[49m\u001b[43m)\u001b[49m\u001b[38;5;241;43m.\u001b[39;49m\u001b[43mwith_columns\u001b[49m\u001b[43m(\u001b[49m\u001b[38;5;241;43m*\u001b[39;49m\u001b[43mexprs\u001b[49m\u001b[43m,\u001b[49m\u001b[43m \u001b[49m\u001b[38;5;241;43m*\u001b[39;49m\u001b[38;5;241;43m*\u001b[39;49m\u001b[43mnamed_exprs\u001b[49m\u001b[43m)\u001b[49m\u001b[38;5;241;43m.\u001b[39;49m\u001b[43mcollect\u001b[49m\u001b[43m(\u001b[49m\u001b[43m_eager\u001b[49m\u001b[38;5;241;43m=\u001b[39;49m\u001b[38;5;28;43;01mTrue\u001b[39;49;00m\u001b[43m)\u001b[49m\n",
      "File \u001b[1;32m~\\anaconda3\\envs\\databaseoblig\\lib\\site-packages\\polars\\lazyframe\\frame.py:1934\u001b[0m, in \u001b[0;36mLazyFrame.collect\u001b[1;34m(self, type_coercion, predicate_pushdown, projection_pushdown, simplify_expression, slice_pushdown, comm_subplan_elim, comm_subexpr_elim, no_optimization, streaming, background, _eager)\u001b[0m\n\u001b[0;32m   1931\u001b[0m \u001b[38;5;28;01mif\u001b[39;00m background:\n\u001b[0;32m   1932\u001b[0m     \u001b[38;5;28;01mreturn\u001b[39;00m InProcessQuery(ldf\u001b[38;5;241m.\u001b[39mcollect_concurrently())\n\u001b[1;32m-> 1934\u001b[0m \u001b[38;5;28;01mreturn\u001b[39;00m wrap_df(\u001b[43mldf\u001b[49m\u001b[38;5;241;43m.\u001b[39;49m\u001b[43mcollect\u001b[49m\u001b[43m(\u001b[49m\u001b[43m)\u001b[49m)\n",
      "\u001b[1;31mComputeError\u001b[0m: conversion from `str` to `date` failed in column 'tekn_reg_f_g_n' for 2692915 out of 2692915 values: [\"2021-10-13\", \"2020-01-29\", … \"2004-09-21\"]\n\nYou might want to try:\n- setting `strict=False` to set values that cannot be converted to `null`\n- using `str.strptime`, `str.to_date`, or `str.to_datetime` and providing a format string"
     ]
    }
   ],
   "source": [
    "   df = df_preppet.with_columns([\n",
    "        pl.col(\"tekn_reg_f_g_n\").cast(pl.Utf8).str.to_date(format=\"%Y%m%d\").alias(\"tekn_reg_f_g_n\"),\n",
    "        pl.col(\"tekn_reg_eier_dato\").cast(pl.Utf8).str.to_date(format=\"%Y%m%d\").alias(\"tekn_reg_eier_dato\"),\n",
    "        pl.col(\"tekn_neste_pkk\").cast(pl.Utf8).str.to_date(format=\"%Y%m%d\", strict=False).alias(\"tekn_neste_pkk\")\n",
    "    ])"
   ]
  },
  {
   "cell_type": "code",
   "execution_count": null,
   "id": "1e068324-6bee-49d2-9ecd-c5a121eb6466",
   "metadata": {},
   "outputs": [],
   "source": [
    "date_2022_01_01 = date(2022, 1, 1)"
   ]
  },
  {
   "cell_type": "code",
   "execution_count": null,
   "id": "5a168e22-7c06-401d-b9c9-ea96afb032d4",
   "metadata": {},
   "outputs": [],
   "source": [
    "df_2022_01_01 = df_preppet.filter(pl.col('tekn_reg_eier_dato') == date_2022_01_01)"
   ]
  },
  {
   "cell_type": "code",
   "execution_count": null,
   "id": "8cbef64a-d38d-490d-8a2b-bc6708b217a1",
   "metadata": {},
   "outputs": [],
   "source": [
    "print(df_2022_01_01)"
   ]
  },
  {
   "cell_type": "code",
   "execution_count": null,
   "id": "3bd90300-ba53-4cbf-b1bf-e39af3d771ca",
   "metadata": {},
   "outputs": [],
   "source": [
    "df_2022_01_01 = df_preppet.filter(pl.col('tekn_reg_eier_dato') == '2022-01-01')"
   ]
  },
  {
   "cell_type": "code",
   "execution_count": null,
   "id": "f52bc750-7a19-4738-9044-2e3bff006ab8",
   "metadata": {},
   "outputs": [],
   "source": []
  },
  {
   "cell_type": "code",
   "execution_count": 113,
   "id": "9b07f40c-fe90-4b95-b3f7-ca383854ae7b",
   "metadata": {},
   "outputs": [
    {
     "ename": "NameError",
     "evalue": "name 'df_2022_01_01' is not defined",
     "output_type": "error",
     "traceback": [
      "\u001b[1;31m---------------------------------------------------------------------------\u001b[0m",
      "\u001b[1;31mNameError\u001b[0m                                 Traceback (most recent call last)",
      "Cell \u001b[1;32mIn[113], line 1\u001b[0m\n\u001b[1;32m----> 1\u001b[0m \u001b[38;5;28mprint\u001b[39m(\u001b[43mdf_2022_01_01\u001b[49m)\n",
      "\u001b[1;31mNameError\u001b[0m: name 'df_2022_01_01' is not defined"
     ]
    }
   ],
   "source": [
    "print(df_2022_01_01)"
   ]
  },
  {
   "cell_type": "code",
   "execution_count": 97,
   "id": "2217ae02-41b0-4225-aa09-7315f12edd2d",
   "metadata": {},
   "outputs": [],
   "source": [
    "df_traktorer = df_preppet.filter(df_preppet['tekn_kjtgrp'] == 401)"
   ]
  },
  {
   "cell_type": "code",
   "execution_count": 106,
   "id": "f1653338-83bb-4e63-b6d0-c8078633fa3b",
   "metadata": {},
   "outputs": [],
   "source": [
    "df_2022 = df_traktorer.filter(pl.col(\"tekn_reg_eier_dato\").dt.year() == 2022)"
   ]
  },
  {
   "cell_type": "code",
   "execution_count": 107,
   "id": "e6d5d3f4-95ea-46c6-9902-93dc1f80763c",
   "metadata": {},
   "outputs": [],
   "source": [
    "mest_populær_farge=df_2022.group_by(\"tekn_farge\").agg(\n",
    "    pl.col(\"tekn_farge\").count().alias(\"antall_forekomster\")\n",
    ").sort(\"antall_forekomster\", descending=True).head(1)\n"
   ]
  },
  {
   "cell_type": "code",
   "execution_count": 108,
   "id": "ca463db5-fae0-47e1-b9d0-ebb84e7653f7",
   "metadata": {},
   "outputs": [
    {
     "name": "stdout",
     "output_type": "stream",
     "text": [
      "shape: (1, 2)\n",
      "┌────────────┬────────────────────┐\n",
      "│ tekn_farge ┆ antall_forekomster │\n",
      "│ ---        ┆ ---                │\n",
      "│ str        ┆ u32                │\n",
      "╞════════════╪════════════════════╡\n",
      "│ 04         ┆ 3238               │\n",
      "└────────────┴────────────────────┘\n"
     ]
    }
   ],
   "source": [
    "print(mest_populær_farge)"
   ]
  },
  {
   "cell_type": "code",
   "execution_count": null,
   "id": "30e7eda3-9d6a-4fe0-9498-bdbb223c7542",
   "metadata": {},
   "outputs": [],
   "source": []
  },
  {
   "cell_type": "code",
   "execution_count": null,
   "id": "c6b16e88-6ef1-4db2-b1d0-6b426c4c46e8",
   "metadata": {},
   "outputs": [],
   "source": []
  }
 ],
 "metadata": {
  "kernelspec": {
   "display_name": "Python 3 (ipykernel)",
   "language": "python",
   "name": "python3"
  },
  "language_info": {
   "codemirror_mode": {
    "name": "ipython",
    "version": 3
   },
   "file_extension": ".py",
   "mimetype": "text/x-python",
   "name": "python",
   "nbconvert_exporter": "python",
   "pygments_lexer": "ipython3",
   "version": "3.10.13"
  }
 },
 "nbformat": 4,
 "nbformat_minor": 5
}
